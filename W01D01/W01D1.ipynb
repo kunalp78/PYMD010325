{
 "cells": [
  {
   "cell_type": "code",
   "execution_count": 1,
   "id": "31b8864a-9774-43ec-a3cd-d89c42a25665",
   "metadata": {},
   "outputs": [
    {
     "name": "stdout",
     "output_type": "stream",
     "text": [
      "Hello world\n"
     ]
    }
   ],
   "source": [
    "print(\"Hello world\")"
   ]
  },
  {
   "cell_type": "code",
   "execution_count": null,
   "id": "08c1d590-240b-4a34-a886-8d6aae2800cc",
   "metadata": {},
   "outputs": [],
   "source": [
    "single line --> single quote --> '<...>'\n",
    "                double quote --> \"<...>\"\n",
    "multi line string --> triple quote --> single quote --> '''<....\n",
    "                                                            ....>'''\n",
    "                                       double quote --> \"\"\"<....\n",
    "                                                           .....>\"\"\""
   ]
  },
  {
   "cell_type": "code",
   "execution_count": 2,
   "id": "c4798cb7-752d-4911-aa08-5a691133097d",
   "metadata": {},
   "outputs": [
    {
     "data": {
      "text/plain": [
       "'hello world'"
      ]
     },
     "execution_count": 2,
     "metadata": {},
     "output_type": "execute_result"
    }
   ],
   "source": [
    "\"hello world\""
   ]
  },
  {
   "cell_type": "code",
   "execution_count": 3,
   "id": "1d4f77a5-4aba-49fc-aba9-d2e140114836",
   "metadata": {},
   "outputs": [
    {
     "ename": "SyntaxError",
     "evalue": "unterminated string literal (detected at line 1) (117753939.py, line 1)",
     "output_type": "error",
     "traceback": [
      "  \u001b[36mCell\u001b[39m\u001b[36m \u001b[39m\u001b[32mIn[3]\u001b[39m\u001b[32m, line 1\u001b[39m\n\u001b[31m    \u001b[39m\u001b[31m\"hello world\u001b[39m\n    ^\n\u001b[31mSyntaxError\u001b[39m\u001b[31m:\u001b[39m unterminated string literal (detected at line 1)\n"
     ]
    }
   ],
   "source": [
    "\"hello world\n",
    "I am coming\""
   ]
  },
  {
   "cell_type": "code",
   "execution_count": 4,
   "id": "510b5cd6-d1bc-4cd7-9625-3ad3d747edd1",
   "metadata": {},
   "outputs": [
    {
     "data": {
      "text/plain": [
       "'Hello world\\nI am coming'"
      ]
     },
     "execution_count": 4,
     "metadata": {},
     "output_type": "execute_result"
    }
   ],
   "source": [
    "\"\"\"Hello world\n",
    "I am coming\"\"\""
   ]
  },
  {
   "cell_type": "markdown",
   "id": "d83603df-fa69-42a7-a119-894468936216",
   "metadata": {},
   "source": [
    "### Syntax rules"
   ]
  },
  {
   "cell_type": "code",
   "execution_count": null,
   "id": "c8a215ea-ce21-4187-8d33-7e9e42c2210b",
   "metadata": {},
   "outputs": [],
   "source": [
    "1) Case sensetive"
   ]
  },
  {
   "cell_type": "code",
   "execution_count": 5,
   "id": "98b0a0dd-603b-4f59-b62e-dc9459fc038c",
   "metadata": {},
   "outputs": [
    {
     "name": "stdout",
     "output_type": "stream",
     "text": [
      "Ganesh\n"
     ]
    }
   ],
   "source": [
    "name = \"Ganesh\"\n",
    "Name = \"Jatin\"\n",
    "print(name)"
   ]
  },
  {
   "cell_type": "code",
   "execution_count": 6,
   "id": "7e19abc8-6071-480f-a5ec-d9addca4c077",
   "metadata": {},
   "outputs": [
    {
     "name": "stdout",
     "output_type": "stream",
     "text": [
      "Jatin\n"
     ]
    }
   ],
   "source": [
    "print(Name)"
   ]
  },
  {
   "cell_type": "code",
   "execution_count": null,
   "id": "221c6c54-aad1-4315-a3fa-4eeed5aa2414",
   "metadata": {},
   "outputs": [],
   "source": [
    "# for(i=0; i<=10; i++) {\n",
    "# puts>>i\n",
    "# }\n",
    "2) Indentation (No Braces)\n",
    "# python uses spaces or tabs instead of curly braces\n",
    "# for i in range(11):\n",
    "#     print(i)"
   ]
  },
  {
   "cell_type": "code",
   "execution_count": null,
   "id": "c1b11f65-d42a-43bf-aab4-289d1dbd7e99",
   "metadata": {},
   "outputs": [],
   "source": [
    "3) Comments\n",
    "Single line comment is written using #\n",
    "# sungle line comment\n",
    "Multi line comment\n",
    "\"\"\"\n",
    "I am a multi \n",
    "line comnent\n",
    "\"\"\""
   ]
  },
  {
   "cell_type": "code",
   "execution_count": null,
   "id": "9bb7453e-bb26-4419-8ad9-8fa3bf120ffd",
   "metadata": {},
   "outputs": [],
   "source": [
    "4) Rules to assign variable\n",
    "Valid names\n",
    "name = \"Shreya\"\n",
    "_job = \"SDE\"\n",
    "total_price = 23\n",
    "name1 = \"someone\"\n",
    "m1 = \"sdf\"\n",
    "\n",
    "Invalid names\n",
    "1name   X\n",
    "total-price X"
   ]
  },
  {
   "cell_type": "code",
   "execution_count": 7,
   "id": "f1da555a-2524-4a24-97bc-57c2fc5aff7d",
   "metadata": {},
   "outputs": [],
   "source": [
    "# multiple assignments\n",
    "name, _job, total_price = \"Shreya\", \"SDE\", 23"
   ]
  },
  {
   "cell_type": "code",
   "execution_count": 8,
   "id": "5570d863-b1b0-45ee-8cb2-7d4fee60ca74",
   "metadata": {},
   "outputs": [
    {
     "name": "stdout",
     "output_type": "stream",
     "text": [
      "Shreya SDE 23\n"
     ]
    }
   ],
   "source": [
    "print(name, _job, total_price)"
   ]
  },
  {
   "cell_type": "code",
   "execution_count": 9,
   "id": "32858dc0-cd56-4762-8115-7d9da48835e2",
   "metadata": {},
   "outputs": [
    {
     "name": "stdout",
     "output_type": "stream",
     "text": [
      "100\n"
     ]
    }
   ],
   "source": [
    "x = y = z = 100\n",
    "print(x)"
   ]
  },
  {
   "cell_type": "code",
   "execution_count": 10,
   "id": "ad28a2c8-de62-4ac8-bdd9-fe6f329e0fa0",
   "metadata": {},
   "outputs": [
    {
     "name": "stdout",
     "output_type": "stream",
     "text": [
      "100\n"
     ]
    }
   ],
   "source": [
    "print(z)"
   ]
  },
  {
   "cell_type": "code",
   "execution_count": 11,
   "id": "6f9fce02-8bb2-426a-8743-2f4459e100b3",
   "metadata": {},
   "outputs": [
    {
     "name": "stdout",
     "output_type": "stream",
     "text": [
      "100\n"
     ]
    }
   ],
   "source": [
    "print(y)"
   ]
  },
  {
   "cell_type": "markdown",
   "id": "1d1e57a9-65ce-45fb-89e1-863732a0a255",
   "metadata": {},
   "source": [
    "### Primitive data types"
   ]
  },
  {
   "cell_type": "code",
   "execution_count": null,
   "id": "aa15ee2c-169b-4c8e-b331-9dd33195c90e",
   "metadata": {},
   "outputs": [],
   "source": [
    "1) Numeric type:\n",
    "    int --> -1, -35, 0, 23, 1256\n",
    "    float --> 3.14, 1.1414114, 2.5, -2.5, 0.0\n",
    "    complex --> 3 + 5j, 6 - 1j\n",
    "2) Boolean type:\n",
    "    True or False\n",
    "3) String type:\n",
    "    single line --> single quote --> '<...>'\n",
    "                double quote --> \"<...>\"\n",
    "    multi line string --> triple quote --> single quote --> '''<....\n",
    "                                                                ....>'''\n",
    "                                           double quote --> \"\"\"<....\n",
    "                                                               .....>\"\"\"\n",
    "4) None type:\n",
    "    "
   ]
  },
  {
   "cell_type": "code",
   "execution_count": 12,
   "id": "644e965b-78d9-40b4-b458-b733395f615a",
   "metadata": {},
   "outputs": [
    {
     "data": {
      "text/plain": [
       "complex"
      ]
     },
     "execution_count": 12,
     "metadata": {},
     "output_type": "execute_result"
    }
   ],
   "source": [
    "type(3 + 5j)"
   ]
  },
  {
   "cell_type": "code",
   "execution_count": 13,
   "id": "c24f2e63-d7d4-46f2-9c63-1dd09b83386d",
   "metadata": {},
   "outputs": [
    {
     "data": {
      "text/plain": [
       "float"
      ]
     },
     "execution_count": 13,
     "metadata": {},
     "output_type": "execute_result"
    }
   ],
   "source": [
    "type(3.14)"
   ]
  },
  {
   "cell_type": "code",
   "execution_count": 14,
   "id": "62444671-ac06-4a6b-8f22-d9a01830b1f2",
   "metadata": {},
   "outputs": [
    {
     "data": {
      "text/plain": [
       "int"
      ]
     },
     "execution_count": 14,
     "metadata": {},
     "output_type": "execute_result"
    }
   ],
   "source": [
    "type(25)"
   ]
  },
  {
   "cell_type": "code",
   "execution_count": 15,
   "id": "f1201104-1628-4f13-b117-81a37dd85829",
   "metadata": {},
   "outputs": [
    {
     "data": {
      "text/plain": [
       "bool"
      ]
     },
     "execution_count": 15,
     "metadata": {},
     "output_type": "execute_result"
    }
   ],
   "source": [
    "type(True)"
   ]
  },
  {
   "cell_type": "code",
   "execution_count": 16,
   "id": "8b2db77e-81d5-4c8a-85a2-afbcb9cae9c6",
   "metadata": {},
   "outputs": [
    {
     "data": {
      "text/plain": [
       "str"
      ]
     },
     "execution_count": 16,
     "metadata": {},
     "output_type": "execute_result"
    }
   ],
   "source": [
    "type(\"\")"
   ]
  },
  {
   "cell_type": "code",
   "execution_count": 17,
   "id": "0a902f41-4e6b-4279-bace-bca17ed100ae",
   "metadata": {},
   "outputs": [
    {
     "data": {
      "text/plain": [
       "NoneType"
      ]
     },
     "execution_count": 17,
     "metadata": {},
     "output_type": "execute_result"
    }
   ],
   "source": [
    "type(None)"
   ]
  },
  {
   "cell_type": "markdown",
   "id": "a3e3bd85-9aee-402a-a95f-cbb78225d56e",
   "metadata": {},
   "source": [
    "### Non Primitive data types"
   ]
  },
  {
   "cell_type": "code",
   "execution_count": null,
   "id": "5078f1d9-5b30-4b69-a524-78f7110a13f3",
   "metadata": {},
   "outputs": [],
   "source": [
    "list --> collection of hetrogenous datatypes\n",
    "         changeble\n",
    "         [1, \"name\", 10, 0.01]\n",
    "tuple --> collection of hetrogenous datatypes\n",
    "          non-changeable\n",
    "         (4, 5.2, \"I am tuple\", 6 + 5j)\n",
    "set --> collection of unique items\n",
    "        {1, 2j, 5.0, \"I am in set\"}\n",
    "        unordered collection\n",
    "dict --> collection of key value pair\n",
    "         {1: \"value\"}\n",
    "\n",
    "range --> it generates sequence of numbers\n",
    "            range(10) --> 0 - 9\n",
    "            range(2, 9) --> 2 - 8\n",
    "            range(5, 100) --> 5 - 99\n",
    "            range(0, 10, 2) --> 0, 2, 4, 6, ... 8"
   ]
  },
  {
   "cell_type": "markdown",
   "id": "848bda88-acee-4419-b3d0-0d826d5f7231",
   "metadata": {},
   "source": [
    "### Input and output"
   ]
  },
  {
   "cell_type": "code",
   "execution_count": 18,
   "id": "59972a17-cef0-4b20-9851-315e44397fe5",
   "metadata": {},
   "outputs": [
    {
     "name": "stdin",
     "output_type": "stream",
     "text": [
      "Enter your mobile number: +91 7985641320\n"
     ]
    }
   ],
   "source": [
    "mob_no = input(\"Enter your mobile number:\")"
   ]
  },
  {
   "cell_type": "code",
   "execution_count": 19,
   "id": "35dff7ea-400f-492c-bba3-95179ccbcc64",
   "metadata": {},
   "outputs": [
    {
     "name": "stdout",
     "output_type": "stream",
     "text": [
      "+91 7985641320\n"
     ]
    }
   ],
   "source": [
    "print(mob_no)"
   ]
  },
  {
   "cell_type": "code",
   "execution_count": 20,
   "id": "814c3701-917b-4329-95e9-98fd13572ae8",
   "metadata": {},
   "outputs": [
    {
     "data": {
      "text/plain": [
       "str"
      ]
     },
     "execution_count": 20,
     "metadata": {},
     "output_type": "execute_result"
    }
   ],
   "source": [
    "type(mob_no)"
   ]
  },
  {
   "cell_type": "code",
   "execution_count": 22,
   "id": "0b468cae-62a0-43c0-986d-1166d561f185",
   "metadata": {},
   "outputs": [
    {
     "name": "stdout",
     "output_type": "stream",
     "text": [
      "+91 7985641320\n"
     ]
    }
   ],
   "source": [
    "print(mob_no)"
   ]
  },
  {
   "cell_type": "code",
   "execution_count": 23,
   "id": "bfaf4560-874c-4db9-9854-566b2852b55d",
   "metadata": {},
   "outputs": [
    {
     "name": "stdout",
     "output_type": "stream",
     "text": [
      "The users mobile number is:  +91 7985641320\n"
     ]
    }
   ],
   "source": [
    "print(\"The users mobile number is: \", mob_no)"
   ]
  },
  {
   "cell_type": "code",
   "execution_count": 24,
   "id": "4bc825ca-7f20-4974-be85-b3a3ee7e8c46",
   "metadata": {},
   "outputs": [
    {
     "name": "stdout",
     "output_type": "stream",
     "text": [
      "The users mobile number is: +91 7985641320\n"
     ]
    }
   ],
   "source": [
    "print(f\"The users mobile number is: {mob_no}\")"
   ]
  },
  {
   "cell_type": "code",
   "execution_count": null,
   "id": "bd429c0f-2356-47c0-8f8e-832efafdf84e",
   "metadata": {},
   "outputs": [],
   "source": []
  }
 ],
 "metadata": {
  "kernelspec": {
   "display_name": "Python 3 (ipykernel)",
   "language": "python",
   "name": "python3"
  },
  "language_info": {
   "codemirror_mode": {
    "name": "ipython",
    "version": 3
   },
   "file_extension": ".py",
   "mimetype": "text/x-python",
   "name": "python",
   "nbconvert_exporter": "python",
   "pygments_lexer": "ipython3",
   "version": "3.13.2"
  }
 },
 "nbformat": 4,
 "nbformat_minor": 5
}
