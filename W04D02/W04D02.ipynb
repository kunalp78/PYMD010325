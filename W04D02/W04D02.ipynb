{
 "cells": [
  {
   "cell_type": "markdown",
   "id": "6c72a03e-cd0d-451e-9101-6f2f9dcf6238",
   "metadata": {},
   "source": [
    "### Iterators"
   ]
  },
  {
   "cell_type": "code",
   "execution_count": 1,
   "id": "bb0e4525-d33a-4da3-aa6c-93cd2c507718",
   "metadata": {},
   "outputs": [],
   "source": [
    "list_1 = [\"Apple\", \"mango\", \"strawberry\", \"kiwi\"]"
   ]
  },
  {
   "cell_type": "code",
   "execution_count": 2,
   "id": "3aaa2976-989b-4233-814e-aa596ea0b84c",
   "metadata": {},
   "outputs": [],
   "source": [
    "iterator = iter(list_1)"
   ]
  },
  {
   "cell_type": "code",
   "execution_count": 3,
   "id": "3f20872d-85dc-4ba9-9f85-ff7b0e2ff477",
   "metadata": {},
   "outputs": [
    {
     "name": "stdout",
     "output_type": "stream",
     "text": [
      "Apple\n"
     ]
    }
   ],
   "source": [
    "print(next(iterator))"
   ]
  },
  {
   "cell_type": "code",
   "execution_count": 4,
   "id": "230229d5-ff8b-4283-b9e9-407b0c9596e7",
   "metadata": {},
   "outputs": [
    {
     "name": "stdout",
     "output_type": "stream",
     "text": [
      "mango\n"
     ]
    }
   ],
   "source": [
    "print(next(iterator))"
   ]
  },
  {
   "cell_type": "code",
   "execution_count": 5,
   "id": "af704bcd-9510-4213-85d6-0305006d38e0",
   "metadata": {},
   "outputs": [
    {
     "name": "stdout",
     "output_type": "stream",
     "text": [
      "strawberry\n"
     ]
    }
   ],
   "source": [
    "print(next(iterator))"
   ]
  },
  {
   "cell_type": "code",
   "execution_count": 6,
   "id": "e27d8b24-2761-4467-ac10-e1894496f81e",
   "metadata": {},
   "outputs": [
    {
     "name": "stdout",
     "output_type": "stream",
     "text": [
      "kiwi\n"
     ]
    }
   ],
   "source": [
    "print(next(iterator))"
   ]
  },
  {
   "cell_type": "code",
   "execution_count": 7,
   "id": "68b762b9-eb44-4ad1-979d-a0cf3576b700",
   "metadata": {},
   "outputs": [
    {
     "ename": "StopIteration",
     "evalue": "",
     "output_type": "error",
     "traceback": [
      "\u001b[31m---------------------------------------------------------------------------\u001b[39m",
      "\u001b[31mStopIteration\u001b[39m                             Traceback (most recent call last)",
      "\u001b[36mCell\u001b[39m\u001b[36m \u001b[39m\u001b[32mIn[7]\u001b[39m\u001b[32m, line 1\u001b[39m\n\u001b[32m----> \u001b[39m\u001b[32m1\u001b[39m \u001b[38;5;28mprint\u001b[39m(\u001b[38;5;28;43mnext\u001b[39;49m\u001b[43m(\u001b[49m\u001b[43miterator\u001b[49m\u001b[43m)\u001b[49m)\n",
      "\u001b[31mStopIteration\u001b[39m: "
     ]
    }
   ],
   "source": [
    "print(next(iterator))"
   ]
  },
  {
   "cell_type": "code",
   "execution_count": 8,
   "id": "15fb4b57-2b83-441d-952e-db2a6a1c091c",
   "metadata": {},
   "outputs": [
    {
     "name": "stdout",
     "output_type": "stream",
     "text": [
      "Apple\n",
      "mango\n",
      "strawberry\n",
      "kiwi\n"
     ]
    }
   ],
   "source": [
    "for element in list_1:\n",
    "    print(element)"
   ]
  },
  {
   "cell_type": "code",
   "execution_count": 10,
   "id": "5e2cbdcd-a818-47ed-a97f-9c65df4c2a25",
   "metadata": {},
   "outputs": [],
   "source": [
    "iterator = iter(list_1)"
   ]
  },
  {
   "cell_type": "code",
   "execution_count": 11,
   "id": "1420c604-d915-45e2-bdbe-3ef9027a34b8",
   "metadata": {},
   "outputs": [
    {
     "name": "stdout",
     "output_type": "stream",
     "text": [
      "Apple\n",
      "mango\n",
      "strawberry\n",
      "kiwi\n"
     ]
    }
   ],
   "source": [
    "for element in iterator:\n",
    "    print(element)"
   ]
  },
  {
   "cell_type": "code",
   "execution_count": 12,
   "id": "7024b4dd-f2ce-42a0-aa25-6e6c79bb3422",
   "metadata": {},
   "outputs": [
    {
     "data": {
      "text/plain": [
       "<list_iterator at 0x2079653fa90>"
      ]
     },
     "execution_count": 12,
     "metadata": {},
     "output_type": "execute_result"
    }
   ],
   "source": [
    "iterator"
   ]
  },
  {
   "cell_type": "code",
   "execution_count": 13,
   "id": "319287ec-bbca-4190-8cc3-b457814ac504",
   "metadata": {},
   "outputs": [
    {
     "name": "stdout",
     "output_type": "stream",
     "text": [
      "<list_iterator object at 0x000002079653FA90>\n"
     ]
    }
   ],
   "source": [
    "print(iterator)"
   ]
  },
  {
   "cell_type": "code",
   "execution_count": null,
   "id": "e4d9b427-a3d2-484f-b790-c7773d974ca3",
   "metadata": {},
   "outputs": [],
   "source": []
  },
  {
   "cell_type": "code",
   "execution_count": null,
   "id": "a1468ac5-a4e4-4255-bf88-85ba8f4ec26f",
   "metadata": {},
   "outputs": [],
   "source": [
    "we will be using 2 dunder methods __iter__() and __next__()"
   ]
  },
  {
   "cell_type": "code",
   "execution_count": null,
   "id": "93f99e7c-1a6f-4587-862a-8ed2af6afedc",
   "metadata": {},
   "outputs": [],
   "source": [
    "__iter__() --> it eturns iterator object itself.\n",
    "__next__() --> must return next item in the sequence. On reching the end and in subsequent calls, it must raise StopIteration Exception"
   ]
  },
  {
   "cell_type": "code",
   "execution_count": null,
   "id": "d8a02ff1-91e3-4d91-b40e-14901aba6766",
   "metadata": {},
   "outputs": [],
   "source": []
  },
  {
   "cell_type": "code",
   "execution_count": 14,
   "id": "e514ec97-9eac-4b6a-8b69-48da248e1f78",
   "metadata": {},
   "outputs": [],
   "source": [
    "class PowTwo:\n",
    "    def __init__(self, max=0):\n",
    "        self.max = max\n",
    "\n",
    "    def __iter__(self):\n",
    "        self.n = 0\n",
    "        return self\n",
    "\n",
    "    def __next__(self):\n",
    "        if self.n <= self.max:\n",
    "            result = 2**self.n\n",
    "            self.n += 1\n",
    "            return result\n",
    "        else:\n",
    "            raise StopIteration"
   ]
  },
  {
   "cell_type": "code",
   "execution_count": 15,
   "id": "07c3b6a1-f70a-4b1e-8973-1f9b62b7ca7b",
   "metadata": {},
   "outputs": [],
   "source": [
    "numbers = PowTwo(5)"
   ]
  },
  {
   "cell_type": "code",
   "execution_count": 16,
   "id": "d471510a-b3e5-4103-bc47-3d4adc272eca",
   "metadata": {},
   "outputs": [],
   "source": [
    "i = iter(numbers)"
   ]
  },
  {
   "cell_type": "code",
   "execution_count": 17,
   "id": "eee63c7f-97f9-47aa-8201-d0080dd3b85a",
   "metadata": {},
   "outputs": [
    {
     "data": {
      "text/plain": [
       "1"
      ]
     },
     "execution_count": 17,
     "metadata": {},
     "output_type": "execute_result"
    }
   ],
   "source": [
    "next(i)"
   ]
  },
  {
   "cell_type": "code",
   "execution_count": 18,
   "id": "5d2f6119-9711-4e71-9865-0dbe6b899d5f",
   "metadata": {},
   "outputs": [
    {
     "data": {
      "text/plain": [
       "2"
      ]
     },
     "execution_count": 18,
     "metadata": {},
     "output_type": "execute_result"
    }
   ],
   "source": [
    "next(i)"
   ]
  },
  {
   "cell_type": "code",
   "execution_count": 19,
   "id": "35faac53-8994-45ee-95c4-d698282fb352",
   "metadata": {},
   "outputs": [
    {
     "data": {
      "text/plain": [
       "4"
      ]
     },
     "execution_count": 19,
     "metadata": {},
     "output_type": "execute_result"
    }
   ],
   "source": [
    "next(i)"
   ]
  },
  {
   "cell_type": "code",
   "execution_count": 20,
   "id": "3f8146be-f5c8-4475-a1e6-8815a388edcb",
   "metadata": {},
   "outputs": [
    {
     "data": {
      "text/plain": [
       "8"
      ]
     },
     "execution_count": 20,
     "metadata": {},
     "output_type": "execute_result"
    }
   ],
   "source": [
    "next(i)"
   ]
  },
  {
   "cell_type": "code",
   "execution_count": 21,
   "id": "75dfe0f9-aa52-40b0-b59e-dcab892337aa",
   "metadata": {},
   "outputs": [
    {
     "data": {
      "text/plain": [
       "16"
      ]
     },
     "execution_count": 21,
     "metadata": {},
     "output_type": "execute_result"
    }
   ],
   "source": [
    "next(i)"
   ]
  },
  {
   "cell_type": "code",
   "execution_count": 22,
   "id": "b9573613-2d07-48ed-8a03-a7bf8db9f158",
   "metadata": {},
   "outputs": [
    {
     "data": {
      "text/plain": [
       "32"
      ]
     },
     "execution_count": 22,
     "metadata": {},
     "output_type": "execute_result"
    }
   ],
   "source": [
    "next(i)"
   ]
  },
  {
   "cell_type": "code",
   "execution_count": 23,
   "id": "8ff3f1c0-1015-46cc-92bc-580127f3d92e",
   "metadata": {},
   "outputs": [
    {
     "ename": "StopIteration",
     "evalue": "",
     "output_type": "error",
     "traceback": [
      "\u001b[31m---------------------------------------------------------------------------\u001b[39m",
      "\u001b[31mStopIteration\u001b[39m                             Traceback (most recent call last)",
      "\u001b[36mCell\u001b[39m\u001b[36m \u001b[39m\u001b[32mIn[23]\u001b[39m\u001b[32m, line 1\u001b[39m\n\u001b[32m----> \u001b[39m\u001b[32m1\u001b[39m \u001b[38;5;28;43mnext\u001b[39;49m\u001b[43m(\u001b[49m\u001b[43mi\u001b[49m\u001b[43m)\u001b[49m\n",
      "\u001b[36mCell\u001b[39m\u001b[36m \u001b[39m\u001b[32mIn[14]\u001b[39m\u001b[32m, line 15\u001b[39m, in \u001b[36mPowTwo.__next__\u001b[39m\u001b[34m(self)\u001b[39m\n\u001b[32m     13\u001b[39m     \u001b[38;5;28;01mreturn\u001b[39;00m result\n\u001b[32m     14\u001b[39m \u001b[38;5;28;01melse\u001b[39;00m:\n\u001b[32m---> \u001b[39m\u001b[32m15\u001b[39m     \u001b[38;5;28;01mraise\u001b[39;00m \u001b[38;5;167;01mStopIteration\u001b[39;00m\n",
      "\u001b[31mStopIteration\u001b[39m: "
     ]
    }
   ],
   "source": [
    "next(i)"
   ]
  },
  {
   "cell_type": "code",
   "execution_count": 30,
   "id": "c3c0bacf-9782-4b28-a857-b562b4f564c5",
   "metadata": {},
   "outputs": [],
   "source": [
    "j = iter(numbers)"
   ]
  },
  {
   "cell_type": "code",
   "execution_count": 31,
   "id": "32f058a6-bc32-437e-b112-f1a578a4aabf",
   "metadata": {},
   "outputs": [
    {
     "name": "stdout",
     "output_type": "stream",
     "text": [
      "1\n",
      "2\n",
      "4\n",
      "8\n",
      "16\n",
      "32\n"
     ]
    }
   ],
   "source": [
    "for i in range(6):\n",
    "    print(next(j))"
   ]
  },
  {
   "cell_type": "code",
   "execution_count": 36,
   "id": "3d0e4da7-5ec5-4b2f-aa3c-5064d78269fd",
   "metadata": {},
   "outputs": [
    {
     "name": "stdout",
     "output_type": "stream",
     "text": [
      "1\n",
      "2\n",
      "4\n",
      "8\n",
      "16\n",
      "32\n"
     ]
    }
   ],
   "source": [
    "j = iter(numbers)\n",
    "for i in j:\n",
    "    print(i)"
   ]
  },
  {
   "cell_type": "code",
   "execution_count": null,
   "id": "549c3bea-399b-4efb-bf11-8ea7ed4360f3",
   "metadata": {},
   "outputs": [],
   "source": []
  },
  {
   "cell_type": "markdown",
   "id": "d1c92647-2604-48c6-954f-d8f88bb03e8f",
   "metadata": {},
   "source": [
    "### Generators"
   ]
  },
  {
   "cell_type": "code",
   "execution_count": null,
   "id": "4cdc9377-8b64-475a-9940-e01da58ca03f",
   "metadata": {},
   "outputs": [],
   "source": [
    "def anf_func(arg):\n",
    "    yield something"
   ]
  },
  {
   "cell_type": "code",
   "execution_count": 39,
   "id": "0648e29a-68ba-419f-ada1-1334507eb7cf",
   "metadata": {},
   "outputs": [],
   "source": [
    "def my_generator(n):\n",
    "    value = 0\n",
    "    while value<n:\n",
    "        yield value\n",
    "        value += 1"
   ]
  },
  {
   "cell_type": "code",
   "execution_count": 41,
   "id": "6989005d-2a8a-4a7d-9917-22b02aa99e12",
   "metadata": {},
   "outputs": [
    {
     "data": {
      "text/plain": [
       "<generator object my_generator at 0x0000020796EDC040>"
      ]
     },
     "execution_count": 41,
     "metadata": {},
     "output_type": "execute_result"
    }
   ],
   "source": [
    "my_generator(5)"
   ]
  },
  {
   "cell_type": "code",
   "execution_count": 42,
   "id": "9f0d7991-1bda-4b0e-8c43-092539f5720b",
   "metadata": {},
   "outputs": [
    {
     "name": "stdout",
     "output_type": "stream",
     "text": [
      "0\n",
      "1\n",
      "2\n",
      "3\n",
      "4\n"
     ]
    }
   ],
   "source": [
    "for value in my_generator(5):\n",
    "    print(value)"
   ]
  },
  {
   "cell_type": "code",
   "execution_count": 44,
   "id": "aee5956b-8f4a-43a7-bd3a-7aef342fcc3a",
   "metadata": {},
   "outputs": [
    {
     "name": "stdout",
     "output_type": "stream",
     "text": [
      "0\n"
     ]
    }
   ],
   "source": [
    "gen = my_generator(5)\n",
    "print(next(gen))"
   ]
  },
  {
   "cell_type": "code",
   "execution_count": 45,
   "id": "37e4b665-7688-488d-9b10-0b7d659530b7",
   "metadata": {},
   "outputs": [
    {
     "name": "stdout",
     "output_type": "stream",
     "text": [
      "1\n"
     ]
    }
   ],
   "source": [
    "print(next(gen))"
   ]
  },
  {
   "cell_type": "code",
   "execution_count": 46,
   "id": "4fae5980-95a2-4e48-97e1-3c9c6036fc8d",
   "metadata": {},
   "outputs": [
    {
     "name": "stdout",
     "output_type": "stream",
     "text": [
      "2\n"
     ]
    }
   ],
   "source": [
    "print(next(gen))"
   ]
  },
  {
   "cell_type": "code",
   "execution_count": 47,
   "id": "64277419-5cde-4079-8279-dea9453c83e5",
   "metadata": {},
   "outputs": [
    {
     "name": "stdout",
     "output_type": "stream",
     "text": [
      "3\n"
     ]
    }
   ],
   "source": [
    "print(next(gen))"
   ]
  },
  {
   "cell_type": "code",
   "execution_count": 48,
   "id": "1735f1e6-2e30-463b-8074-e4f01f30fc02",
   "metadata": {},
   "outputs": [
    {
     "name": "stdout",
     "output_type": "stream",
     "text": [
      "4\n"
     ]
    }
   ],
   "source": [
    "print(next(gen))"
   ]
  },
  {
   "cell_type": "code",
   "execution_count": 49,
   "id": "23b0db84-9054-430e-98d5-acb5c884f3ff",
   "metadata": {},
   "outputs": [
    {
     "ename": "StopIteration",
     "evalue": "",
     "output_type": "error",
     "traceback": [
      "\u001b[31m---------------------------------------------------------------------------\u001b[39m",
      "\u001b[31mStopIteration\u001b[39m                             Traceback (most recent call last)",
      "\u001b[36mCell\u001b[39m\u001b[36m \u001b[39m\u001b[32mIn[49]\u001b[39m\u001b[32m, line 1\u001b[39m\n\u001b[32m----> \u001b[39m\u001b[32m1\u001b[39m \u001b[38;5;28mprint\u001b[39m(\u001b[38;5;28;43mnext\u001b[39;49m\u001b[43m(\u001b[49m\u001b[43mgen\u001b[49m\u001b[43m)\u001b[49m)\n",
      "\u001b[31mStopIteration\u001b[39m: "
     ]
    }
   ],
   "source": [
    "print(next(gen))"
   ]
  },
  {
   "cell_type": "markdown",
   "id": "8f350648-173b-4903-8fcd-57c35fd954c0",
   "metadata": {},
   "source": [
    "### Python Generator Expression"
   ]
  },
  {
   "cell_type": "code",
   "execution_count": 51,
   "id": "63ec7fee-608c-4ad3-84e7-6e5aa71833dc",
   "metadata": {},
   "outputs": [],
   "source": [
    "l = []\n",
    "for i in range(1, 11):\n",
    "    l.append(i)"
   ]
  },
  {
   "cell_type": "code",
   "execution_count": 52,
   "id": "ed9c6cee-03ff-439d-a00c-075fb27c4ff3",
   "metadata": {},
   "outputs": [
    {
     "data": {
      "text/plain": [
       "[1, 2, 3, 4, 5, 6, 7, 8, 9, 10]"
      ]
     },
     "execution_count": 52,
     "metadata": {},
     "output_type": "execute_result"
    }
   ],
   "source": [
    "l"
   ]
  },
  {
   "cell_type": "code",
   "execution_count": 53,
   "id": "a7bd53b7-2fcf-4e8f-938c-627242f63f84",
   "metadata": {},
   "outputs": [],
   "source": [
    "j = [i for i in range(1, 11)]"
   ]
  },
  {
   "cell_type": "code",
   "execution_count": 54,
   "id": "78921b50-ac1b-452e-99e0-3d1f2c72dea0",
   "metadata": {},
   "outputs": [
    {
     "data": {
      "text/plain": [
       "[1, 2, 3, 4, 5, 6, 7, 8, 9, 10]"
      ]
     },
     "execution_count": 54,
     "metadata": {},
     "output_type": "execute_result"
    }
   ],
   "source": [
    "j"
   ]
  },
  {
   "cell_type": "code",
   "execution_count": 63,
   "id": "040aae1e-362d-48cd-8a9a-192fcba3291d",
   "metadata": {},
   "outputs": [],
   "source": [
    "odd_values = [i for i in range(1, 11) if i%2]"
   ]
  },
  {
   "cell_type": "code",
   "execution_count": 64,
   "id": "247992b8-c36e-4e4c-9ced-9ede2e3c933b",
   "metadata": {},
   "outputs": [
    {
     "data": {
      "text/plain": [
       "[1, 3, 5, 7, 9]"
      ]
     },
     "execution_count": 64,
     "metadata": {},
     "output_type": "execute_result"
    }
   ],
   "source": [
    "odd_values"
   ]
  },
  {
   "cell_type": "code",
   "execution_count": 67,
   "id": "5dbee9cc-1d5e-4c60-8988-ad2bc9157694",
   "metadata": {},
   "outputs": [],
   "source": [
    "odd_even = [\"odd\" if _%2 else \"even\" for _ in range(1, 11)]"
   ]
  },
  {
   "cell_type": "code",
   "execution_count": 68,
   "id": "083a6772-6c25-452c-bd45-836abb20e561",
   "metadata": {},
   "outputs": [
    {
     "data": {
      "text/plain": [
       "['odd', 'even', 'odd', 'even', 'odd', 'even', 'odd', 'even', 'odd', 'even']"
      ]
     },
     "execution_count": 68,
     "metadata": {},
     "output_type": "execute_result"
    }
   ],
   "source": [
    "odd_even"
   ]
  },
  {
   "cell_type": "code",
   "execution_count": 69,
   "id": "0ee0fe52-3254-46f2-8b20-642649a7b4e5",
   "metadata": {},
   "outputs": [
    {
     "name": "stdin",
     "output_type": "stream",
     "text": [
      " 1 2 5 7 8 9 4 6 3 0\n"
     ]
    }
   ],
   "source": [
    "j = input().split(\" \")"
   ]
  },
  {
   "cell_type": "code",
   "execution_count": 70,
   "id": "93030279-1fe6-4dab-b96b-66ec6144be98",
   "metadata": {},
   "outputs": [
    {
     "data": {
      "text/plain": [
       "['1', '2', '5', '7', '8', '9', '4', '6', '3', '0']"
      ]
     },
     "execution_count": 70,
     "metadata": {},
     "output_type": "execute_result"
    }
   ],
   "source": [
    "j"
   ]
  },
  {
   "cell_type": "code",
   "execution_count": 71,
   "id": "d3950566-4442-493a-96c1-498010579f9e",
   "metadata": {},
   "outputs": [],
   "source": [
    "val = list(map(int, j))"
   ]
  },
  {
   "cell_type": "code",
   "execution_count": 72,
   "id": "673f6bc2-5d7c-455d-97a5-f55d79c1b6fd",
   "metadata": {},
   "outputs": [
    {
     "data": {
      "text/plain": [
       "[1, 2, 5, 7, 8, 9, 4, 6, 3, 0]"
      ]
     },
     "execution_count": 72,
     "metadata": {},
     "output_type": "execute_result"
    }
   ],
   "source": [
    "val"
   ]
  },
  {
   "cell_type": "code",
   "execution_count": 73,
   "id": "2795e126-8f3e-490c-9ebc-48fe2b3094cb",
   "metadata": {},
   "outputs": [],
   "source": [
    "val1 = list(map(lambda x: x!=\"7\", j))"
   ]
  },
  {
   "cell_type": "code",
   "execution_count": 74,
   "id": "eba495f7-f04a-4ab0-9f32-d026dfa0fd75",
   "metadata": {},
   "outputs": [
    {
     "data": {
      "text/plain": [
       "[True, True, True, False, True, True, True, True, True, True]"
      ]
     },
     "execution_count": 74,
     "metadata": {},
     "output_type": "execute_result"
    }
   ],
   "source": [
    "val1"
   ]
  },
  {
   "cell_type": "code",
   "execution_count": 77,
   "id": "b20f5550-ac99-4aa0-80aa-50e33e456175",
   "metadata": {},
   "outputs": [],
   "source": [
    "val2 = list(filter(lambda x: x!=\"7\", j))"
   ]
  },
  {
   "cell_type": "code",
   "execution_count": 78,
   "id": "421fd39b-5abd-4260-95d9-a0dfa1a6a6f4",
   "metadata": {},
   "outputs": [
    {
     "data": {
      "text/plain": [
       "['1', '2', '5', '8', '9', '4', '6', '3', '0']"
      ]
     },
     "execution_count": 78,
     "metadata": {},
     "output_type": "execute_result"
    }
   ],
   "source": [
    "val2"
   ]
  },
  {
   "cell_type": "code",
   "execution_count": null,
   "id": "0d852187-e35f-4266-aea2-49bb891bd390",
   "metadata": {},
   "outputs": [],
   "source": [
    "# write an expression which takes input stream of numbers seperated by spaces and then types cast each of the numbers to integer \n",
    "# and filter out the odd numbers"
   ]
  },
  {
   "cell_type": "code",
   "execution_count": null,
   "id": "2eede5bc-ad00-4c21-9ecf-6b8eb50f316a",
   "metadata": {},
   "outputs": [],
   "source": [
    "now() --> 8:03\n",
    "be back --> 8:07"
   ]
  },
  {
   "cell_type": "code",
   "execution_count": 57,
   "id": "0d0c2b4d-574e-4ab3-9bec-961a32a6ee1e",
   "metadata": {},
   "outputs": [],
   "source": [
    "d = {i: i**2 for i in range(1, 11)}"
   ]
  },
  {
   "cell_type": "code",
   "execution_count": 58,
   "id": "e601ab72-3eff-47fb-9496-be1aac0e5063",
   "metadata": {},
   "outputs": [
    {
     "data": {
      "text/plain": [
       "{1: 1, 2: 4, 3: 9, 4: 16, 5: 25, 6: 36, 7: 49, 8: 64, 9: 81, 10: 100}"
      ]
     },
     "execution_count": 58,
     "metadata": {},
     "output_type": "execute_result"
    }
   ],
   "source": [
    "d"
   ]
  },
  {
   "cell_type": "code",
   "execution_count": null,
   "id": "a305120b-7374-4e95-97b5-7d250637cf39",
   "metadata": {},
   "outputs": [],
   "source": [
    "(expression for item in iterable)"
   ]
  },
  {
   "cell_type": "code",
   "execution_count": 60,
   "id": "57c929cd-0c75-4575-93c1-074119ec3586",
   "metadata": {},
   "outputs": [],
   "source": [
    "square_generator = (i*i for i in range(10))"
   ]
  },
  {
   "cell_type": "code",
   "execution_count": 61,
   "id": "4ab0e330-8b68-426b-a1c6-7dfedeace243",
   "metadata": {},
   "outputs": [
    {
     "name": "stdout",
     "output_type": "stream",
     "text": [
      "0\n",
      "1\n",
      "4\n",
      "9\n",
      "16\n",
      "25\n",
      "36\n",
      "49\n",
      "64\n",
      "81\n"
     ]
    }
   ],
   "source": [
    "for i in square_generator:\n",
    "    print(i)"
   ]
  },
  {
   "cell_type": "code",
   "execution_count": 62,
   "id": "78066b96-9e41-4aea-88ec-959fc0c82e6a",
   "metadata": {},
   "outputs": [
    {
     "data": {
      "text/plain": [
       "<generator object <genexpr> at 0x0000020796E07D30>"
      ]
     },
     "execution_count": 62,
     "metadata": {},
     "output_type": "execute_result"
    }
   ],
   "source": [
    "square_generator"
   ]
  },
  {
   "cell_type": "markdown",
   "id": "f2fb50ce-33ad-4af8-b6b0-8e8d94cecba8",
   "metadata": {},
   "source": [
    "### Decorator"
   ]
  },
  {
   "cell_type": "code",
   "execution_count": null,
   "id": "cc14b49b-57a5-444b-8719-bcbac7d30cc0",
   "metadata": {},
   "outputs": [],
   "source": [
    "@classmethod\n",
    "@staticmethod"
   ]
  },
  {
   "cell_type": "code",
   "execution_count": 79,
   "id": "3f73bde9-6b91-48a4-b99d-be673194727e",
   "metadata": {},
   "outputs": [],
   "source": [
    "def greet():\n",
    "    print(\"Hello, How are you\")"
   ]
  },
  {
   "cell_type": "code",
   "execution_count": 80,
   "id": "5fcd9352-9e52-4651-a01f-2055bfa78b57",
   "metadata": {},
   "outputs": [
    {
     "name": "stdout",
     "output_type": "stream",
     "text": [
      "Hello, How are you\n"
     ]
    }
   ],
   "source": [
    "greet()"
   ]
  },
  {
   "cell_type": "code",
   "execution_count": 81,
   "id": "5c27ea62-4bdb-4515-9880-26da49ef810a",
   "metadata": {},
   "outputs": [],
   "source": [
    "def add_values(*arg):\n",
    "    return sum(arg)"
   ]
  },
  {
   "cell_type": "code",
   "execution_count": 82,
   "id": "5bff33fa-cb0f-41c9-a246-eacb7473a586",
   "metadata": {},
   "outputs": [
    {
     "data": {
      "text/plain": [
       "21"
      ]
     },
     "execution_count": 82,
     "metadata": {},
     "output_type": "execute_result"
    }
   ],
   "source": [
    "add_values(1, 5, 8 ,7)"
   ]
  },
  {
   "cell_type": "code",
   "execution_count": 85,
   "id": "02fdf858-f606-4673-9dd1-6279df5250e1",
   "metadata": {},
   "outputs": [],
   "source": [
    "def greet(func, *args):\n",
    "    print(\"Hello, How are you\")\n",
    "    return func(*args)"
   ]
  },
  {
   "cell_type": "code",
   "execution_count": 86,
   "id": "20fc4a25-721b-42f5-a98b-5c991aad1665",
   "metadata": {},
   "outputs": [
    {
     "name": "stdout",
     "output_type": "stream",
     "text": [
      "Hello, How are you\n"
     ]
    },
    {
     "data": {
      "text/plain": [
       "21"
      ]
     },
     "execution_count": 86,
     "metadata": {},
     "output_type": "execute_result"
    }
   ],
   "source": [
    "greet(add_values, 1, 5, 8 ,7)"
   ]
  },
  {
   "cell_type": "code",
   "execution_count": 93,
   "id": "b1ee3349-9af7-4784-b8ac-d1c633286630",
   "metadata": {},
   "outputs": [],
   "source": [
    "def greet_decorator(func):\n",
    "    def wrapper(*args):\n",
    "        print(\"Before calling the function\")\n",
    "        print(func(*args))\n",
    "        print(\"After callig the function\")\n",
    "    return wrapper\n",
    "\n",
    "@greet_decorator\n",
    "def add_values(*arg):\n",
    "    return sum(arg)"
   ]
  },
  {
   "cell_type": "code",
   "execution_count": 94,
   "id": "7f76b8b9-76af-442a-9c4c-21b7bf780904",
   "metadata": {},
   "outputs": [
    {
     "name": "stdout",
     "output_type": "stream",
     "text": [
      "Before calling the function\n",
      "23\n",
      "After callig the function\n"
     ]
    }
   ],
   "source": [
    "add_values(1, 5, 8, 9)"
   ]
  },
  {
   "cell_type": "code",
   "execution_count": 95,
   "id": "a5272e46-7294-49de-aff5-f3e5e4d4fed0",
   "metadata": {},
   "outputs": [],
   "source": [
    "def greet_decorator(func):\n",
    "    def wrapper(*args):\n",
    "        print(\"Before calling the function\")\n",
    "        res = func(*args)\n",
    "        print(\"After callig the function\")\n",
    "        return res\n",
    "    return wrapper\n",
    "\n",
    "@greet_decorator\n",
    "def add_values(*arg):\n",
    "    return sum(arg)"
   ]
  },
  {
   "cell_type": "code",
   "execution_count": 96,
   "id": "2165df6e-b418-4545-889b-d5ab7c6398ea",
   "metadata": {},
   "outputs": [
    {
     "name": "stdout",
     "output_type": "stream",
     "text": [
      "Before calling the function\n",
      "After callig the function\n"
     ]
    },
    {
     "data": {
      "text/plain": [
       "23"
      ]
     },
     "execution_count": 96,
     "metadata": {},
     "output_type": "execute_result"
    }
   ],
   "source": [
    "add_values(1, 5, 8, 9)"
   ]
  },
  {
   "cell_type": "code",
   "execution_count": null,
   "id": "69769923-e061-4e68-a36b-6e5da6727af4",
   "metadata": {},
   "outputs": [],
   "source": [
    "# class decorators"
   ]
  },
  {
   "cell_type": "code",
   "execution_count": 98,
   "id": "752fe381-1005-48c8-b70a-0f8bb5dd59a8",
   "metadata": {},
   "outputs": [],
   "source": [
    "class LogArguments:\n",
    "    def __init__(self, func):\n",
    "        self.fun = func\n",
    "\n",
    "    def __call__(self, *args, **kwargs):\n",
    "        print(f\"Arguments: {args}, Keyword Arguments: {kwargs}\")\n",
    "        result = self.fun(*args, **kwargs)\n",
    "        return result"
   ]
  },
  {
   "cell_type": "code",
   "execution_count": 99,
   "id": "ef915f66-c21e-4e5c-bfe4-0dc8ebb9bb79",
   "metadata": {},
   "outputs": [],
   "source": [
    "@LogArguments\n",
    "def add_values(*arg):\n",
    "    return sum(arg)"
   ]
  },
  {
   "cell_type": "code",
   "execution_count": 100,
   "id": "ccb1b2ea-31a4-4280-94f2-5107cba77f39",
   "metadata": {},
   "outputs": [
    {
     "name": "stdout",
     "output_type": "stream",
     "text": [
      "Arguments: (1, 5, 8, 9), Keyword Arguments: {}\n"
     ]
    },
    {
     "data": {
      "text/plain": [
       "23"
      ]
     },
     "execution_count": 100,
     "metadata": {},
     "output_type": "execute_result"
    }
   ],
   "source": [
    "add_values(1, 5, 8, 9)"
   ]
  },
  {
   "cell_type": "code",
   "execution_count": 102,
   "id": "4fd05a8a-b246-4112-9266-73382efb751c",
   "metadata": {},
   "outputs": [],
   "source": [
    "@LogArguments\n",
    "def somefunc(val, val1, val2=2):\n",
    "    print(val, val1, val2)"
   ]
  },
  {
   "cell_type": "code",
   "execution_count": 104,
   "id": "5a0dc94b-7899-4865-89a9-fc1bae79f9a5",
   "metadata": {},
   "outputs": [
    {
     "name": "stdout",
     "output_type": "stream",
     "text": [
      "Arguments: (5, 2), Keyword Arguments: {'val2': 8}\n",
      "5 2 8\n"
     ]
    }
   ],
   "source": [
    "somefunc(5, 2, val2=8)"
   ]
  },
  {
   "cell_type": "code",
   "execution_count": 110,
   "id": "af4b58c2-39a7-4f5a-8371-b69751378177",
   "metadata": {},
   "outputs": [],
   "source": [
    "@LogArguments\n",
    "def somefunc(val, val1, val2=2):\n",
    "    print(val, val1, val2)"
   ]
  },
  {
   "cell_type": "code",
   "execution_count": 108,
   "id": "b5639316-4bcd-4525-b0e8-e6949e7821d1",
   "metadata": {},
   "outputs": [
    {
     "name": "stdout",
     "output_type": "stream",
     "text": [
      "Arguments: (5, 2), Keyword Arguments: {'val2': 8}\n"
     ]
    },
    {
     "ename": "TypeError",
     "evalue": "greet_decorator.<locals>.wrapper() got an unexpected keyword argument 'val2'",
     "output_type": "error",
     "traceback": [
      "\u001b[31m---------------------------------------------------------------------------\u001b[39m",
      "\u001b[31mTypeError\u001b[39m                                 Traceback (most recent call last)",
      "\u001b[36mCell\u001b[39m\u001b[36m \u001b[39m\u001b[32mIn[108]\u001b[39m\u001b[32m, line 1\u001b[39m\n\u001b[32m----> \u001b[39m\u001b[32m1\u001b[39m \u001b[43msomefunc\u001b[49m\u001b[43m(\u001b[49m\u001b[32;43m5\u001b[39;49m\u001b[43m,\u001b[49m\u001b[43m \u001b[49m\u001b[32;43m2\u001b[39;49m\u001b[43m,\u001b[49m\u001b[43m \u001b[49m\u001b[43mval2\u001b[49m\u001b[43m=\u001b[49m\u001b[32;43m8\u001b[39;49m\u001b[43m)\u001b[49m\n",
      "\u001b[36mCell\u001b[39m\u001b[36m \u001b[39m\u001b[32mIn[98]\u001b[39m\u001b[32m, line 7\u001b[39m, in \u001b[36mLogArguments.__call__\u001b[39m\u001b[34m(self, *args, **kwargs)\u001b[39m\n\u001b[32m      5\u001b[39m \u001b[38;5;28;01mdef\u001b[39;00m\u001b[38;5;250m \u001b[39m\u001b[34m__call__\u001b[39m(\u001b[38;5;28mself\u001b[39m, *args, **kwargs):\n\u001b[32m      6\u001b[39m     \u001b[38;5;28mprint\u001b[39m(\u001b[33mf\u001b[39m\u001b[33m\"\u001b[39m\u001b[33mArguments: \u001b[39m\u001b[38;5;132;01m{\u001b[39;00margs\u001b[38;5;132;01m}\u001b[39;00m\u001b[33m, Keyword Arguments: \u001b[39m\u001b[38;5;132;01m{\u001b[39;00mkwargs\u001b[38;5;132;01m}\u001b[39;00m\u001b[33m\"\u001b[39m)\n\u001b[32m----> \u001b[39m\u001b[32m7\u001b[39m     result = \u001b[38;5;28;43mself\u001b[39;49m\u001b[43m.\u001b[49m\u001b[43mfun\u001b[49m\u001b[43m(\u001b[49m\u001b[43m*\u001b[49m\u001b[43margs\u001b[49m\u001b[43m,\u001b[49m\u001b[43m \u001b[49m\u001b[43m*\u001b[49m\u001b[43m*\u001b[49m\u001b[43mkwargs\u001b[49m\u001b[43m)\u001b[49m\n\u001b[32m      8\u001b[39m     \u001b[38;5;28;01mreturn\u001b[39;00m result\n",
      "\u001b[31mTypeError\u001b[39m: greet_decorator.<locals>.wrapper() got an unexpected keyword argument 'val2'"
     ]
    }
   ],
   "source": [
    "somefunc(5, 2, val2=8)"
   ]
  },
  {
   "cell_type": "code",
   "execution_count": null,
   "id": "c63eed90-37eb-4a43-a500-4f079d8c91be",
   "metadata": {},
   "outputs": [],
   "source": []
  },
  {
   "cell_type": "code",
   "execution_count": 112,
   "id": "5143f8c0-7709-42af-8410-7837896b07f4",
   "metadata": {},
   "outputs": [],
   "source": [
    "class DoubleReturnDecorator:\n",
    "    def __init__(self, func):\n",
    "        self.func=func\n",
    "    def __call__(self, *args, **kwargs):\n",
    "        result = self.func(*args, **kwargs)\n",
    "        return result ** 2"
   ]
  },
  {
   "cell_type": "code",
   "execution_count": 114,
   "id": "18d3919e-78b7-4466-b365-f9563d710f89",
   "metadata": {},
   "outputs": [],
   "source": [
    "@DoubleReturnDecorator\n",
    "def add(a, b):\n",
    "    return a+b"
   ]
  },
  {
   "cell_type": "code",
   "execution_count": 115,
   "id": "aeee19ec-03e3-4b47-ad47-cc33816af03a",
   "metadata": {},
   "outputs": [
    {
     "data": {
      "text/plain": [
       "49"
      ]
     },
     "execution_count": 115,
     "metadata": {},
     "output_type": "execute_result"
    }
   ],
   "source": [
    "add(5, 2)"
   ]
  },
  {
   "cell_type": "code",
   "execution_count": 116,
   "id": "605cb2a5-6e1e-4a71-ae1e-37fc1c9f6251",
   "metadata": {},
   "outputs": [],
   "source": [
    "class DoubleReturnDecorator:\n",
    "    def __init__(self, func):\n",
    "        self.func=func\n",
    "    def __call__(self, *args, **kwargs):\n",
    "        result = self.func(*args, **kwargs)\n",
    "        if result > 100:\n",
    "            return result\n",
    "        else:\n",
    "            return 100"
   ]
  },
  {
   "cell_type": "code",
   "execution_count": 117,
   "id": "46629a17-29d9-4b85-9f7f-610c6616dd1a",
   "metadata": {},
   "outputs": [],
   "source": [
    "@DoubleReturnDecorator\n",
    "def add(a, b):\n",
    "    return a+b"
   ]
  },
  {
   "cell_type": "code",
   "execution_count": 118,
   "id": "a06afd40-a234-46e5-86b6-12664d0b2427",
   "metadata": {},
   "outputs": [
    {
     "data": {
      "text/plain": [
       "100"
      ]
     },
     "execution_count": 118,
     "metadata": {},
     "output_type": "execute_result"
    }
   ],
   "source": [
    "add(5, 2)"
   ]
  },
  {
   "cell_type": "code",
   "execution_count": 119,
   "id": "1705069a-1a55-45f3-8881-aee934d092c5",
   "metadata": {},
   "outputs": [
    {
     "data": {
      "text/plain": [
       "102"
      ]
     },
     "execution_count": 119,
     "metadata": {},
     "output_type": "execute_result"
    }
   ],
   "source": [
    "add(100, 2)"
   ]
  },
  {
   "cell_type": "code",
   "execution_count": null,
   "id": "b1dc1d51-aec3-4225-8fe0-cf215eb1a9c9",
   "metadata": {},
   "outputs": [],
   "source": []
  },
  {
   "cell_type": "markdown",
   "id": "5596052c-e8ba-4fe3-b257-9ee1dab00b82",
   "metadata": {},
   "source": [
    "### Python RegEx"
   ]
  },
  {
   "cell_type": "code",
   "execution_count": null,
   "id": "f111fb91-42a9-44ec-8f82-5616cb950f9e",
   "metadata": {},
   "outputs": [],
   "source": [
    "# metacharacters\n",
    "[],\n",
    "\\,\n",
    ".\n",
    "*\n",
    "&\n",
    "+\n",
    "?\n",
    "{}\n",
    "|\n",
    "()"
   ]
  },
  {
   "cell_type": "code",
   "execution_count": null,
   "id": "21bc1614-3c34-484b-b29f-6a686958a7c7",
   "metadata": {},
   "outputs": [],
   "source": [
    "[adr] --> a, d, r\n",
    "[a-z] --> a,b,c,d,e,..,z\n",
    "[A-Z] --> A, B, C, ... Z\n",
    "[A-Za-z0-9]\n",
    "^ --> when used at the start of pattern it matches the begnening of the string or line\n",
    "      It is also used to match not of any pattern when used inside big brackets\n",
    "$ --> MAtches the end of the string or line\n",
    ". --> any character\n",
    "* --> zero or more times of any pattern on its left hand side\n",
    "+ --> one or more times of any pattern on its left hand side\n",
    "? --> zero one one time of any character on its left hand side\n",
    "{} --> \n",
    "    a{2} --> aa\n",
    "    a{2, 3} --> aa, aaa"
   ]
  },
  {
   "cell_type": "code",
   "execution_count": 120,
   "id": "ac41402e-e623-44c6-bdb7-598aa9f6640b",
   "metadata": {},
   "outputs": [],
   "source": [
    "import re"
   ]
  },
  {
   "cell_type": "code",
   "execution_count": null,
   "id": "dd47f6e1-87f7-418c-a922-8beed3bd3be7",
   "metadata": {},
   "outputs": [],
   "source": [
    "1) findall() --> Returns list containing all the matches\n",
    "2) search()  --> Returns a match object of the first match\n",
    "3) split() --> Return a list where the string has been split at each match\n",
    "4) sub() --> Replaces one or more matches of the string"
   ]
  },
  {
   "cell_type": "code",
   "execution_count": 121,
   "id": "12b93b31-46ef-465f-a6c2-507b5b345296",
   "metadata": {},
   "outputs": [],
   "source": [
    "string = \"There is raining in spain\"\n",
    "x = re.findall(\"in\", string)"
   ]
  },
  {
   "cell_type": "code",
   "execution_count": 122,
   "id": "19699989-783b-427b-b922-94f5441330f7",
   "metadata": {},
   "outputs": [
    {
     "data": {
      "text/plain": [
       "['in', 'in', 'in', 'in']"
      ]
     },
     "execution_count": 122,
     "metadata": {},
     "output_type": "execute_result"
    }
   ],
   "source": [
    "x"
   ]
  },
  {
   "cell_type": "code",
   "execution_count": 125,
   "id": "2429fa49-c8d9-4c09-a24f-59cdd45e2544",
   "metadata": {},
   "outputs": [],
   "source": [
    "string = \"RegExr was created by gskinner.com\"\n",
    "x = re.findall(\"^R[a-z]*\", string)"
   ]
  },
  {
   "cell_type": "code",
   "execution_count": 126,
   "id": "d42ad09b-d501-4a5b-918b-c24915fe0150",
   "metadata": {},
   "outputs": [
    {
     "data": {
      "text/plain": [
       "['Reg']"
      ]
     },
     "execution_count": 126,
     "metadata": {},
     "output_type": "execute_result"
    }
   ],
   "source": [
    "x"
   ]
  },
  {
   "cell_type": "code",
   "execution_count": 127,
   "id": "5785369b-b4e7-4890-8eb6-6a3daee23d26",
   "metadata": {},
   "outputs": [
    {
     "name": "stderr",
     "output_type": "stream",
     "text": [
      "<>:2: SyntaxWarning: invalid escape sequence '\\s'\n",
      "<>:2: SyntaxWarning: invalid escape sequence '\\s'\n",
      "C:\\Users\\Kunal\\AppData\\Local\\Temp\\ipykernel_23752\\4100566778.py:2: SyntaxWarning: invalid escape sequence '\\s'\n",
      "  x = re.search(\"\\s\", txt)\n"
     ]
    }
   ],
   "source": [
    "txt = \"The rain in spain\"\n",
    "x = re.search(\"\\s\", txt)"
   ]
  },
  {
   "cell_type": "code",
   "execution_count": 128,
   "id": "d5c4f93d-bf5e-4f4d-b414-225781acde0f",
   "metadata": {},
   "outputs": [
    {
     "data": {
      "text/plain": [
       "3"
      ]
     },
     "execution_count": 128,
     "metadata": {},
     "output_type": "execute_result"
    }
   ],
   "source": [
    "x.start()"
   ]
  },
  {
   "cell_type": "code",
   "execution_count": 129,
   "id": "ff81aef4-6094-449d-a9a4-eae4617d3194",
   "metadata": {},
   "outputs": [
    {
     "data": {
      "text/plain": [
       "4"
      ]
     },
     "execution_count": 129,
     "metadata": {},
     "output_type": "execute_result"
    }
   ],
   "source": [
    "x.end()"
   ]
  },
  {
   "cell_type": "code",
   "execution_count": 130,
   "id": "2c15ad85-7b06-45bd-957d-f2aa85bfb5af",
   "metadata": {},
   "outputs": [
    {
     "name": "stderr",
     "output_type": "stream",
     "text": [
      "<>:1: SyntaxWarning: invalid escape sequence '\\s'\n",
      "<>:1: SyntaxWarning: invalid escape sequence '\\s'\n",
      "C:\\Users\\Kunal\\AppData\\Local\\Temp\\ipykernel_23752\\1446147990.py:1: SyntaxWarning: invalid escape sequence '\\s'\n",
      "  x = re.split(\"\\s\", txt)\n"
     ]
    }
   ],
   "source": [
    "x = re.split(\"\\s\", txt)"
   ]
  },
  {
   "cell_type": "code",
   "execution_count": 131,
   "id": "38f16443-cdc0-4004-b4ea-74509aad5c09",
   "metadata": {},
   "outputs": [
    {
     "data": {
      "text/plain": [
       "['The', 'rain', 'in', 'spain']"
      ]
     },
     "execution_count": 131,
     "metadata": {},
     "output_type": "execute_result"
    }
   ],
   "source": [
    "x"
   ]
  },
  {
   "cell_type": "code",
   "execution_count": 132,
   "id": "021cc5b6-41ab-4b8f-94b1-c0d31ea83cf5",
   "metadata": {},
   "outputs": [
    {
     "name": "stderr",
     "output_type": "stream",
     "text": [
      "<>:1: SyntaxWarning: invalid escape sequence '\\s'\n",
      "<>:1: SyntaxWarning: invalid escape sequence '\\s'\n",
      "C:\\Users\\Kunal\\AppData\\Local\\Temp\\ipykernel_23752\\2200325643.py:1: SyntaxWarning: invalid escape sequence '\\s'\n",
      "  x = re.split(\"\\s\", txt, 2)\n",
      "C:\\Users\\Kunal\\AppData\\Local\\Temp\\ipykernel_23752\\2200325643.py:1: DeprecationWarning: 'maxsplit' is passed as positional argument\n",
      "  x = re.split(\"\\s\", txt, 2)\n"
     ]
    }
   ],
   "source": [
    "x = re.split(\"\\s\", txt, 2)"
   ]
  },
  {
   "cell_type": "code",
   "execution_count": 133,
   "id": "1f52d552-6cb1-49d2-8fd1-b3fd5247f4bb",
   "metadata": {},
   "outputs": [
    {
     "data": {
      "text/plain": [
       "['The', 'rain', 'in spain']"
      ]
     },
     "execution_count": 133,
     "metadata": {},
     "output_type": "execute_result"
    }
   ],
   "source": [
    "x"
   ]
  },
  {
   "cell_type": "code",
   "execution_count": 134,
   "id": "977c359e-b4df-473c-9bf9-266a7b66a912",
   "metadata": {},
   "outputs": [
    {
     "name": "stderr",
     "output_type": "stream",
     "text": [
      "<>:1: SyntaxWarning: invalid escape sequence '\\s'\n",
      "<>:1: SyntaxWarning: invalid escape sequence '\\s'\n",
      "C:\\Users\\Kunal\\AppData\\Local\\Temp\\ipykernel_23752\\1578568753.py:1: SyntaxWarning: invalid escape sequence '\\s'\n",
      "  x = re.sub(\"\\s\", \".\", txt)\n"
     ]
    }
   ],
   "source": [
    "x = re.sub(\"\\s\", \".\", txt)"
   ]
  },
  {
   "cell_type": "code",
   "execution_count": 135,
   "id": "49cc895b-29b0-40fe-ba5e-c1c4fd18191e",
   "metadata": {},
   "outputs": [
    {
     "data": {
      "text/plain": [
       "'The.rain.in.spain'"
      ]
     },
     "execution_count": 135,
     "metadata": {},
     "output_type": "execute_result"
    }
   ],
   "source": [
    "x"
   ]
  },
  {
   "cell_type": "code",
   "execution_count": 136,
   "id": "94ba4281-85e4-4eb7-99c2-bbcbc3b9a51d",
   "metadata": {},
   "outputs": [
    {
     "name": "stderr",
     "output_type": "stream",
     "text": [
      "<>:1: SyntaxWarning: invalid escape sequence '\\s'\n",
      "<>:1: SyntaxWarning: invalid escape sequence '\\s'\n",
      "C:\\Users\\Kunal\\AppData\\Local\\Temp\\ipykernel_23752\\3576411663.py:1: SyntaxWarning: invalid escape sequence '\\s'\n",
      "  x = re.sub(\"\\s\", \".\", txt, 1)\n",
      "C:\\Users\\Kunal\\AppData\\Local\\Temp\\ipykernel_23752\\3576411663.py:1: DeprecationWarning: 'count' is passed as positional argument\n",
      "  x = re.sub(\"\\s\", \".\", txt, 1)\n"
     ]
    }
   ],
   "source": [
    "x = re.sub(\"\\s\", \".\", txt, 1)"
   ]
  },
  {
   "cell_type": "code",
   "execution_count": 137,
   "id": "e6f4a636-0b5b-497d-a5a2-663eaa67c4e8",
   "metadata": {},
   "outputs": [
    {
     "data": {
      "text/plain": [
       "'The.rain in spain'"
      ]
     },
     "execution_count": 137,
     "metadata": {},
     "output_type": "execute_result"
    }
   ],
   "source": [
    "x"
   ]
  },
  {
   "cell_type": "markdown",
   "id": "6e671df1-299d-4a54-a07a-a38eada18800",
   "metadata": {},
   "source": [
    "### datetime "
   ]
  },
  {
   "cell_type": "code",
   "execution_count": 138,
   "id": "3c6dd46a-aa07-41e1-baa6-74b5cc120629",
   "metadata": {},
   "outputs": [],
   "source": [
    "import datetime"
   ]
  },
  {
   "cell_type": "code",
   "execution_count": 146,
   "id": "94c1e739-7883-4b0c-96cc-cf55451ae884",
   "metadata": {},
   "outputs": [],
   "source": [
    "x = datetime.datetime.now()"
   ]
  },
  {
   "cell_type": "code",
   "execution_count": 147,
   "id": "1ea2a729-99ce-4071-ac30-41c2ea94df2d",
   "metadata": {},
   "outputs": [
    {
     "data": {
      "text/plain": [
       "datetime.datetime(2025, 3, 30, 21, 6, 39, 249046)"
      ]
     },
     "execution_count": 147,
     "metadata": {},
     "output_type": "execute_result"
    }
   ],
   "source": [
    "x"
   ]
  },
  {
   "cell_type": "code",
   "execution_count": 148,
   "id": "35141763-ffe1-4c09-b166-2fa955b6145d",
   "metadata": {},
   "outputs": [
    {
     "data": {
      "text/plain": [
       "2025"
      ]
     },
     "execution_count": 148,
     "metadata": {},
     "output_type": "execute_result"
    }
   ],
   "source": [
    "x.year"
   ]
  },
  {
   "cell_type": "code",
   "execution_count": 149,
   "id": "15fb9af1-c6df-4e71-9080-6aefa0fc42b7",
   "metadata": {},
   "outputs": [
    {
     "data": {
      "text/plain": [
       "datetime.time(21, 6, 39, 249046)"
      ]
     },
     "execution_count": 149,
     "metadata": {},
     "output_type": "execute_result"
    }
   ],
   "source": [
    "x.time()"
   ]
  },
  {
   "cell_type": "code",
   "execution_count": 151,
   "id": "fbacf09e-d619-4d3a-84ee-a264293bf385",
   "metadata": {},
   "outputs": [
    {
     "name": "stdout",
     "output_type": "stream",
     "text": [
      "21:06:39.249046\n"
     ]
    }
   ],
   "source": [
    "print(x.time())"
   ]
  },
  {
   "cell_type": "code",
   "execution_count": 152,
   "id": "5d42616f-89ac-4db9-9d04-9b262e56352c",
   "metadata": {},
   "outputs": [
    {
     "name": "stdout",
     "output_type": "stream",
     "text": [
      "2025-03-30 00:00:00\n"
     ]
    }
   ],
   "source": [
    "x = datetime.datetime(2025, 3, 30)\n",
    "print(x)"
   ]
  },
  {
   "cell_type": "code",
   "execution_count": 153,
   "id": "aea14cd1-bfa8-4b3e-97dc-309f8d49dd8a",
   "metadata": {},
   "outputs": [
    {
     "data": {
      "text/plain": [
       "datetime.datetime(2025, 3, 30, 0, 0)"
      ]
     },
     "execution_count": 153,
     "metadata": {},
     "output_type": "execute_result"
    }
   ],
   "source": [
    "x"
   ]
  },
  {
   "cell_type": "code",
   "execution_count": 154,
   "id": "452afbb5-d3b4-4397-b910-f360051aa398",
   "metadata": {},
   "outputs": [
    {
     "data": {
      "text/plain": [
       "'March'"
      ]
     },
     "execution_count": 154,
     "metadata": {},
     "output_type": "execute_result"
    }
   ],
   "source": [
    "x.strftime(\"%B\")"
   ]
  },
  {
   "cell_type": "code",
   "execution_count": 155,
   "id": "ed7b0858-95ce-402b-97e8-f9e480bc4baa",
   "metadata": {},
   "outputs": [
    {
     "data": {
      "text/plain": [
       "'Sun'"
      ]
     },
     "execution_count": 155,
     "metadata": {},
     "output_type": "execute_result"
    }
   ],
   "source": [
    "x.strftime(\"%a\")"
   ]
  },
  {
   "cell_type": "code",
   "execution_count": 156,
   "id": "9ab15286-7990-43e0-8a2e-20d698f20d1f",
   "metadata": {},
   "outputs": [
    {
     "data": {
      "text/plain": [
       "'Sunday'"
      ]
     },
     "execution_count": 156,
     "metadata": {},
     "output_type": "execute_result"
    }
   ],
   "source": [
    "x.strftime(\"%A\")"
   ]
  },
  {
   "cell_type": "code",
   "execution_count": 157,
   "id": "34e99da7-fa66-4052-a12c-a37e35268e0e",
   "metadata": {},
   "outputs": [
    {
     "data": {
      "text/plain": [
       "'2025'"
      ]
     },
     "execution_count": 157,
     "metadata": {},
     "output_type": "execute_result"
    }
   ],
   "source": [
    "x.strftime(\"%Y\")"
   ]
  },
  {
   "cell_type": "code",
   "execution_count": 158,
   "id": "61178098-a5af-4bf4-b8e3-05e0c50fa028",
   "metadata": {},
   "outputs": [
    {
     "data": {
      "text/plain": [
       "'25'"
      ]
     },
     "execution_count": 158,
     "metadata": {},
     "output_type": "execute_result"
    }
   ],
   "source": [
    "x.strftime(\"%y\")"
   ]
  },
  {
   "cell_type": "code",
   "execution_count": 159,
   "id": "5934ff7c-5a0f-49f9-8e77-57a897d04db3",
   "metadata": {},
   "outputs": [
    {
     "data": {
      "text/plain": [
       "''"
      ]
     },
     "execution_count": 159,
     "metadata": {},
     "output_type": "execute_result"
    }
   ],
   "source": [
    "x.strftime(\"%z\")"
   ]
  },
  {
   "cell_type": "code",
   "execution_count": 160,
   "id": "fe4397c3-52cb-4948-ae8a-4e400238aeb3",
   "metadata": {},
   "outputs": [],
   "source": [
    "x = datetime.datetime.now()"
   ]
  },
  {
   "cell_type": "code",
   "execution_count": 163,
   "id": "b68dbbff-2530-4841-934d-a5cb7b96439a",
   "metadata": {},
   "outputs": [
    {
     "data": {
      "text/plain": [
       "'08'"
      ]
     },
     "execution_count": 163,
     "metadata": {},
     "output_type": "execute_result"
    }
   ],
   "source": [
    "x.strftime(\"%M\")"
   ]
  },
  {
   "cell_type": "code",
   "execution_count": 164,
   "id": "fd2f2a80-749a-49cc-8c74-6982b6ee27ab",
   "metadata": {},
   "outputs": [
    {
     "data": {
      "text/plain": [
       "'21'"
      ]
     },
     "execution_count": 164,
     "metadata": {},
     "output_type": "execute_result"
    }
   ],
   "source": [
    "x.strftime(\"%H\")"
   ]
  },
  {
   "cell_type": "code",
   "execution_count": 165,
   "id": "a8535fac-752d-4448-ac20-f3f746136f97",
   "metadata": {},
   "outputs": [
    {
     "data": {
      "text/plain": [
       "'09'"
      ]
     },
     "execution_count": 165,
     "metadata": {},
     "output_type": "execute_result"
    }
   ],
   "source": [
    "x.strftime(\"%I\")"
   ]
  },
  {
   "cell_type": "code",
   "execution_count": 166,
   "id": "e68ef6f2-627a-4f2a-82b0-073f3b45c435",
   "metadata": {},
   "outputs": [
    {
     "data": {
      "text/plain": [
       "'PM'"
      ]
     },
     "execution_count": 166,
     "metadata": {},
     "output_type": "execute_result"
    }
   ],
   "source": [
    "x.strftime(\"%p\")"
   ]
  },
  {
   "cell_type": "code",
   "execution_count": null,
   "id": "680d7ea6-44ad-4950-b36e-2ebb96e40ba1",
   "metadata": {},
   "outputs": [],
   "source": []
  }
 ],
 "metadata": {
  "kernelspec": {
   "display_name": "Python 3 (ipykernel)",
   "language": "python",
   "name": "python3"
  },
  "language_info": {
   "codemirror_mode": {
    "name": "ipython",
    "version": 3
   },
   "file_extension": ".py",
   "mimetype": "text/x-python",
   "name": "python",
   "nbconvert_exporter": "python",
   "pygments_lexer": "ipython3",
   "version": "3.13.2"
  }
 },
 "nbformat": 4,
 "nbformat_minor": 5
}
