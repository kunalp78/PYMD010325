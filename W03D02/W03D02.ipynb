{
 "cells": [
  {
   "cell_type": "code",
   "execution_count": null,
   "id": "a2310c33-39c0-4a10-89b1-331b275cf217",
   "metadata": {},
   "outputs": [],
   "source": [
    "Encapsulation:\n",
    "    private data: Bank balance\n",
    "    public interface/ methods: Deposite or withdraw"
   ]
  },
  {
   "cell_type": "code",
   "execution_count": null,
   "id": "609e5c9b-a684-4985-b0e2-c010fe7f2e70",
   "metadata": {},
   "outputs": [],
   "source": [
    "Inheritence:\n",
    "    Parent class/ base class: is the class bieng inherited\n",
    "    Child class/ derived class: is the class that inherits from another class "
   ]
  },
  {
   "cell_type": "markdown",
   "id": "82729a92-3775-4875-b6ee-c5a8336bff5c",
   "metadata": {},
   "source": [
    "# Single Inheritence"
   ]
  },
  {
   "cell_type": "code",
   "execution_count": 1,
   "id": "28b3e183-d9f8-49dd-b552-60ba7462e644",
   "metadata": {},
   "outputs": [],
   "source": [
    "class Person:\n",
    "    def __init__(self, name, phone_number, address):\n",
    "        self.name = name\n",
    "        self.phone_number = phone_number\n",
    "        self.address = address\n",
    "\n",
    "    def disclose_identity(self):\n",
    "        print(f\"I am {self.name}. I am from {self.address}\")"
   ]
  },
  {
   "cell_type": "code",
   "execution_count": 2,
   "id": "4cdf309f-ec97-4b68-b195-c1c3216cc5a0",
   "metadata": {},
   "outputs": [],
   "source": [
    "x = Person(\"Jatin\", \"+91 123587469\", \"Lucknow\")"
   ]
  },
  {
   "cell_type": "code",
   "execution_count": 3,
   "id": "454bad4d-c64e-4c3a-9a2e-b872609fb139",
   "metadata": {},
   "outputs": [
    {
     "name": "stdout",
     "output_type": "stream",
     "text": [
      "I am Jatin. I am from Lucknow\n"
     ]
    }
   ],
   "source": [
    "x.disclose_identity()"
   ]
  },
  {
   "cell_type": "code",
   "execution_count": 4,
   "id": "c8de98d9-db06-434c-bfdd-6ec364a2192b",
   "metadata": {},
   "outputs": [],
   "source": [
    "class Student(Person):\n",
    "    ..."
   ]
  },
  {
   "cell_type": "code",
   "execution_count": 5,
   "id": "0ac0039d-a95e-4f0a-8e9b-d2c04e525873",
   "metadata": {},
   "outputs": [
    {
     "ename": "TypeError",
     "evalue": "Person.__init__() missing 3 required positional arguments: 'name', 'phone_number', and 'address'",
     "output_type": "error",
     "traceback": [
      "\u001b[31m---------------------------------------------------------------------------\u001b[39m",
      "\u001b[31mTypeError\u001b[39m                                 Traceback (most recent call last)",
      "\u001b[36mCell\u001b[39m\u001b[36m \u001b[39m\u001b[32mIn[5]\u001b[39m\u001b[32m, line 1\u001b[39m\n\u001b[32m----> \u001b[39m\u001b[32m1\u001b[39m s1 = \u001b[43mStudent\u001b[49m\u001b[43m(\u001b[49m\u001b[43m)\u001b[49m\n",
      "\u001b[31mTypeError\u001b[39m: Person.__init__() missing 3 required positional arguments: 'name', 'phone_number', and 'address'"
     ]
    }
   ],
   "source": [
    "s1 = Student()"
   ]
  },
  {
   "cell_type": "code",
   "execution_count": 6,
   "id": "e5e0a230-a15f-4cdc-8249-f2ad35e49918",
   "metadata": {},
   "outputs": [],
   "source": [
    "s1 = Student(\"Priya\", \"+9125487936\", \"Bangalore\")"
   ]
  },
  {
   "cell_type": "code",
   "execution_count": 7,
   "id": "84b140c9-6773-4761-8704-5f81821c53a1",
   "metadata": {},
   "outputs": [
    {
     "name": "stdout",
     "output_type": "stream",
     "text": [
      "I am Priya. I am from Bangalore\n"
     ]
    }
   ],
   "source": [
    "s1.disclose_identity()"
   ]
  },
  {
   "cell_type": "code",
   "execution_count": 8,
   "id": "a5f44605-fdb5-4233-93a4-3e7dabeac757",
   "metadata": {},
   "outputs": [],
   "source": [
    "class Student(Person):\n",
    "    def __init__(self, name, phone_number, address, year, course):\n",
    "        super().__init__(name, phone_number, address)\n",
    "        self.year = year\n",
    "        self.course = course\n",
    "    "
   ]
  },
  {
   "cell_type": "code",
   "execution_count": 9,
   "id": "d8b10f4a-688f-4c87-82a5-df8c70375e6e",
   "metadata": {},
   "outputs": [],
   "source": [
    "s1 = Student(\"Gopalan\", \"+91 547896213\", \"Mumbai\", \"2nd year\", \"Mechanical\")"
   ]
  },
  {
   "cell_type": "code",
   "execution_count": 10,
   "id": "56e4f756-7224-4517-882e-80d52901fd1a",
   "metadata": {},
   "outputs": [
    {
     "name": "stdout",
     "output_type": "stream",
     "text": [
      "I am Gopalan. I am from Mumbai\n"
     ]
    }
   ],
   "source": [
    "s1.disclose_identity()"
   ]
  },
  {
   "cell_type": "code",
   "execution_count": 23,
   "id": "0944c2d3-1b0a-482c-b985-f9ec68318666",
   "metadata": {},
   "outputs": [],
   "source": [
    "class Student(Person):\n",
    "    def __init__(self, name, phone_number, address, year, course):\n",
    "        super().__init__(name, phone_number, address)\n",
    "        self.year = year\n",
    "        self.course = course\n",
    "\n",
    "    def disclose_identity(self):\n",
    "        super().disclose_identity()\n",
    "        print(f\"I am a {self.year} student enrolled in {self.course} Engineering\")"
   ]
  },
  {
   "cell_type": "code",
   "execution_count": 24,
   "id": "87a9acee-e917-45d9-bc92-bdc90574d9c1",
   "metadata": {},
   "outputs": [],
   "source": [
    "s1 = Student(\"Gopalan\", \"+91 547896213\", \"Mumbai\", \"2nd year\", \"Mechanical\")"
   ]
  },
  {
   "cell_type": "code",
   "execution_count": 25,
   "id": "fa08639d-c301-4d5e-b773-cb5746fc5df1",
   "metadata": {},
   "outputs": [
    {
     "data": {
      "text/plain": [
       "'Gopalan'"
      ]
     },
     "execution_count": 25,
     "metadata": {},
     "output_type": "execute_result"
    }
   ],
   "source": [
    "s1.name"
   ]
  },
  {
   "cell_type": "code",
   "execution_count": 26,
   "id": "38b5f3f7-8760-4c07-b5a2-6e6c1e32b85d",
   "metadata": {},
   "outputs": [
    {
     "name": "stdout",
     "output_type": "stream",
     "text": [
      "I am Gopalan. I am from Mumbai\n",
      "I am a 2nd year student enrolled in Mechanical Engineering\n"
     ]
    }
   ],
   "source": [
    "s1.disclose_identity()"
   ]
  },
  {
   "cell_type": "code",
   "execution_count": 27,
   "id": "9afefff9-ee51-4356-9212-e110085aeee2",
   "metadata": {},
   "outputs": [],
   "source": [
    "class Student(Person):\n",
    "    def __init__(self, year, course):\n",
    "        self.year = year\n",
    "        self.course = course\n",
    "\n",
    "    def disclose_identity(self):\n",
    "        super().disclose_identity()\n",
    "        print(f\"I am a {self.year} student enrolled in {self.course} Engineering\")"
   ]
  },
  {
   "cell_type": "code",
   "execution_count": 28,
   "id": "48154938-b737-4ef0-84d3-3629bcb046b7",
   "metadata": {},
   "outputs": [],
   "source": [
    "s1 = Student(\"3rd year\", \"CSE\")"
   ]
  },
  {
   "cell_type": "code",
   "execution_count": 29,
   "id": "1cd68b66-602f-4fa4-82a3-08be40da1040",
   "metadata": {},
   "outputs": [
    {
     "ename": "AttributeError",
     "evalue": "'Student' object has no attribute 'name'",
     "output_type": "error",
     "traceback": [
      "\u001b[31m---------------------------------------------------------------------------\u001b[39m",
      "\u001b[31mAttributeError\u001b[39m                            Traceback (most recent call last)",
      "\u001b[36mCell\u001b[39m\u001b[36m \u001b[39m\u001b[32mIn[29]\u001b[39m\u001b[32m, line 1\u001b[39m\n\u001b[32m----> \u001b[39m\u001b[32m1\u001b[39m \u001b[43ms1\u001b[49m\u001b[43m.\u001b[49m\u001b[43mname\u001b[49m\n",
      "\u001b[31mAttributeError\u001b[39m: 'Student' object has no attribute 'name'"
     ]
    }
   ],
   "source": [
    "s1.name"
   ]
  },
  {
   "cell_type": "code",
   "execution_count": null,
   "id": "fee11522-2d9f-4c6d-b6db-b6354b31711c",
   "metadata": {},
   "outputs": [],
   "source": [
    "1) Single inheritence\n",
    "    A --> B\n",
    "2) Multilevel Inheritence\n",
    "    A --> B --> C\n",
    "3) Multiple Inheritence\n",
    "    (A, B) --> C\n",
    "4) Hierarchical inheritence\n",
    "    A --> (B, C, D, ...)\n",
    "5) Hybrid inheritence\n",
    "    A --> (B, C) --> D"
   ]
  },
  {
   "cell_type": "markdown",
   "id": "e69951bd-62fe-4e44-af9b-975402677654",
   "metadata": {},
   "source": [
    "# Multilevel Inheritence"
   ]
  },
  {
   "cell_type": "code",
   "execution_count": 30,
   "id": "ec4352b2-8d90-4881-b9de-32fdd7f67104",
   "metadata": {},
   "outputs": [
    {
     "name": "stdout",
     "output_type": "stream",
     "text": [
      "I am in C\n"
     ]
    }
   ],
   "source": [
    "class A:\n",
    "    def __init__(self):\n",
    "        print(\"I am in A\")\n",
    "\n",
    "class B(A):\n",
    "    def __init__(self):\n",
    "        print(\"I am in B\")\n",
    "\n",
    "class C(B):\n",
    "    def __init__(self):\n",
    "        print(\"I am in C\")\n",
    "\n",
    "c = C()"
   ]
  },
  {
   "cell_type": "code",
   "execution_count": null,
   "id": "0bcf3141-decc-401e-b986-e49490da12e1",
   "metadata": {},
   "outputs": [],
   "source": [
    "a) I am in C\n",
    "\n",
    "b) I am in B\n",
    "   I am in C\n",
    "\n",
    "c) I am in A\n",
    "   I am in B\n",
    "   I am in C\n",
    "\n",
    "c -->3\n",
    "a -->1"
   ]
  },
  {
   "cell_type": "code",
   "execution_count": 31,
   "id": "dffadd10-1e93-4a2a-9053-e43348d85d35",
   "metadata": {},
   "outputs": [
    {
     "name": "stdout",
     "output_type": "stream",
     "text": [
      "I am in B\n",
      "I am in C\n"
     ]
    }
   ],
   "source": [
    "class A:\n",
    "    def __init__(self):\n",
    "        print(\"I am in A\")\n",
    "\n",
    "class B(A):\n",
    "    def __init__(self):\n",
    "        print(\"I am in B\")\n",
    "\n",
    "class C(B):\n",
    "    def __init__(self):\n",
    "        super().__init__()\n",
    "        print(\"I am in C\")\n",
    "\n",
    "c = C()"
   ]
  },
  {
   "cell_type": "code",
   "execution_count": null,
   "id": "f6561896-7f69-40ad-b996-565702511d0b",
   "metadata": {},
   "outputs": [],
   "source": [
    "a) I am in C\n",
    "\n",
    "b) I am in B\n",
    "   I am in C\n",
    "\n",
    "c) I am in A\n",
    "   I am in B\n",
    "   I am in C"
   ]
  },
  {
   "cell_type": "code",
   "execution_count": 32,
   "id": "f45f04ba-c0df-4e4e-84da-bdd99c57f38d",
   "metadata": {},
   "outputs": [
    {
     "name": "stdout",
     "output_type": "stream",
     "text": [
      "I am in A\n",
      "I am in B\n",
      "I am in C\n"
     ]
    }
   ],
   "source": [
    "class A:\n",
    "    def __init__(self):\n",
    "        print(\"I am in A\")\n",
    "\n",
    "class B(A):\n",
    "    def __init__(self):\n",
    "        super().__init__()\n",
    "        print(\"I am in B\")\n",
    "\n",
    "class C(B):\n",
    "    def __init__(self):\n",
    "        super().__init__()\n",
    "        print(\"I am in C\")\n",
    "\n",
    "c = C()"
   ]
  },
  {
   "cell_type": "markdown",
   "id": "76c6ad28-b1c3-4c6a-a63f-09cf64a5ae62",
   "metadata": {},
   "source": [
    "# Hierarchical inheritence"
   ]
  },
  {
   "cell_type": "code",
   "execution_count": 33,
   "id": "be378785-14b0-4aec-956c-f53313ddd008",
   "metadata": {},
   "outputs": [],
   "source": [
    "class A:\n",
    "    def __init__(self):\n",
    "        print(\"I am in A\")\n",
    "\n",
    "class B(A):\n",
    "    ...\n",
    "class C(A):\n",
    "    ..."
   ]
  },
  {
   "cell_type": "code",
   "execution_count": 36,
   "id": "e40b09d6-9b29-45f2-a294-10ae98bb8434",
   "metadata": {},
   "outputs": [
    {
     "name": "stdout",
     "output_type": "stream",
     "text": [
      "I am in A\n"
     ]
    }
   ],
   "source": [
    "b = B()"
   ]
  },
  {
   "cell_type": "code",
   "execution_count": 37,
   "id": "7afbc5f3-6a88-4356-9312-98cea33b7c37",
   "metadata": {},
   "outputs": [
    {
     "name": "stdout",
     "output_type": "stream",
     "text": [
      "I am in A\n"
     ]
    }
   ],
   "source": [
    "c = C()"
   ]
  },
  {
   "cell_type": "markdown",
   "id": "4840fed1-fab3-4a6d-8c5d-cb852afce178",
   "metadata": {},
   "source": [
    "# Multiple Inheritence"
   ]
  },
  {
   "cell_type": "code",
   "execution_count": 38,
   "id": "fcf79685-123a-4961-8e44-ea19f8820a75",
   "metadata": {},
   "outputs": [],
   "source": [
    "class A:\n",
    "    def __init__(self):\n",
    "        print(\"I am in A\")\n",
    "\n",
    "    def level_func(self):\n",
    "        print(\"I am at top\")\n",
    "\n",
    "class B:\n",
    "    def level_func(self):\n",
    "        print(\"I am at bottom\")\n",
    "\n",
    "class C(A, B):\n",
    "    ..."
   ]
  },
  {
   "cell_type": "code",
   "execution_count": 39,
   "id": "9eba9151-ed55-408e-88ab-9d7b3cdcdaea",
   "metadata": {},
   "outputs": [
    {
     "name": "stdout",
     "output_type": "stream",
     "text": [
      "I am in A\n"
     ]
    }
   ],
   "source": [
    "c = C()"
   ]
  },
  {
   "cell_type": "code",
   "execution_count": 40,
   "id": "514d0306-9853-410f-8afa-50aa04cf7d64",
   "metadata": {},
   "outputs": [],
   "source": [
    "class D(B, A):\n",
    "    ..."
   ]
  },
  {
   "cell_type": "code",
   "execution_count": 41,
   "id": "7086f677-e6c2-4a04-b45d-a57d7ab98855",
   "metadata": {},
   "outputs": [
    {
     "name": "stdout",
     "output_type": "stream",
     "text": [
      "I am in A\n"
     ]
    }
   ],
   "source": [
    "d = D()"
   ]
  },
  {
   "cell_type": "code",
   "execution_count": 42,
   "id": "60f572a0-6498-458c-b30b-a63249926ca5",
   "metadata": {},
   "outputs": [
    {
     "name": "stdout",
     "output_type": "stream",
     "text": [
      "I am at top\n"
     ]
    }
   ],
   "source": [
    "c.level_func()"
   ]
  },
  {
   "cell_type": "code",
   "execution_count": 43,
   "id": "fd4a922b-bf4a-4d13-a7b3-d08e8c88112d",
   "metadata": {},
   "outputs": [
    {
     "name": "stdout",
     "output_type": "stream",
     "text": [
      "I am at bottom\n"
     ]
    }
   ],
   "source": [
    "d.level_func()"
   ]
  },
  {
   "cell_type": "code",
   "execution_count": 46,
   "id": "d5b008ed-f514-46c2-a75f-23cb5f43a257",
   "metadata": {},
   "outputs": [],
   "source": [
    "class A:\n",
    "    def __init__(self):\n",
    "        print(\"I am in A\")\n",
    "\n",
    "    def level_func(self):\n",
    "        super().level_func() \n",
    "        print(\"I am at top\")\n",
    "\n",
    "class B:\n",
    "    def level_func(self):\n",
    "        print(\"I am at bottom\")\n",
    "\n",
    "class C(A, B):\n",
    "    ..."
   ]
  },
  {
   "cell_type": "code",
   "execution_count": 47,
   "id": "56f6b6f5-3944-4fc9-b28c-84b1ae044a5f",
   "metadata": {},
   "outputs": [
    {
     "name": "stdout",
     "output_type": "stream",
     "text": [
      "I am in A\n"
     ]
    }
   ],
   "source": [
    "c = C()"
   ]
  },
  {
   "cell_type": "code",
   "execution_count": 48,
   "id": "77faff0c-446d-4016-914b-d6a882d4d287",
   "metadata": {},
   "outputs": [
    {
     "name": "stdout",
     "output_type": "stream",
     "text": [
      "I am at bottom\n",
      "I am at top\n"
     ]
    }
   ],
   "source": [
    "c.level_func()"
   ]
  },
  {
   "cell_type": "code",
   "execution_count": 49,
   "id": "66b2c0b3-d41c-413b-a382-13b59c11351d",
   "metadata": {},
   "outputs": [],
   "source": [
    "# mro --> method resolution order"
   ]
  },
  {
   "cell_type": "code",
   "execution_count": 50,
   "id": "d5bf1009-96af-4e73-96fc-5462b49b4fb4",
   "metadata": {
    "collapsed": true,
    "jupyter": {
     "outputs_hidden": true
    }
   },
   "outputs": [
    {
     "name": "stdout",
     "output_type": "stream",
     "text": [
      "Help on C in module __main__ object:\n",
      "\n",
      "class C(A, B)\n",
      " |  Method resolution order:\n",
      " |      C\n",
      " |      A\n",
      " |      B\n",
      " |      builtins.object\n",
      " |\n",
      " |  Methods inherited from A:\n",
      " |\n",
      " |  __init__(self)\n",
      " |      Initialize self.  See help(type(self)) for accurate signature.\n",
      " |\n",
      " |  level_func(self)\n",
      " |\n",
      " |  ----------------------------------------------------------------------\n",
      " |  Data descriptors inherited from A:\n",
      " |\n",
      " |  __dict__\n",
      " |      dictionary for instance variables\n",
      " |\n",
      " |  __weakref__\n",
      " |      list of weak references to the object\n",
      "\n"
     ]
    }
   ],
   "source": [
    "help(c)"
   ]
  },
  {
   "cell_type": "code",
   "execution_count": 51,
   "id": "df3b45d6-54bd-4249-aaad-eee069a88ae5",
   "metadata": {},
   "outputs": [
    {
     "name": "stdout",
     "output_type": "stream",
     "text": [
      "I am in A\n"
     ]
    },
    {
     "ename": "AttributeError",
     "evalue": "'super' object has no attribute 'level_func'",
     "output_type": "error",
     "traceback": [
      "\u001b[31m---------------------------------------------------------------------------\u001b[39m",
      "\u001b[31mAttributeError\u001b[39m                            Traceback (most recent call last)",
      "\u001b[36mCell\u001b[39m\u001b[36m \u001b[39m\u001b[32mIn[51]\u001b[39m\u001b[32m, line 2\u001b[39m\n\u001b[32m      1\u001b[39m a = A()\n\u001b[32m----> \u001b[39m\u001b[32m2\u001b[39m \u001b[43ma\u001b[49m\u001b[43m.\u001b[49m\u001b[43mlevel_func\u001b[49m\u001b[43m(\u001b[49m\u001b[43m)\u001b[49m\n",
      "\u001b[36mCell\u001b[39m\u001b[36m \u001b[39m\u001b[32mIn[46]\u001b[39m\u001b[32m, line 6\u001b[39m, in \u001b[36mA.level_func\u001b[39m\u001b[34m(self)\u001b[39m\n\u001b[32m      5\u001b[39m \u001b[38;5;28;01mdef\u001b[39;00m\u001b[38;5;250m \u001b[39m\u001b[34mlevel_func\u001b[39m(\u001b[38;5;28mself\u001b[39m):\n\u001b[32m----> \u001b[39m\u001b[32m6\u001b[39m     \u001b[38;5;28;43msuper\u001b[39;49m\u001b[43m(\u001b[49m\u001b[43m)\u001b[49m\u001b[43m.\u001b[49m\u001b[43mlevel_func\u001b[49m()\n\u001b[32m      7\u001b[39m     \u001b[38;5;28mprint\u001b[39m(\u001b[33m\"\u001b[39m\u001b[33mI am at top\u001b[39m\u001b[33m\"\u001b[39m)\n",
      "\u001b[31mAttributeError\u001b[39m: 'super' object has no attribute 'level_func'"
     ]
    }
   ],
   "source": [
    "a = A()\n",
    "a.level_func()"
   ]
  },
  {
   "cell_type": "code",
   "execution_count": 52,
   "id": "94a6af6f-fb0a-41d8-9207-0f80a6dd4c7d",
   "metadata": {},
   "outputs": [],
   "source": [
    "class A:\n",
    "    def __init__(self):\n",
    "        super().__init__()\n",
    "        print(\"A\")\n",
    "\n",
    "class B:\n",
    "    def __init__(self):\n",
    "        super().__init__()\n",
    "        print(\"B\")\n",
    "class D:\n",
    "    def __init__(self):\n",
    "        print(\"D\")\n",
    "\n",
    "class C(D, B, A):\n",
    "    def __init__(self):\n",
    "        print(\"C\")\n",
    "        super().__init__()\n"
   ]
  },
  {
   "cell_type": "code",
   "execution_count": 55,
   "id": "703b0a6b-3659-4ddc-b466-cdcb2f84fa94",
   "metadata": {},
   "outputs": [
    {
     "name": "stdout",
     "output_type": "stream",
     "text": [
      "C\n",
      "D\n"
     ]
    }
   ],
   "source": [
    "c = C()"
   ]
  },
  {
   "cell_type": "code",
   "execution_count": null,
   "id": "83d774bf-7a60-499f-abba-2894881a531a",
   "metadata": {},
   "outputs": [],
   "source": []
  },
  {
   "cell_type": "code",
   "execution_count": null,
   "id": "27d97c8f-3b29-403a-87e4-d509dc7fa362",
   "metadata": {},
   "outputs": [],
   "source": []
  },
  {
   "cell_type": "code",
   "execution_count": null,
   "id": "a852034d-4f5b-4332-a8d1-50a77bf1cfa5",
   "metadata": {},
   "outputs": [],
   "source": []
  },
  {
   "cell_type": "code",
   "execution_count": null,
   "id": "25abfee0-c3a6-4cda-b25b-18085b74ec42",
   "metadata": {},
   "outputs": [],
   "source": []
  },
  {
   "cell_type": "code",
   "execution_count": 56,
   "id": "69c9e387-8227-4ac6-804b-e2ada7af0401",
   "metadata": {},
   "outputs": [],
   "source": [
    "class A:\n",
    "    def __init__(self):\n",
    "        super().__init__()\n",
    "        print(\"A\")\n",
    "\n",
    "class B:\n",
    "    def __init__(self):\n",
    "        super().__init__()\n",
    "        print(\"B\")\n",
    "class D:\n",
    "    def __init__(self):\n",
    "        print(\"D\")\n",
    "\n",
    "class E(B, D, A):\n",
    "    def __init__(self):\n",
    "        print(\"E\")\n",
    "        super().__init__()\n"
   ]
  },
  {
   "cell_type": "code",
   "execution_count": 57,
   "id": "fb00ee00-4e6d-4519-b1b1-de8c3db182ac",
   "metadata": {},
   "outputs": [
    {
     "name": "stdout",
     "output_type": "stream",
     "text": [
      "E\n",
      "D\n",
      "B\n"
     ]
    }
   ],
   "source": [
    "e = E()"
   ]
  },
  {
   "cell_type": "code",
   "execution_count": null,
   "id": "d3d1cd68-5740-40be-a14f-342f393d5592",
   "metadata": {},
   "outputs": [],
   "source": [
    "E --> D --> B"
   ]
  },
  {
   "cell_type": "code",
   "execution_count": null,
   "id": "33a92fa4-a032-4ecd-8a57-c6e37215bc9c",
   "metadata": {},
   "outputs": [],
   "source": []
  },
  {
   "cell_type": "code",
   "execution_count": 58,
   "id": "f76f7757-a67f-410b-9516-58c8c42a7f3f",
   "metadata": {},
   "outputs": [],
   "source": [
    "class A:\n",
    "    def __init__(self):\n",
    "        super().__init__()\n",
    "        print(\"A\")\n",
    "\n",
    "class B:\n",
    "    def __init__(self):\n",
    "        super().__init__()\n",
    "        print(\"B\")\n",
    "class D:\n",
    "    def __init__(self):\n",
    "        print(\"D\")\n",
    "\n",
    "class G(B, A, D):\n",
    "    def __init__(self):\n",
    "        print(\"G\")\n",
    "        super().__init__()"
   ]
  },
  {
   "cell_type": "code",
   "execution_count": 60,
   "id": "4ef6eaf2-763a-4679-b3c9-bdea0d331b4c",
   "metadata": {},
   "outputs": [
    {
     "name": "stdout",
     "output_type": "stream",
     "text": [
      "G\n",
      "D\n",
      "A\n",
      "B\n"
     ]
    }
   ],
   "source": [
    "g = G()"
   ]
  },
  {
   "cell_type": "code",
   "execution_count": 59,
   "id": "b59868f0-0d93-4bbc-88e1-f5f6e8b15be6",
   "metadata": {
    "collapsed": true,
    "jupyter": {
     "outputs_hidden": true
    }
   },
   "outputs": [
    {
     "ename": "SyntaxError",
     "evalue": "invalid syntax (1106303886.py, line 1)",
     "output_type": "error",
     "traceback": [
      "  \u001b[36mCell\u001b[39m\u001b[36m \u001b[39m\u001b[32mIn[59]\u001b[39m\u001b[32m, line 1\u001b[39m\n\u001b[31m    \u001b[39m\u001b[31mG --> D --> A --> B\u001b[39m\n       ^\n\u001b[31mSyntaxError\u001b[39m\u001b[31m:\u001b[39m invalid syntax\n"
     ]
    }
   ],
   "source": [
    "G --> D --> A --> B"
   ]
  },
  {
   "cell_type": "code",
   "execution_count": null,
   "id": "914b6929-87aa-42aa-9457-43d64e1eef02",
   "metadata": {},
   "outputs": [],
   "source": [
    "GABD\n",
    "GBAD"
   ]
  },
  {
   "attachments": {
    "1018d214-c169-4af0-b05e-2f6d0e1034fd.png": {
     "image/png": "[encoded data removed]"
    }
   },
   "cell_type": "markdown",
   "id": "576682ff-9860-451a-b460-27ebdd14f90b",
   "metadata": {},
   "source": [
    "![image.png](attachment:1018d214-c169-4af0-b05e-2f6d0e1034fd.png)"
   ]
  },
  {
   "cell_type": "code",
   "execution_count": 61,
   "id": "1e4072ac-627e-4ae8-9739-408496b1fcda",
   "metadata": {},
   "outputs": [
    {
     "name": "stdout",
     "output_type": "stream",
     "text": [
      "G\n",
      "A\n",
      "B\n"
     ]
    }
   ],
   "source": [
    "class A:\n",
    "    def __init__(self):\n",
    "        super().__init__()\n",
    "        print(\"A\")\n",
    "\n",
    "class B:\n",
    "    def __init__(self):\n",
    "        super().__init__()\n",
    "        print(\"B\")\n",
    "class D:\n",
    "    ...\n",
    "\n",
    "class G(B, A, D):\n",
    "    def __init__(self):\n",
    "        print(\"G\")\n",
    "        super().__init__()\n",
    "\n",
    "g1 = G()"
   ]
  },
  {
   "cell_type": "markdown",
   "id": "d494500e-5b67-4df6-8f18-7fa216733c36",
   "metadata": {},
   "source": [
    "# Hybrid Inheritence"
   ]
  },
  {
   "cell_type": "code",
   "execution_count": 62,
   "id": "72d1af59-ba50-4c02-9ee1-00a21e9c2909",
   "metadata": {},
   "outputs": [
    {
     "name": "stdout",
     "output_type": "stream",
     "text": [
      "D\n",
      "B\n",
      "C\n",
      "A\n"
     ]
    }
   ],
   "source": [
    "class A:\n",
    "    def __init__(self):\n",
    "        print(\"A\")\n",
    "\n",
    "class B(A):\n",
    "    def __init__(self):\n",
    "        print(\"B\")\n",
    "        super().__init__()\n",
    "class C(A):\n",
    "    def __init__(self):\n",
    "        print(\"C\")\n",
    "        super().__init__()\n",
    "\n",
    "class D(B, C):\n",
    "    def __init__(self):\n",
    "        print(\"D\")\n",
    "        super().__init__()\n",
    "\n",
    "d = D()\n",
    "# D --> B --> C --> A"
   ]
  },
  {
   "cell_type": "code",
   "execution_count": null,
   "id": "d182e9d0-fdbf-4bb1-9163-cf5cd45c2d71",
   "metadata": {},
   "outputs": [],
   "source": []
  },
  {
   "cell_type": "code",
   "execution_count": 65,
   "id": "bab7a7f5-ff57-4fcc-86cf-31cf499e8d4d",
   "metadata": {},
   "outputs": [],
   "source": [
    "class A:\n",
    "    def __init__(self):\n",
    "        self.b = 58\n",
    "\n",
    "class B(A):\n",
    "    ..."
   ]
  },
  {
   "cell_type": "code",
   "execution_count": 66,
   "id": "e40210cf-746f-4d40-a07e-f6d1d7582d2d",
   "metadata": {},
   "outputs": [],
   "source": [
    "b = B()"
   ]
  },
  {
   "cell_type": "code",
   "execution_count": 67,
   "id": "2794f246-39f6-409b-8110-74af722e0316",
   "metadata": {},
   "outputs": [
    {
     "data": {
      "text/plain": [
       "58"
      ]
     },
     "execution_count": 67,
     "metadata": {},
     "output_type": "execute_result"
    }
   ],
   "source": [
    "b.b"
   ]
  },
  {
   "cell_type": "code",
   "execution_count": 68,
   "id": "673738a4-d43c-4e99-844d-8843a9e622af",
   "metadata": {},
   "outputs": [],
   "source": [
    "class A:\n",
    "    def __init__(self):\n",
    "        self.b = 58\n",
    "\n",
    "class B(A):\n",
    "    def __init__(self):\n",
    "        self.c = 89"
   ]
  },
  {
   "cell_type": "code",
   "execution_count": 69,
   "id": "aea00e5e-a2a4-4a46-a0bf-55e9c40336eb",
   "metadata": {},
   "outputs": [],
   "source": [
    "b = B()"
   ]
  },
  {
   "cell_type": "code",
   "execution_count": 70,
   "id": "ef7618b2-ec0d-4ba4-b0aa-4ac14ed91834",
   "metadata": {},
   "outputs": [
    {
     "ename": "AttributeError",
     "evalue": "'B' object has no attribute 'b'",
     "output_type": "error",
     "traceback": [
      "\u001b[31m---------------------------------------------------------------------------\u001b[39m",
      "\u001b[31mAttributeError\u001b[39m                            Traceback (most recent call last)",
      "\u001b[36mCell\u001b[39m\u001b[36m \u001b[39m\u001b[32mIn[70]\u001b[39m\u001b[32m, line 1\u001b[39m\n\u001b[32m----> \u001b[39m\u001b[32m1\u001b[39m \u001b[43mb\u001b[49m\u001b[43m.\u001b[49m\u001b[43mb\u001b[49m\n",
      "\u001b[31mAttributeError\u001b[39m: 'B' object has no attribute 'b'"
     ]
    }
   ],
   "source": [
    "b.b"
   ]
  },
  {
   "cell_type": "code",
   "execution_count": 71,
   "id": "f3719ae0-08a6-4cda-8161-7246f8a13fa6",
   "metadata": {},
   "outputs": [],
   "source": [
    "class A:\n",
    "    def __init__(self):\n",
    "        self.b = 58\n",
    "\n",
    "class B(A):\n",
    "    def __init__(self):\n",
    "        super().__init__()\n",
    "        self.c = 89"
   ]
  },
  {
   "cell_type": "code",
   "execution_count": 72,
   "id": "905f741c-3074-46dd-8ef4-befe82c3c274",
   "metadata": {},
   "outputs": [],
   "source": [
    "b = B()"
   ]
  },
  {
   "cell_type": "code",
   "execution_count": 73,
   "id": "921f724e-e5bd-48f6-b44b-b82aee97d911",
   "metadata": {},
   "outputs": [
    {
     "data": {
      "text/plain": [
       "58"
      ]
     },
     "execution_count": 73,
     "metadata": {},
     "output_type": "execute_result"
    }
   ],
   "source": [
    "b.b"
   ]
  },
  {
   "cell_type": "code",
   "execution_count": 76,
   "id": "00dadcef-9b0c-457d-99bf-d1cd10d8196a",
   "metadata": {},
   "outputs": [],
   "source": [
    "class A:\n",
    "    def __init__(self):\n",
    "        self.b = 58\n",
    "\n",
    "    def check_type(self, val, type_val):\n",
    "        return isinstance(val, type_val)\n",
    "\n",
    "class B(A):\n",
    "    def __init__(self):\n",
    "        super().__init__()\n",
    "        self.c = 89"
   ]
  },
  {
   "cell_type": "code",
   "execution_count": 77,
   "id": "75645499-efd1-4fef-b375-060ff6111472",
   "metadata": {},
   "outputs": [],
   "source": [
    "b = B()"
   ]
  },
  {
   "cell_type": "code",
   "execution_count": 78,
   "id": "546204c5-ec53-4119-b079-cb73eef50af9",
   "metadata": {},
   "outputs": [
    {
     "data": {
      "text/plain": [
       "True"
      ]
     },
     "execution_count": 78,
     "metadata": {},
     "output_type": "execute_result"
    }
   ],
   "source": [
    "b.check_type((4, 5), tuple)"
   ]
  },
  {
   "cell_type": "code",
   "execution_count": 79,
   "id": "3d8178c8-4abf-437f-9d4e-3f6244376ab8",
   "metadata": {},
   "outputs": [
    {
     "ename": "AttributeError",
     "evalue": "'B' object has no attribute 'some_inportant_funct'",
     "output_type": "error",
     "traceback": [
      "\u001b[31m---------------------------------------------------------------------------\u001b[39m",
      "\u001b[31mAttributeError\u001b[39m                            Traceback (most recent call last)",
      "\u001b[36mCell\u001b[39m\u001b[36m \u001b[39m\u001b[32mIn[79]\u001b[39m\u001b[32m, line 1\u001b[39m\n\u001b[32m----> \u001b[39m\u001b[32m1\u001b[39m \u001b[43mb\u001b[49m\u001b[43m.\u001b[49m\u001b[43msome_inportant_funct\u001b[49m()\n",
      "\u001b[31mAttributeError\u001b[39m: 'B' object has no attribute 'some_inportant_funct'"
     ]
    }
   ],
   "source": [
    "b.some_inportant_funct()"
   ]
  },
  {
   "cell_type": "code",
   "execution_count": 75,
   "id": "18232cb5-3349-4fc1-a2e8-34b364e168e8",
   "metadata": {},
   "outputs": [
    {
     "data": {
      "text/plain": [
       "False"
      ]
     },
     "execution_count": 75,
     "metadata": {},
     "output_type": "execute_result"
    }
   ],
   "source": [
    "isinstance(\"25\", int)"
   ]
  },
  {
   "cell_type": "code",
   "execution_count": 80,
   "id": "d2ec163a-e867-4704-8fc7-002dbf109394",
   "metadata": {},
   "outputs": [],
   "source": [
    "class A:\n",
    "    def __init__(self):\n",
    "        self.b = 58\n",
    "\n",
    "    def check_type(self, val, type_val):\n",
    "        return isinstance(val, type_val)\n",
    "\n",
    "class B(A):\n",
    "    def __init__(self):\n",
    "        self.c = 89"
   ]
  },
  {
   "cell_type": "code",
   "execution_count": 81,
   "id": "c58393ed-5771-4ae2-98ac-3074f1537236",
   "metadata": {},
   "outputs": [],
   "source": [
    "b = B()"
   ]
  },
  {
   "cell_type": "code",
   "execution_count": 82,
   "id": "4562565b-b3f5-4210-9610-72788ae03731",
   "metadata": {},
   "outputs": [
    {
     "ename": "AttributeError",
     "evalue": "'B' object has no attribute 'b'",
     "output_type": "error",
     "traceback": [
      "\u001b[31m---------------------------------------------------------------------------\u001b[39m",
      "\u001b[31mAttributeError\u001b[39m                            Traceback (most recent call last)",
      "\u001b[36mCell\u001b[39m\u001b[36m \u001b[39m\u001b[32mIn[82]\u001b[39m\u001b[32m, line 1\u001b[39m\n\u001b[32m----> \u001b[39m\u001b[32m1\u001b[39m \u001b[43mb\u001b[49m\u001b[43m.\u001b[49m\u001b[43mb\u001b[49m\n",
      "\u001b[31mAttributeError\u001b[39m: 'B' object has no attribute 'b'"
     ]
    }
   ],
   "source": [
    "b.b"
   ]
  },
  {
   "cell_type": "code",
   "execution_count": 83,
   "id": "f6f90bdf-dcd6-4ab1-a6f4-4db11beb4975",
   "metadata": {},
   "outputs": [
    {
     "data": {
      "text/plain": [
       "True"
      ]
     },
     "execution_count": 83,
     "metadata": {},
     "output_type": "execute_result"
    }
   ],
   "source": [
    "b.check_type(\"56\", str)"
   ]
  },
  {
   "cell_type": "code",
   "execution_count": 9,
   "id": "22bd4279-7234-424b-b8f9-1ab13095f64b",
   "metadata": {},
   "outputs": [],
   "source": [
    "class A:\n",
    "    def __init__(self):\n",
    "        print(\"A\")\n",
    "        self.b = 58\n",
    "\n",
    "    def check_type(self, val, type_val):\n",
    "        return isinstance(val, type_val)\n",
    "\n",
    "class B(A):\n",
    "    def check_type(self, *args):\n",
    "        if len(args) != 2:\n",
    "            print(\"Hey just pass 2 arguments\")\n",
    "            print(\"First one should be the value and second as the type to check\")\n",
    "            return\n",
    "        print(\"New Era of printing type!!\")\n",
    "        return isinstance(args[0], args[1])"
   ]
  },
  {
   "cell_type": "code",
   "execution_count": 10,
   "id": "f802b145-23eb-474b-b5bf-7af13bd3cbde",
   "metadata": {},
   "outputs": [
    {
     "name": "stdout",
     "output_type": "stream",
     "text": [
      "A\n"
     ]
    }
   ],
   "source": [
    "b = B()"
   ]
  },
  {
   "cell_type": "code",
   "execution_count": 11,
   "id": "345974e7-6120-411d-8040-e97478c50855",
   "metadata": {},
   "outputs": [
    {
     "data": {
      "text/plain": [
       "58"
      ]
     },
     "execution_count": 11,
     "metadata": {},
     "output_type": "execute_result"
    }
   ],
   "source": [
    "b.b"
   ]
  },
  {
   "cell_type": "code",
   "execution_count": 12,
   "id": "9fae7b49-ea64-44d0-9aba-5671ad297b65",
   "metadata": {},
   "outputs": [
    {
     "name": "stdout",
     "output_type": "stream",
     "text": [
      "Hey just pass 2 arguments\n",
      "First one should be the value and second as the type to check\n"
     ]
    }
   ],
   "source": [
    "b.check_type(5)"
   ]
  },
  {
   "cell_type": "code",
   "execution_count": 13,
   "id": "af82b17a-ad70-437d-9637-94d6e5ead7d9",
   "metadata": {},
   "outputs": [
    {
     "name": "stdout",
     "output_type": "stream",
     "text": [
      "New Era of printing type!!\n"
     ]
    },
    {
     "data": {
      "text/plain": [
       "True"
      ]
     },
     "execution_count": 13,
     "metadata": {},
     "output_type": "execute_result"
    }
   ],
   "source": [
    "b.check_type(5, int)"
   ]
  },
  {
   "cell_type": "code",
   "execution_count": null,
   "id": "955b94cf-3aab-43dd-ab3d-0326a7c47a4e",
   "metadata": {},
   "outputs": [],
   "source": []
  }
 ],
 "metadata": {
  "kernelspec": {
   "display_name": "Python 3 (ipykernel)",
   "language": "python",
   "name": "python3"
  },
  "language_info": {
   "codemirror_mode": {
    "name": "ipython",
    "version": 3
   },
   "file_extension": ".py",
   "mimetype": "text/x-python",
   "name": "python",
   "nbconvert_exporter": "python",
   "pygments_lexer": "ipython3",
   "version": "3.13.2"
  }
 },
 "nbformat": 4,
 "nbformat_minor": 5
}
