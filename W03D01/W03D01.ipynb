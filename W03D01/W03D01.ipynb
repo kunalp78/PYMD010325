{
 "cells": [
  {
   "cell_type": "markdown",
   "id": "b881bf25-2087-4a4c-a495-1f14e2d71900",
   "metadata": {},
   "source": [
    "# Introduction to OOP"
   ]
  },
  {
   "cell_type": "code",
   "execution_count": null,
   "id": "9952a8b9-1122-4954-b160-9eaee8497e5b",
   "metadata": {},
   "outputs": [],
   "source": [
    "# Using classes and creating object.\n"
   ]
  },
  {
   "cell_type": "code",
   "execution_count": null,
   "id": "4f189f06-bfd5-41e6-981d-91fbd602e946",
   "metadata": {},
   "outputs": [],
   "source": [
    "# Email\n",
    "# properties:\n",
    "    # subject\n",
    "    # body\n",
    "    # reciepent list: cc, bcc, to\n",
    "# behavioiur:\n",
    "    # adding attachment\n",
    "    # sending mail\n",
    "\n",
    "# Object: bundle of properties and behaviours\n",
    "# properties --> variables\n",
    "# brhavours --> methods"
   ]
  },
  {
   "cell_type": "code",
   "execution_count": null,
   "id": "b9645bcf-7dc6-4d13-ba96-756469b7e4cd",
   "metadata": {},
   "outputs": [],
   "source": [
    "# class --> structure or blue print\n",
    "# object --> copies of class"
   ]
  },
  {
   "cell_type": "code",
   "execution_count": null,
   "id": "448ee883-9337-486a-8bec-1d4e024cd8b9",
   "metadata": {},
   "outputs": [],
   "source": [
    "# 4 pillars of object oriented programming\n",
    "1) Encapsulation:\n",
    "    # covering or encapsulating as medicine\n",
    "    # bundles data(attributes) + behaviours(methods)\n",
    "    # promotes modular integrity\n",
    "2) Inheritence:\n",
    "    # hierarical relationship between classes\n",
    "    # it allows subclasses to utilise or inherit attributes and methods from the parent class\n",
    "    # Benifit of inheritence:\n",
    "        # code reusablity\n",
    "        # reduce duplicatinon\n",
    "3) Abstraction:\n",
    "    # showing only neccassary info.\n",
    "    # hiding implementation details\n",
    "4) Polymorphism:\n",
    "    # many forms of same function"
   ]
  },
  {
   "cell_type": "code",
   "execution_count": 1,
   "id": "b8599bdd-2e53-432c-a6a6-c54d7f6f715b",
   "metadata": {},
   "outputs": [],
   "source": [
    "class Employee:\n",
    "    def __init__(self, name, age):\n",
    "        self.name = name\n",
    "        self.age = age\n",
    "\n",
    "# __init__() --> is the constructor"
   ]
  },
  {
   "cell_type": "code",
   "execution_count": 2,
   "id": "288f6eab-8a92-47e3-a79c-b3d0c7276d12",
   "metadata": {},
   "outputs": [],
   "source": [
    "e1 = Employee(\"Jatin\",  30)"
   ]
  },
  {
   "cell_type": "code",
   "execution_count": 3,
   "id": "ce6b74c8-c46d-4bd1-9314-107546523707",
   "metadata": {},
   "outputs": [
    {
     "data": {
      "text/plain": [
       "<__main__.Employee at 0x23276283e00>"
      ]
     },
     "execution_count": 3,
     "metadata": {},
     "output_type": "execute_result"
    }
   ],
   "source": [
    "e1"
   ]
  },
  {
   "cell_type": "code",
   "execution_count": 4,
   "id": "a04338f2-4e03-4146-b52a-ce9a2449594a",
   "metadata": {},
   "outputs": [
    {
     "name": "stdout",
     "output_type": "stream",
     "text": [
      "<__main__.Employee object at 0x0000023276283E00>\n"
     ]
    }
   ],
   "source": [
    "print(e1)"
   ]
  },
  {
   "cell_type": "code",
   "execution_count": 34,
   "id": "941c4f50-473f-4973-a1f6-4a03e1a44418",
   "metadata": {},
   "outputs": [],
   "source": [
    "class Email:\n",
    "    def __init__(self):\n",
    "        self.subject = \"\"\n",
    "        self.body = []\n",
    "        self.recipent = {}\n",
    "\n",
    "    def adding_attachment(self, attachment):\n",
    "        self.body.append(attachment)\n",
    "\n",
    "    def set_subject(self, sub):\n",
    "        self.subject = sub\n",
    "\n",
    "    def set_body(self, body):\n",
    "        self.body.append(body)\n",
    "\n",
    "    def set_recipent(self, to, cc=\"\", bcc=\"\"):\n",
    "        self.recipent[\"to\"] = to\n",
    "        self.recipent[\"cc\"] = cc\n",
    "        self.recipent[\"bcc\"] = bcc\n",
    "    "
   ]
  },
  {
   "cell_type": "code",
   "execution_count": 35,
   "id": "df0c6846-fc15-4d4d-abcf-03019b49f61f",
   "metadata": {},
   "outputs": [],
   "source": [
    "e1 = Email()"
   ]
  },
  {
   "cell_type": "code",
   "execution_count": 36,
   "id": "84a3ecee-0f80-464a-b931-a8c21ad37bd6",
   "metadata": {},
   "outputs": [
    {
     "data": {
      "text/plain": [
       "<__main__.Email at 0x23276431160>"
      ]
     },
     "execution_count": 36,
     "metadata": {},
     "output_type": "execute_result"
    }
   ],
   "source": [
    "e1"
   ]
  },
  {
   "cell_type": "code",
   "execution_count": 37,
   "id": "3ccc553f-aa81-4b20-9e95-5cc2158ce976",
   "metadata": {},
   "outputs": [
    {
     "data": {
      "text/plain": [
       "{'subject': '', 'body': [], 'recipent': {}}"
      ]
     },
     "execution_count": 37,
     "metadata": {},
     "output_type": "execute_result"
    }
   ],
   "source": [
    "e1.__dict__"
   ]
  },
  {
   "cell_type": "code",
   "execution_count": 38,
   "id": "64aec4a4-3557-410f-ae16-f2613ee0abcd",
   "metadata": {},
   "outputs": [
    {
     "data": {
      "text/plain": [
       "''"
      ]
     },
     "execution_count": 38,
     "metadata": {},
     "output_type": "execute_result"
    }
   ],
   "source": [
    "e1.subject"
   ]
  },
  {
   "cell_type": "code",
   "execution_count": 39,
   "id": "b58eef76-e92e-47c2-acb8-c6b106f5aca3",
   "metadata": {},
   "outputs": [
    {
     "data": {
      "text/plain": [
       "[]"
      ]
     },
     "execution_count": 39,
     "metadata": {},
     "output_type": "execute_result"
    }
   ],
   "source": [
    "e1.body"
   ]
  },
  {
   "cell_type": "code",
   "execution_count": 40,
   "id": "bee51ded-2b5d-4e61-a143-c5aa9997be43",
   "metadata": {},
   "outputs": [
    {
     "data": {
      "text/plain": [
       "{}"
      ]
     },
     "execution_count": 40,
     "metadata": {},
     "output_type": "execute_result"
    }
   ],
   "source": [
    "e1.recipent"
   ]
  },
  {
   "cell_type": "code",
   "execution_count": 41,
   "id": "946222e7-19c7-4b92-b01a-e1cd86a256d1",
   "metadata": {},
   "outputs": [],
   "source": [
    "e1.subject = \"Hey having python class\""
   ]
  },
  {
   "cell_type": "code",
   "execution_count": 42,
   "id": "36ce186a-362e-4dda-8454-879a973b6e39",
   "metadata": {},
   "outputs": [
    {
     "data": {
      "text/plain": [
       "'Hey having python class'"
      ]
     },
     "execution_count": 42,
     "metadata": {},
     "output_type": "execute_result"
    }
   ],
   "source": [
    "e1.subject"
   ]
  },
  {
   "cell_type": "code",
   "execution_count": 43,
   "id": "5b49ac4b-41d9-4259-bd2e-07fa343d79cf",
   "metadata": {},
   "outputs": [
    {
     "data": {
      "text/plain": [
       "{'subject': 'Hey having python class', 'body': [], 'recipent': {}}"
      ]
     },
     "execution_count": 43,
     "metadata": {},
     "output_type": "execute_result"
    }
   ],
   "source": [
    "e1.__dict__"
   ]
  },
  {
   "cell_type": "code",
   "execution_count": 44,
   "id": "99dcd23c-e87d-411f-9f8f-b813d9a39bcb",
   "metadata": {},
   "outputs": [],
   "source": [
    "e2 = Email()"
   ]
  },
  {
   "cell_type": "code",
   "execution_count": 45,
   "id": "2fd04848-2c54-488e-ae20-d8900079445c",
   "metadata": {},
   "outputs": [
    {
     "data": {
      "text/plain": [
       "{'subject': '', 'body': [], 'recipent': {}}"
      ]
     },
     "execution_count": 45,
     "metadata": {},
     "output_type": "execute_result"
    }
   ],
   "source": [
    "e2.__dict__"
   ]
  },
  {
   "cell_type": "code",
   "execution_count": 46,
   "id": "cdb0ece6-9130-42c7-8448-1f0a307269bb",
   "metadata": {},
   "outputs": [],
   "source": [
    "e2.set_body(\"hi Team,\\nI am attaching another email for fun\\nFrom Kunal\")\n",
    "e2.adding_attachment(e1.__dict__)"
   ]
  },
  {
   "cell_type": "code",
   "execution_count": 47,
   "id": "c0838d61-7dd7-4270-b1ef-b19891f48657",
   "metadata": {},
   "outputs": [
    {
     "data": {
      "text/plain": [
       "{'subject': '',\n",
       " 'body': ['hi Team,\\nI am attaching another email for fun\\nFrom Kunal',\n",
       "  {'subject': 'Hey having python class', 'body': [], 'recipent': {}}],\n",
       " 'recipent': {}}"
      ]
     },
     "execution_count": 47,
     "metadata": {},
     "output_type": "execute_result"
    }
   ],
   "source": [
    "e2.__dict__"
   ]
  },
  {
   "cell_type": "code",
   "execution_count": 48,
   "id": "c106ff02-eb8a-4f79-bf3e-595d261a67b5",
   "metadata": {},
   "outputs": [],
   "source": [
    "e2.set_subject(\"Fun message\")"
   ]
  },
  {
   "cell_type": "code",
   "execution_count": 49,
   "id": "ad21db74-ed48-43db-8720-b616c49bd043",
   "metadata": {},
   "outputs": [],
   "source": [
    "e2.set_recipent(to=\"jatin@gmail.com\")"
   ]
  },
  {
   "cell_type": "code",
   "execution_count": 50,
   "id": "94896e53-66c9-48d5-b651-97d62649ca97",
   "metadata": {},
   "outputs": [
    {
     "data": {
      "text/plain": [
       "{'subject': 'Fun message',\n",
       " 'body': ['hi Team,\\nI am attaching another email for fun\\nFrom Kunal',\n",
       "  {'subject': 'Hey having python class', 'body': [], 'recipent': {}}],\n",
       " 'recipent': {'to': 'jatin@gmail.com', 'cc': '', 'bcc': ''}}"
      ]
     },
     "execution_count": 50,
     "metadata": {},
     "output_type": "execute_result"
    }
   ],
   "source": [
    "e2.__dict__"
   ]
  },
  {
   "cell_type": "code",
   "execution_count": 51,
   "id": "b0c4ad96-15c5-44f4-8220-1786d707b607",
   "metadata": {},
   "outputs": [
    {
     "data": {
      "text/plain": [
       "{'subject': 'Hey having python class', 'body': [], 'recipent': {}}"
      ]
     },
     "execution_count": 51,
     "metadata": {},
     "output_type": "execute_result"
    }
   ],
   "source": [
    "e1.__dict__"
   ]
  },
  {
   "cell_type": "code",
   "execution_count": 59,
   "id": "3eebd253-3ce3-40ec-b4b1-53f1d007d27c",
   "metadata": {},
   "outputs": [],
   "source": [
    "class Email:\n",
    "    def __init__(self):\n",
    "        self.__subject = \"\"\n",
    "        self.__body = []\n",
    "        self.__recipent = {}\n",
    "\n",
    "    def adding_attachment(self, attachment):\n",
    "        self.__body.append(attachment)\n",
    "\n",
    "    def set_subject(self, sub):\n",
    "        self.__subject = sub\n",
    "\n",
    "    def set_body(self, body):\n",
    "        self.__body.append(body)\n",
    "\n",
    "    def set_recipent(self, to, cc=\"\", bcc=\"\"):\n",
    "        self.__recipent[\"to\"] = to\n",
    "        self.__recipent[\"cc\"] = cc\n",
    "        self.__recipent[\"bcc\"] = bcc\n",
    "\n",
    "    def get_email(self):\n",
    "        if not self.__subject:\n",
    "            raise Exception(\"Subject is not set\")\n",
    "        print(f\"To: {self.__recipent['to']}\")\n",
    "        print(f\"cc: {self.__recipent['cc']}\")\n",
    "        print(f\"bcc: {self.__recipent['bcc']}\", end=\"\\n\\n\")\n",
    "        print(f\"Subject: {self.__subject}\")\n",
    "        print(f\"Body: {self.__body}\")\n",
    "        "
   ]
  },
  {
   "cell_type": "code",
   "execution_count": 60,
   "id": "88c50124-f481-4896-aea9-bc04572d8a06",
   "metadata": {},
   "outputs": [],
   "source": [
    "E1 = Email()"
   ]
  },
  {
   "cell_type": "code",
   "execution_count": 61,
   "id": "3329ac7a-7d9d-4844-8445-ea8130d51ffa",
   "metadata": {},
   "outputs": [
    {
     "ename": "AttributeError",
     "evalue": "'Email' object has no attribute '__subject'",
     "output_type": "error",
     "traceback": [
      "\u001b[31m---------------------------------------------------------------------------\u001b[39m",
      "\u001b[31mAttributeError\u001b[39m                            Traceback (most recent call last)",
      "\u001b[36mCell\u001b[39m\u001b[36m \u001b[39m\u001b[32mIn[61]\u001b[39m\u001b[32m, line 1\u001b[39m\n\u001b[32m----> \u001b[39m\u001b[32m1\u001b[39m \u001b[43mE1\u001b[49m\u001b[43m.\u001b[49m\u001b[43m__subject\u001b[49m\n",
      "\u001b[31mAttributeError\u001b[39m: 'Email' object has no attribute '__subject'"
     ]
    }
   ],
   "source": [
    "E1.__subject"
   ]
  },
  {
   "cell_type": "code",
   "execution_count": 62,
   "id": "4fee8780-2420-4d8d-b29a-4e676e350de4",
   "metadata": {},
   "outputs": [
    {
     "ename": "Exception",
     "evalue": "Subject is not set",
     "output_type": "error",
     "traceback": [
      "\u001b[31m---------------------------------------------------------------------------\u001b[39m",
      "\u001b[31mException\u001b[39m                                 Traceback (most recent call last)",
      "\u001b[36mCell\u001b[39m\u001b[36m \u001b[39m\u001b[32mIn[62]\u001b[39m\u001b[32m, line 1\u001b[39m\n\u001b[32m----> \u001b[39m\u001b[32m1\u001b[39m \u001b[43mE1\u001b[49m\u001b[43m.\u001b[49m\u001b[43mget_email\u001b[49m\u001b[43m(\u001b[49m\u001b[43m)\u001b[49m\n",
      "\u001b[36mCell\u001b[39m\u001b[36m \u001b[39m\u001b[32mIn[59]\u001b[39m\u001b[32m, line 23\u001b[39m, in \u001b[36mEmail.get_email\u001b[39m\u001b[34m(self)\u001b[39m\n\u001b[32m     21\u001b[39m \u001b[38;5;28;01mdef\u001b[39;00m\u001b[38;5;250m \u001b[39m\u001b[34mget_email\u001b[39m(\u001b[38;5;28mself\u001b[39m):\n\u001b[32m     22\u001b[39m     \u001b[38;5;28;01mif\u001b[39;00m \u001b[38;5;129;01mnot\u001b[39;00m \u001b[38;5;28mself\u001b[39m.__subject:\n\u001b[32m---> \u001b[39m\u001b[32m23\u001b[39m         \u001b[38;5;28;01mraise\u001b[39;00m \u001b[38;5;167;01mException\u001b[39;00m(\u001b[33m\"\u001b[39m\u001b[33mSubject is not set\u001b[39m\u001b[33m\"\u001b[39m)\n\u001b[32m     24\u001b[39m     \u001b[38;5;28mprint\u001b[39m(\u001b[33mf\u001b[39m\u001b[33m\"\u001b[39m\u001b[33mTo: \u001b[39m\u001b[38;5;132;01m{\u001b[39;00m\u001b[38;5;28mself\u001b[39m.__recipent[\u001b[33m'\u001b[39m\u001b[33mto\u001b[39m\u001b[33m'\u001b[39m]\u001b[38;5;132;01m}\u001b[39;00m\u001b[33m\"\u001b[39m)\n\u001b[32m     25\u001b[39m     \u001b[38;5;28mprint\u001b[39m(\u001b[33mf\u001b[39m\u001b[33m\"\u001b[39m\u001b[33mcc: \u001b[39m\u001b[38;5;132;01m{\u001b[39;00m\u001b[38;5;28mself\u001b[39m.__recipent[\u001b[33m'\u001b[39m\u001b[33mcc\u001b[39m\u001b[33m'\u001b[39m]\u001b[38;5;132;01m}\u001b[39;00m\u001b[33m\"\u001b[39m)\n",
      "\u001b[31mException\u001b[39m: Subject is not set"
     ]
    }
   ],
   "source": [
    "E1.get_email()"
   ]
  },
  {
   "cell_type": "code",
   "execution_count": 63,
   "id": "d5f28db2-9e20-4f13-87da-65c8de4e365f",
   "metadata": {},
   "outputs": [],
   "source": [
    "E1.set_subject(\"hey setting a dummmy subject\")"
   ]
  },
  {
   "cell_type": "code",
   "execution_count": 64,
   "id": "5db2de9a-aa63-45c8-83b5-98acac38a060",
   "metadata": {},
   "outputs": [
    {
     "ename": "KeyError",
     "evalue": "'to'",
     "output_type": "error",
     "traceback": [
      "\u001b[31m---------------------------------------------------------------------------\u001b[39m",
      "\u001b[31mKeyError\u001b[39m                                  Traceback (most recent call last)",
      "\u001b[36mCell\u001b[39m\u001b[36m \u001b[39m\u001b[32mIn[64]\u001b[39m\u001b[32m, line 1\u001b[39m\n\u001b[32m----> \u001b[39m\u001b[32m1\u001b[39m \u001b[43mE1\u001b[49m\u001b[43m.\u001b[49m\u001b[43mget_email\u001b[49m\u001b[43m(\u001b[49m\u001b[43m)\u001b[49m\n",
      "\u001b[36mCell\u001b[39m\u001b[36m \u001b[39m\u001b[32mIn[59]\u001b[39m\u001b[32m, line 24\u001b[39m, in \u001b[36mEmail.get_email\u001b[39m\u001b[34m(self)\u001b[39m\n\u001b[32m     22\u001b[39m \u001b[38;5;28;01mif\u001b[39;00m \u001b[38;5;129;01mnot\u001b[39;00m \u001b[38;5;28mself\u001b[39m.__subject:\n\u001b[32m     23\u001b[39m     \u001b[38;5;28;01mraise\u001b[39;00m \u001b[38;5;167;01mException\u001b[39;00m(\u001b[33m\"\u001b[39m\u001b[33mSubject is not set\u001b[39m\u001b[33m\"\u001b[39m)\n\u001b[32m---> \u001b[39m\u001b[32m24\u001b[39m \u001b[38;5;28mprint\u001b[39m(\u001b[33mf\u001b[39m\u001b[33m\"\u001b[39m\u001b[33mTo: \u001b[39m\u001b[38;5;132;01m{\u001b[39;00m\u001b[38;5;28;43mself\u001b[39;49m\u001b[43m.\u001b[49m\u001b[43m__recipent\u001b[49m\u001b[43m[\u001b[49m\u001b[33;43m'\u001b[39;49m\u001b[33;43mto\u001b[39;49m\u001b[33;43m'\u001b[39;49m\u001b[43m]\u001b[49m\u001b[38;5;132;01m}\u001b[39;00m\u001b[33m\"\u001b[39m)\n\u001b[32m     25\u001b[39m \u001b[38;5;28mprint\u001b[39m(\u001b[33mf\u001b[39m\u001b[33m\"\u001b[39m\u001b[33mcc: \u001b[39m\u001b[38;5;132;01m{\u001b[39;00m\u001b[38;5;28mself\u001b[39m.__recipent[\u001b[33m'\u001b[39m\u001b[33mcc\u001b[39m\u001b[33m'\u001b[39m]\u001b[38;5;132;01m}\u001b[39;00m\u001b[33m\"\u001b[39m)\n\u001b[32m     26\u001b[39m \u001b[38;5;28mprint\u001b[39m(\u001b[33mf\u001b[39m\u001b[33m\"\u001b[39m\u001b[33mbcc: \u001b[39m\u001b[38;5;132;01m{\u001b[39;00m\u001b[38;5;28mself\u001b[39m.__recipent[\u001b[33m'\u001b[39m\u001b[33mbcc\u001b[39m\u001b[33m'\u001b[39m]\u001b[38;5;132;01m}\u001b[39;00m\u001b[33m\"\u001b[39m, end=\u001b[33m\"\u001b[39m\u001b[38;5;130;01m\\n\u001b[39;00m\u001b[38;5;130;01m\\n\u001b[39;00m\u001b[33m\"\u001b[39m)\n",
      "\u001b[31mKeyError\u001b[39m: 'to'"
     ]
    }
   ],
   "source": [
    "E1.get_email()"
   ]
  },
  {
   "cell_type": "code",
   "execution_count": 65,
   "id": "40af150e-2eea-4f7a-af7c-c20ed4b25a61",
   "metadata": {},
   "outputs": [],
   "source": [
    "E1.set_recipent(\"kalpana@gmail.com\")"
   ]
  },
  {
   "cell_type": "code",
   "execution_count": 66,
   "id": "d9d6972a-6625-424e-9955-86d68d3e71da",
   "metadata": {},
   "outputs": [
    {
     "name": "stdout",
     "output_type": "stream",
     "text": [
      "To: kalpana@gmail.com\n",
      "cc: \n",
      "bcc: \n",
      "\n",
      "Subject: hey setting a dummmy subject\n",
      "Body: []\n"
     ]
    }
   ],
   "source": [
    "E1.get_email()"
   ]
  },
  {
   "cell_type": "code",
   "execution_count": 67,
   "id": "cb72510c-6d89-4f99-bf4f-ad7f21dac45c",
   "metadata": {
    "collapsed": true,
    "jupyter": {
     "outputs_hidden": true
    }
   },
   "outputs": [
    {
     "data": {
      "text/plain": [
       "{'_Email__subject': 'hey setting a dummmy subject',\n",
       " '_Email__body': [],\n",
       " '_Email__recipent': {'to': 'kalpana@gmail.com', 'cc': '', 'bcc': ''}}"
      ]
     },
     "execution_count": 67,
     "metadata": {},
     "output_type": "execute_result"
    }
   ],
   "source": [
    "E1.__dict__"
   ]
  },
  {
   "cell_type": "code",
   "execution_count": 68,
   "id": "35b7d2fa-ea3c-46ba-b060-d2b4dbecdd72",
   "metadata": {},
   "outputs": [
    {
     "data": {
      "text/plain": [
       "[]"
      ]
     },
     "execution_count": 68,
     "metadata": {},
     "output_type": "execute_result"
    }
   ],
   "source": [
    "E1._Email__body"
   ]
  },
  {
   "cell_type": "code",
   "execution_count": 69,
   "id": "98b36c85-aba0-4ce7-8774-47114bbe4efa",
   "metadata": {},
   "outputs": [
    {
     "data": {
      "text/plain": [
       "'hey setting a dummmy subject'"
      ]
     },
     "execution_count": 69,
     "metadata": {},
     "output_type": "execute_result"
    }
   ],
   "source": [
    "E1._Email__subject"
   ]
  },
  {
   "cell_type": "code",
   "execution_count": null,
   "id": "88f7af0a-53f2-4b68-8fef-d79297e8208e",
   "metadata": {},
   "outputs": [],
   "source": [
    "Instance or object Variable and Instance variable\n",
    "instance or object variables --> are specific to the intances or objects of the class"
   ]
  },
  {
   "cell_type": "code",
   "execution_count": 71,
   "id": "258acd4d-680a-4e27-a321-5b1bb89009ef",
   "metadata": {},
   "outputs": [],
   "source": [
    "class Email:\n",
    "    email_domain_name = \"gmail.com\"\n",
    "    def __init__(self, sub, body, to):\n",
    "        self.subject = sub\n",
    "        self.body = body\n",
    "        self.recipent = to"
   ]
  },
  {
   "cell_type": "code",
   "execution_count": 72,
   "id": "717d30d0-41cb-4cd9-a7df-bc69120898cb",
   "metadata": {},
   "outputs": [],
   "source": [
    "e1 = Email(\"I am happy\", \"blah blah blah\", \"ananth@gmail.com\")"
   ]
  },
  {
   "cell_type": "code",
   "execution_count": 73,
   "id": "a2c06f5f-db27-4b84-a6ae-563d366f5d25",
   "metadata": {},
   "outputs": [
    {
     "data": {
      "text/plain": [
       "'I am happy'"
      ]
     },
     "execution_count": 73,
     "metadata": {},
     "output_type": "execute_result"
    }
   ],
   "source": [
    "e1.subject"
   ]
  },
  {
   "cell_type": "code",
   "execution_count": 74,
   "id": "590db1d1-d6e2-4f08-bf03-a463d4ba12ba",
   "metadata": {},
   "outputs": [
    {
     "data": {
      "text/plain": [
       "'ananth@gmail.com'"
      ]
     },
     "execution_count": 74,
     "metadata": {},
     "output_type": "execute_result"
    }
   ],
   "source": [
    "e1.recipent"
   ]
  },
  {
   "cell_type": "code",
   "execution_count": 75,
   "id": "8b957eba-af7b-4da1-8e99-5d92aad62d25",
   "metadata": {},
   "outputs": [
    {
     "data": {
      "text/plain": [
       "'gmail.com'"
      ]
     },
     "execution_count": 75,
     "metadata": {},
     "output_type": "execute_result"
    }
   ],
   "source": [
    "e1.email_domain_name"
   ]
  },
  {
   "cell_type": "code",
   "execution_count": 76,
   "id": "dd1c6446-09dd-472e-8426-20259878c1b8",
   "metadata": {},
   "outputs": [],
   "source": [
    "e2 = Email(\"I am normal\", \"bjalh blha2 blah3\", \"jatin@yahoo.com\")"
   ]
  },
  {
   "cell_type": "code",
   "execution_count": 77,
   "id": "ab854539-c620-43a5-b377-f274375ce553",
   "metadata": {},
   "outputs": [
    {
     "data": {
      "text/plain": [
       "'gmail.com'"
      ]
     },
     "execution_count": 77,
     "metadata": {},
     "output_type": "execute_result"
    }
   ],
   "source": [
    "e2.email_domain_name"
   ]
  },
  {
   "cell_type": "code",
   "execution_count": 78,
   "id": "67345f17-980b-487a-8222-8e452fc61fc0",
   "metadata": {},
   "outputs": [
    {
     "data": {
      "text/plain": [
       "'I am normal'"
      ]
     },
     "execution_count": 78,
     "metadata": {},
     "output_type": "execute_result"
    }
   ],
   "source": [
    "e2.subject"
   ]
  },
  {
   "cell_type": "code",
   "execution_count": 79,
   "id": "37dafdd9-fbac-43e6-8266-045a80137bf9",
   "metadata": {},
   "outputs": [],
   "source": [
    "# accessing the class variables\n",
    "# 1) using class name\n",
    "# 2) using classmethod\n",
    "# 3) using the the object reference (Read only)"
   ]
  },
  {
   "cell_type": "code",
   "execution_count": 80,
   "id": "32ec6ff3-c852-4a73-9a3a-07df6fe5df0d",
   "metadata": {},
   "outputs": [
    {
     "data": {
      "text/plain": [
       "'gmail.com'"
      ]
     },
     "execution_count": 80,
     "metadata": {},
     "output_type": "execute_result"
    }
   ],
   "source": [
    "Email.email_domain_name"
   ]
  },
  {
   "cell_type": "code",
   "execution_count": 81,
   "id": "86e1e743-d844-44cc-82ec-827f1664f5b0",
   "metadata": {},
   "outputs": [],
   "source": [
    "Email.email_domain_name = \"yahoo.com\""
   ]
  },
  {
   "cell_type": "code",
   "execution_count": 82,
   "id": "aba1c6a4-9325-44a6-bf9c-e9610993e604",
   "metadata": {},
   "outputs": [
    {
     "data": {
      "text/plain": [
       "'yahoo.com'"
      ]
     },
     "execution_count": 82,
     "metadata": {},
     "output_type": "execute_result"
    }
   ],
   "source": [
    "e1.email_domain_name"
   ]
  },
  {
   "cell_type": "code",
   "execution_count": 83,
   "id": "5e0ae6dd-f7b9-4a99-b60e-e8a1ebadefb2",
   "metadata": {},
   "outputs": [
    {
     "ename": "AttributeError",
     "evalue": "'Email' object has no attribute 'subject'",
     "output_type": "error",
     "traceback": [
      "\u001b[31m---------------------------------------------------------------------------\u001b[39m",
      "\u001b[31mAttributeError\u001b[39m                            Traceback (most recent call last)",
      "\u001b[36mCell\u001b[39m\u001b[36m \u001b[39m\u001b[32mIn[83]\u001b[39m\u001b[32m, line 1\u001b[39m\n\u001b[32m----> \u001b[39m\u001b[32m1\u001b[39m \u001b[43mE1\u001b[49m\u001b[43m.\u001b[49m\u001b[43msubject\u001b[49m\n",
      "\u001b[31mAttributeError\u001b[39m: 'Email' object has no attribute 'subject'"
     ]
    }
   ],
   "source": [
    "E1.subject"
   ]
  },
  {
   "cell_type": "code",
   "execution_count": 84,
   "id": "12af73e2-e452-49ca-a29f-06a6c83b2fa9",
   "metadata": {},
   "outputs": [],
   "source": [
    "# 1) object attributes and methods cannot be accesed by class reference"
   ]
  },
  {
   "cell_type": "code",
   "execution_count": 85,
   "id": "5a9ff195-2e18-4e39-813d-43bd6fa9ae1e",
   "metadata": {},
   "outputs": [],
   "source": [
    "class Email:\n",
    "    email_domain_name = \"gmail.com\"\n",
    "    def __init__(self, sub, body, to):\n",
    "        self.subject = sub\n",
    "        self.body = body\n",
    "        self.recipent = to\n",
    "\n",
    "    @classmethod\n",
    "    def change_domain(cls, newdom_name):\n",
    "        cls.email_domain_name = newdom_name\n",
    "        print(f\"Changed the email domain name: {cls.email_domain_name}\")"
   ]
  },
  {
   "cell_type": "code",
   "execution_count": 86,
   "id": "da9aea05-9322-4b91-8aa7-ae7755fbfb79",
   "metadata": {},
   "outputs": [
    {
     "data": {
      "text/plain": [
       "'gmail.com'"
      ]
     },
     "execution_count": 86,
     "metadata": {},
     "output_type": "execute_result"
    }
   ],
   "source": [
    "Email.email_domain_name"
   ]
  },
  {
   "cell_type": "code",
   "execution_count": null,
   "id": "c5388ec8-8285-4131-8a2d-e15bad16de93",
   "metadata": {},
   "outputs": [],
   "source": [
    "# accessing the class method\n",
    "1) We can use Class reference to access\n",
    "2) We can use object reference"
   ]
  },
  {
   "cell_type": "code",
   "execution_count": 88,
   "id": "156bee80-944d-4f72-8f80-588b07bf7927",
   "metadata": {},
   "outputs": [],
   "source": [
    "e1 = Email(\"sub1\", \"bod1\", \"person1@gmail.com\")\n",
    "e2 = Email(\"sub2\", \"bod2\", \"person2@gmail.com\")"
   ]
  },
  {
   "cell_type": "code",
   "execution_count": 89,
   "id": "41e56fbe-05c8-47b9-815b-69056836008d",
   "metadata": {},
   "outputs": [
    {
     "name": "stdout",
     "output_type": "stream",
     "text": [
      "Changed the email domain name: yahoo.com\n"
     ]
    }
   ],
   "source": [
    "Email.change_domain(\"yahoo.com\")"
   ]
  },
  {
   "cell_type": "code",
   "execution_count": 90,
   "id": "a13e27a9-b990-464d-9de3-c4f5b2aee9ef",
   "metadata": {},
   "outputs": [
    {
     "data": {
      "text/plain": [
       "'yahoo.com'"
      ]
     },
     "execution_count": 90,
     "metadata": {},
     "output_type": "execute_result"
    }
   ],
   "source": [
    "e1.email_domain_name"
   ]
  },
  {
   "cell_type": "code",
   "execution_count": 91,
   "id": "a1daeefa-db6b-4005-97b5-fc5b9168dfdd",
   "metadata": {},
   "outputs": [
    {
     "name": "stdout",
     "output_type": "stream",
     "text": [
      "Changed the email domain name: orkut.com\n"
     ]
    }
   ],
   "source": [
    "e1.change_domain(\"orkut.com\")"
   ]
  },
  {
   "cell_type": "code",
   "execution_count": 92,
   "id": "db3975c3-b182-4885-8ca6-1fb57274ebc1",
   "metadata": {},
   "outputs": [
    {
     "data": {
      "text/plain": [
       "'orkut.com'"
      ]
     },
     "execution_count": 92,
     "metadata": {},
     "output_type": "execute_result"
    }
   ],
   "source": [
    "e2.email_domain_name"
   ]
  },
  {
   "cell_type": "code",
   "execution_count": 93,
   "id": "3f3c725a-ccec-488b-9266-220ae7d4d2e6",
   "metadata": {},
   "outputs": [
    {
     "data": {
      "text/plain": [
       "'orkut.com'"
      ]
     },
     "execution_count": 93,
     "metadata": {},
     "output_type": "execute_result"
    }
   ],
   "source": [
    "Email.email_domain_name"
   ]
  },
  {
   "cell_type": "code",
   "execution_count": null,
   "id": "13ae6f35-7a2e-4d69-a230-5f7f540fce6f",
   "metadata": {},
   "outputs": [],
   "source": []
  }
 ],
 "metadata": {
  "kernelspec": {
   "display_name": "Python 3 (ipykernel)",
   "language": "python",
   "name": "python3"
  },
  "language_info": {
   "codemirror_mode": {
    "name": "ipython",
    "version": 3
   },
   "file_extension": ".py",
   "mimetype": "text/x-python",
   "name": "python",
   "nbconvert_exporter": "python",
   "pygments_lexer": "ipython3",
   "version": "3.13.2"
  }
 },
 "nbformat": 4,
 "nbformat_minor": 5
}
