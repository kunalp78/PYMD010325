{
 "cells": [
  {
   "cell_type": "code",
   "execution_count": null,
   "id": "a720a001-9d3b-456d-b729-284bd10603fa",
   "metadata": {},
   "outputs": [],
   "source": [
    "# primitive data types??\n",
    "int, float, bool, str, None, complex\n",
    "# Non-primitive data types??\n",
    "list -> []\n",
    "        [5, 2, \"siva\", 5+ 6j]\n",
    "        Mutable dta type (changeable)\n",
    "tuple -> ()\n",
    "         (5, 2, \"siva\", 5+ 6j)\n",
    "         immutable data type (non changeable)\n",
    "dict -> {}\n",
    "        {\"key\": 65}\n",
    "        Mutable\n",
    "set -> set()\n",
    "       {1, 5, \"hey\"}\n",
    "       set is mutable\n",
    "       SET CONTAINS UNIQUE VALUES\n",
    "       values of set are immutable (collection of keys)\n",
    "\n",
    "collections:\n",
    "str, list, tuple, dict, set, range"
   ]
  },
  {
   "cell_type": "code",
   "execution_count": null,
   "id": "930e553b-fc72-4ffb-b261-68fc8d025df7",
   "metadata": {},
   "outputs": [],
   "source": [
    "if <condition>:\n",
    "    # statements\n",
    "\n",
    "if <condition>:\n",
    "    # statement1\n",
    "else:\n",
    "    # statement 2\n",
    "\n",
    "if <condition 1>:\n",
    "    # statement 1\n",
    "elif <condition 2>:\n",
    "    # statement 2\n",
    "else:\n",
    "    # default condition"
   ]
  },
  {
   "cell_type": "code",
   "execution_count": null,
   "id": "105a6d82-c9f1-48c3-b639-c3f12894692a",
   "metadata": {},
   "outputs": [],
   "source": [
    "Loops:\n",
    "    while\n",
    "    for\n",
    "\n",
    "1. to escape from one line\n",
    "2. running anything multiple times\n",
    "\n",
    "# doing something repeatedly\n",
    "in terms of coding\n",
    "# executing code repeatedly\n",
    "\n",
    "rules of loop\n",
    "1) action\n",
    "2) entry or exit condition"
   ]
  },
  {
   "cell_type": "code",
   "execution_count": null,
   "id": "ec77ea29-8519-408f-a6c4-fc3e1a6af84c",
   "metadata": {},
   "outputs": [],
   "source": [
    "# while loop\n",
    "while entry-codition:\n",
    "    # action\n",
    "    # exit condition"
   ]
  },
  {
   "cell_type": "code",
   "execution_count": null,
   "id": "e5e46f63-ff00-47e1-b553-1513caf11439",
   "metadata": {},
   "outputs": [],
   "source": [
    "# print 1 - 10\n",
    "1) define a variable\n",
    "2) incriment variable with one\n",
    "3) print the output value\n",
    "4) If the value of variable is less then 10 (check the exit conditon)"
   ]
  },
  {
   "cell_type": "code",
   "execution_count": 2,
   "id": "92827b0f-f1e9-41e2-9cf5-52a1be5eb3c5",
   "metadata": {},
   "outputs": [
    {
     "name": "stdout",
     "output_type": "stream",
     "text": [
      "1\n",
      "2\n",
      "3\n",
      "4\n",
      "5\n",
      "6\n",
      "7\n",
      "8\n",
      "9\n",
      "10\n"
     ]
    }
   ],
   "source": [
    "count = 0\n",
    "while True:\n",
    "    count += 1 # count = count + 1\n",
    "    print(count)\n",
    "    if count == 10:\n",
    "        break"
   ]
  },
  {
   "cell_type": "code",
   "execution_count": 3,
   "id": "4afb8a53-0f70-41ed-9aa6-8c256354a402",
   "metadata": {},
   "outputs": [
    {
     "name": "stdout",
     "output_type": "stream",
     "text": [
      "1\n",
      "2\n",
      "3\n",
      "4\n",
      "5\n",
      "6\n",
      "7\n",
      "8\n",
      "9\n",
      "10\n"
     ]
    }
   ],
   "source": [
    "count = 0\n",
    "while count < 10:\n",
    "    count += 1\n",
    "    print(count)"
   ]
  },
  {
   "cell_type": "code",
   "execution_count": null,
   "id": "2eef4392-7cd8-4fd2-87e6-4d0248081f12",
   "metadata": {},
   "outputs": [],
   "source": [
    "# Assignment\n",
    "# print only odd numbers till 100\n",
    "# print only even numbers till 100\n",
    "# print table of n\n",
    "# print first 20 values of fibonacchi series --> 0 1 1 2 3 5 8 13 ..."
   ]
  },
  {
   "cell_type": "code",
   "execution_count": null,
   "id": "14624b5d-4092-47bf-848b-0b588abfed39",
   "metadata": {},
   "outputs": [],
   "source": [
    "# for loop\n",
    "# loops in C, C++...\n",
    "for(int i=0; i<10; i++){\n",
    "printf(\"%d\"&i)\n",
    "}\n",
    "# loops in python\n",
    "for i in iterable:\n",
    "    # actions"
   ]
  },
  {
   "cell_type": "code",
   "execution_count": 4,
   "id": "7d631932-8197-437b-8af6-1bc218a0c43d",
   "metadata": {},
   "outputs": [
    {
     "name": "stdout",
     "output_type": "stream",
     "text": [
      "1\n",
      "2\n",
      "3\n",
      "5\n",
      "8\n",
      "9\n",
      "7\n",
      "4\n",
      "0\n",
      "6\n"
     ]
    }
   ],
   "source": [
    "l = [1, 2, 3, 5, 8, 9, 7, 4, 0, 6]\n",
    "for i in l:\n",
    "    print(i)"
   ]
  },
  {
   "cell_type": "code",
   "execution_count": 6,
   "id": "08959bfe-e3b8-4af7-be75-b2a24e3c9461",
   "metadata": {},
   "outputs": [
    {
     "name": "stdout",
     "output_type": "stream",
     "text": [
      "odd 1\n",
      "Even 2\n",
      "odd 3\n",
      "odd 5\n",
      "Even 8\n",
      "odd 9\n",
      "odd 7\n",
      "Even 4\n",
      "Even 0\n",
      "Even 6\n"
     ]
    }
   ],
   "source": [
    "for i in l:\n",
    "    if i%2 == 0:\n",
    "        print(\"Even\", i)\n",
    "    else:\n",
    "        print(\"odd\", i)"
   ]
  },
  {
   "cell_type": "code",
   "execution_count": 7,
   "id": "cc57daec-3030-4095-a749-a4786e9aac05",
   "metadata": {},
   "outputs": [],
   "source": [
    "# Print the value using until you hit the nuumber 5"
   ]
  },
  {
   "cell_type": "code",
   "execution_count": 8,
   "id": "c34bd228-ab99-4374-bd5e-cc0d1d5e0b56",
   "metadata": {},
   "outputs": [
    {
     "name": "stdout",
     "output_type": "stream",
     "text": [
      "1\n",
      "6\n",
      "7\n"
     ]
    }
   ],
   "source": [
    "l = [1, 6, 7, 5, 8, 3, 0, 0, 100, 158, 5]\n",
    "for num in l:\n",
    "    if num == 5:\n",
    "        break\n",
    "    print(num)"
   ]
  },
  {
   "cell_type": "code",
   "execution_count": 9,
   "id": "95269920-c36e-4369-aff5-59f0c06b68e2",
   "metadata": {},
   "outputs": [
    {
     "name": "stdout",
     "output_type": "stream",
     "text": [
      "1\n",
      "6\n",
      "7\n",
      "8\n",
      "3\n",
      "0\n",
      "0\n",
      "100\n",
      "158\n"
     ]
    }
   ],
   "source": [
    "# Print the value in the given list except the number 5\n",
    "for num in l:\n",
    "    if num == 5:\n",
    "        continue\n",
    "    print(num)"
   ]
  },
  {
   "cell_type": "code",
   "execution_count": 10,
   "id": "afee7e82-adf6-49e2-b7f0-989df9725718",
   "metadata": {},
   "outputs": [
    {
     "name": "stdout",
     "output_type": "stream",
     "text": [
      "1\n",
      "6\n",
      "7\n",
      "8\n",
      "3\n",
      "0\n",
      "0\n",
      "100\n",
      "158\n"
     ]
    }
   ],
   "source": [
    "for num in l:\n",
    "    if num == 5:\n",
    "        pass\n",
    "    else:\n",
    "        print(num)"
   ]
  },
  {
   "cell_type": "code",
   "execution_count": 11,
   "id": "d804f416-ae8b-4271-8ea7-28c11bb28210",
   "metadata": {},
   "outputs": [
    {
     "name": "stdout",
     "output_type": "stream",
     "text": [
      "1\n",
      "6\n",
      "7\n",
      "8\n",
      "3\n",
      "0\n",
      "0\n",
      "100\n",
      "158\n"
     ]
    }
   ],
   "source": [
    "for num in l:\n",
    "    if num == 5:\n",
    "        ...\n",
    "    else:\n",
    "        print(num)"
   ]
  },
  {
   "cell_type": "code",
   "execution_count": 12,
   "id": "625d6b87-fa07-42ee-bae3-80ad4bb888e3",
   "metadata": {},
   "outputs": [
    {
     "name": "stdout",
     "output_type": "stream",
     "text": [
      "1\n",
      "2\n",
      "3\n",
      "5\n"
     ]
    }
   ],
   "source": [
    "list = [1,2,3,400,5]\n",
    "for num in list:\n",
    "    if num ==400:\n",
    "        continue\n",
    "    print(num)"
   ]
  },
  {
   "cell_type": "code",
   "execution_count": 13,
   "id": "bfd9f10a-bbe1-46f4-b0d0-c46c67644d9d",
   "metadata": {},
   "outputs": [
    {
     "name": "stdout",
     "output_type": "stream",
     "text": [
      "P\n",
      "r\n",
      "a\n",
      "t\n",
      "i\n",
      "b\n",
      "h\n",
      "a\n"
     ]
    }
   ],
   "source": [
    "s = \"Pratibha\"\n",
    "for i in s:\n",
    "    print(i)"
   ]
  },
  {
   "cell_type": "code",
   "execution_count": 16,
   "id": "12ddb995-9b01-433b-b5d4-378d6a6fb6c8",
   "metadata": {},
   "outputs": [
    {
     "name": "stdout",
     "output_type": "stream",
     "text": [
      "p\n",
      "R\n",
      "A\n",
      "t\n",
      "I\n",
      "B\n",
      "h\n",
      "A\n"
     ]
    }
   ],
   "source": [
    "s = \"PraTibHa\"\n",
    "for i in s:\n",
    "    if i.isupper():\n",
    "        print(i.lower())\n",
    "    else:\n",
    "        print(i.upper())"
   ]
  },
  {
   "cell_type": "code",
   "execution_count": 15,
   "id": "33109867-200d-45fe-ae9a-ec0791388867",
   "metadata": {
    "collapsed": true,
    "jupyter": {
     "outputs_hidden": true
    }
   },
   "outputs": [
    {
     "name": "stdout",
     "output_type": "stream",
     "text": [
      "Help on class str in module builtins:\n",
      "\n",
      "class str(object)\n",
      " |  str(object='') -> str\n",
      " |  str(bytes_or_buffer[, encoding[, errors]]) -> str\n",
      " |\n",
      " |  Create a new string object from the given object. If encoding or\n",
      " |  errors is specified, then the object must expose a data buffer\n",
      " |  that will be decoded using the given encoding and error handler.\n",
      " |  Otherwise, returns the result of object.__str__() (if defined)\n",
      " |  or repr(object).\n",
      " |  encoding defaults to 'utf-8'.\n",
      " |  errors defaults to 'strict'.\n",
      " |\n",
      " |  Methods defined here:\n",
      " |\n",
      " |  __add__(self, value, /)\n",
      " |      Return self+value.\n",
      " |\n",
      " |  __contains__(self, key, /)\n",
      " |      Return bool(key in self).\n",
      " |\n",
      " |  __eq__(self, value, /)\n",
      " |      Return self==value.\n",
      " |\n",
      " |  __format__(self, format_spec, /)\n",
      " |      Return a formatted version of the string as described by format_spec.\n",
      " |\n",
      " |  __ge__(self, value, /)\n",
      " |      Return self>=value.\n",
      " |\n",
      " |  __getitem__(self, key, /)\n",
      " |      Return self[key].\n",
      " |\n",
      " |  __getnewargs__(self, /)\n",
      " |\n",
      " |  __gt__(self, value, /)\n",
      " |      Return self>value.\n",
      " |\n",
      " |  __hash__(self, /)\n",
      " |      Return hash(self).\n",
      " |\n",
      " |  __iter__(self, /)\n",
      " |      Implement iter(self).\n",
      " |\n",
      " |  __le__(self, value, /)\n",
      " |      Return self<=value.\n",
      " |\n",
      " |  __len__(self, /)\n",
      " |      Return len(self).\n",
      " |\n",
      " |  __lt__(self, value, /)\n",
      " |      Return self<value.\n",
      " |\n",
      " |  __mod__(self, value, /)\n",
      " |      Return self%value.\n",
      " |\n",
      " |  __mul__(self, value, /)\n",
      " |      Return self*value.\n",
      " |\n",
      " |  __ne__(self, value, /)\n",
      " |      Return self!=value.\n",
      " |\n",
      " |  __repr__(self, /)\n",
      " |      Return repr(self).\n",
      " |\n",
      " |  __rmod__(self, value, /)\n",
      " |      Return value%self.\n",
      " |\n",
      " |  __rmul__(self, value, /)\n",
      " |      Return value*self.\n",
      " |\n",
      " |  __sizeof__(self, /)\n",
      " |      Return the size of the string in memory, in bytes.\n",
      " |\n",
      " |  __str__(self, /)\n",
      " |      Return str(self).\n",
      " |\n",
      " |  capitalize(self, /)\n",
      " |      Return a capitalized version of the string.\n",
      " |\n",
      " |      More specifically, make the first character have upper case and the rest lower\n",
      " |      case.\n",
      " |\n",
      " |  casefold(self, /)\n",
      " |      Return a version of the string suitable for caseless comparisons.\n",
      " |\n",
      " |  center(self, width, fillchar=' ', /)\n",
      " |      Return a centered string of length width.\n",
      " |\n",
      " |      Padding is done using the specified fill character (default is a space).\n",
      " |\n",
      " |  count(self, sub[, start[, end]], /)\n",
      " |      Return the number of non-overlapping occurrences of substring sub in string S[start:end].\n",
      " |\n",
      " |      Optional arguments start and end are interpreted as in slice notation.\n",
      " |\n",
      " |  encode(self, /, encoding='utf-8', errors='strict')\n",
      " |      Encode the string using the codec registered for encoding.\n",
      " |\n",
      " |      encoding\n",
      " |        The encoding in which to encode the string.\n",
      " |      errors\n",
      " |        The error handling scheme to use for encoding errors.\n",
      " |        The default is 'strict' meaning that encoding errors raise a\n",
      " |        UnicodeEncodeError.  Other possible values are 'ignore', 'replace' and\n",
      " |        'xmlcharrefreplace' as well as any other name registered with\n",
      " |        codecs.register_error that can handle UnicodeEncodeErrors.\n",
      " |\n",
      " |  endswith(self, suffix[, start[, end]], /)\n",
      " |      Return True if the string ends with the specified suffix, False otherwise.\n",
      " |\n",
      " |      suffix\n",
      " |        A string or a tuple of strings to try.\n",
      " |      start\n",
      " |        Optional start position. Default: start of the string.\n",
      " |      end\n",
      " |        Optional stop position. Default: end of the string.\n",
      " |\n",
      " |  expandtabs(self, /, tabsize=8)\n",
      " |      Return a copy where all tab characters are expanded using spaces.\n",
      " |\n",
      " |      If tabsize is not given, a tab size of 8 characters is assumed.\n",
      " |\n",
      " |  find(self, sub[, start[, end]], /)\n",
      " |      Return the lowest index in S where substring sub is found, such that sub is contained within S[start:end].\n",
      " |\n",
      " |      Optional arguments start and end are interpreted as in slice notation.\n",
      " |      Return -1 on failure.\n",
      " |\n",
      " |  format(self, /, *args, **kwargs)\n",
      " |      Return a formatted version of the string, using substitutions from args and kwargs.\n",
      " |      The substitutions are identified by braces ('{' and '}').\n",
      " |\n",
      " |  format_map(self, mapping, /)\n",
      " |      Return a formatted version of the string, using substitutions from mapping.\n",
      " |      The substitutions are identified by braces ('{' and '}').\n",
      " |\n",
      " |  index(self, sub[, start[, end]], /)\n",
      " |      Return the lowest index in S where substring sub is found, such that sub is contained within S[start:end].\n",
      " |\n",
      " |      Optional arguments start and end are interpreted as in slice notation.\n",
      " |      Raises ValueError when the substring is not found.\n",
      " |\n",
      " |  isalnum(self, /)\n",
      " |      Return True if the string is an alpha-numeric string, False otherwise.\n",
      " |\n",
      " |      A string is alpha-numeric if all characters in the string are alpha-numeric and\n",
      " |      there is at least one character in the string.\n",
      " |\n",
      " |  isalpha(self, /)\n",
      " |      Return True if the string is an alphabetic string, False otherwise.\n",
      " |\n",
      " |      A string is alphabetic if all characters in the string are alphabetic and there\n",
      " |      is at least one character in the string.\n",
      " |\n",
      " |  isascii(self, /)\n",
      " |      Return True if all characters in the string are ASCII, False otherwise.\n",
      " |\n",
      " |      ASCII characters have code points in the range U+0000-U+007F.\n",
      " |      Empty string is ASCII too.\n",
      " |\n",
      " |  isdecimal(self, /)\n",
      " |      Return True if the string is a decimal string, False otherwise.\n",
      " |\n",
      " |      A string is a decimal string if all characters in the string are decimal and\n",
      " |      there is at least one character in the string.\n",
      " |\n",
      " |  isdigit(self, /)\n",
      " |      Return True if the string is a digit string, False otherwise.\n",
      " |\n",
      " |      A string is a digit string if all characters in the string are digits and there\n",
      " |      is at least one character in the string.\n",
      " |\n",
      " |  isidentifier(self, /)\n",
      " |      Return True if the string is a valid Python identifier, False otherwise.\n",
      " |\n",
      " |      Call keyword.iskeyword(s) to test whether string s is a reserved identifier,\n",
      " |      such as \"def\" or \"class\".\n",
      " |\n",
      " |  islower(self, /)\n",
      " |      Return True if the string is a lowercase string, False otherwise.\n",
      " |\n",
      " |      A string is lowercase if all cased characters in the string are lowercase and\n",
      " |      there is at least one cased character in the string.\n",
      " |\n",
      " |  isnumeric(self, /)\n",
      " |      Return True if the string is a numeric string, False otherwise.\n",
      " |\n",
      " |      A string is numeric if all characters in the string are numeric and there is at\n",
      " |      least one character in the string.\n",
      " |\n",
      " |  isprintable(self, /)\n",
      " |      Return True if the string is printable, False otherwise.\n",
      " |\n",
      " |      A string is printable if all of its characters are considered printable in\n",
      " |      repr() or if it is empty.\n",
      " |\n",
      " |  isspace(self, /)\n",
      " |      Return True if the string is a whitespace string, False otherwise.\n",
      " |\n",
      " |      A string is whitespace if all characters in the string are whitespace and there\n",
      " |      is at least one character in the string.\n",
      " |\n",
      " |  istitle(self, /)\n",
      " |      Return True if the string is a title-cased string, False otherwise.\n",
      " |\n",
      " |      In a title-cased string, upper- and title-case characters may only\n",
      " |      follow uncased characters and lowercase characters only cased ones.\n",
      " |\n",
      " |  isupper(self, /)\n",
      " |      Return True if the string is an uppercase string, False otherwise.\n",
      " |\n",
      " |      A string is uppercase if all cased characters in the string are uppercase and\n",
      " |      there is at least one cased character in the string.\n",
      " |\n",
      " |  join(self, iterable, /)\n",
      " |      Concatenate any number of strings.\n",
      " |\n",
      " |      The string whose method is called is inserted in between each given string.\n",
      " |      The result is returned as a new string.\n",
      " |\n",
      " |      Example: '.'.join(['ab', 'pq', 'rs']) -> 'ab.pq.rs'\n",
      " |\n",
      " |  ljust(self, width, fillchar=' ', /)\n",
      " |      Return a left-justified string of length width.\n",
      " |\n",
      " |      Padding is done using the specified fill character (default is a space).\n",
      " |\n",
      " |  lower(self, /)\n",
      " |      Return a copy of the string converted to lowercase.\n",
      " |\n",
      " |  lstrip(self, chars=None, /)\n",
      " |      Return a copy of the string with leading whitespace removed.\n",
      " |\n",
      " |      If chars is given and not None, remove characters in chars instead.\n",
      " |\n",
      " |  partition(self, sep, /)\n",
      " |      Partition the string into three parts using the given separator.\n",
      " |\n",
      " |      This will search for the separator in the string.  If the separator is found,\n",
      " |      returns a 3-tuple containing the part before the separator, the separator\n",
      " |      itself, and the part after it.\n",
      " |\n",
      " |      If the separator is not found, returns a 3-tuple containing the original string\n",
      " |      and two empty strings.\n",
      " |\n",
      " |  removeprefix(self, prefix, /)\n",
      " |      Return a str with the given prefix string removed if present.\n",
      " |\n",
      " |      If the string starts with the prefix string, return string[len(prefix):].\n",
      " |      Otherwise, return a copy of the original string.\n",
      " |\n",
      " |  removesuffix(self, suffix, /)\n",
      " |      Return a str with the given suffix string removed if present.\n",
      " |\n",
      " |      If the string ends with the suffix string and that suffix is not empty,\n",
      " |      return string[:-len(suffix)]. Otherwise, return a copy of the original\n",
      " |      string.\n",
      " |\n",
      " |  replace(self, old, new, /, count=-1)\n",
      " |      Return a copy with all occurrences of substring old replaced by new.\n",
      " |\n",
      " |        count\n",
      " |          Maximum number of occurrences to replace.\n",
      " |          -1 (the default value) means replace all occurrences.\n",
      " |\n",
      " |      If the optional argument count is given, only the first count occurrences are\n",
      " |      replaced.\n",
      " |\n",
      " |  rfind(self, sub[, start[, end]], /)\n",
      " |      Return the highest index in S where substring sub is found, such that sub is contained within S[start:end].\n",
      " |\n",
      " |      Optional arguments start and end are interpreted as in slice notation.\n",
      " |      Return -1 on failure.\n",
      " |\n",
      " |  rindex(self, sub[, start[, end]], /)\n",
      " |      Return the highest index in S where substring sub is found, such that sub is contained within S[start:end].\n",
      " |\n",
      " |      Optional arguments start and end are interpreted as in slice notation.\n",
      " |      Raises ValueError when the substring is not found.\n",
      " |\n",
      " |  rjust(self, width, fillchar=' ', /)\n",
      " |      Return a right-justified string of length width.\n",
      " |\n",
      " |      Padding is done using the specified fill character (default is a space).\n",
      " |\n",
      " |  rpartition(self, sep, /)\n",
      " |      Partition the string into three parts using the given separator.\n",
      " |\n",
      " |      This will search for the separator in the string, starting at the end. If\n",
      " |      the separator is found, returns a 3-tuple containing the part before the\n",
      " |      separator, the separator itself, and the part after it.\n",
      " |\n",
      " |      If the separator is not found, returns a 3-tuple containing two empty strings\n",
      " |      and the original string.\n",
      " |\n",
      " |  rsplit(self, /, sep=None, maxsplit=-1)\n",
      " |      Return a list of the substrings in the string, using sep as the separator string.\n",
      " |\n",
      " |        sep\n",
      " |          The separator used to split the string.\n",
      " |\n",
      " |          When set to None (the default value), will split on any whitespace\n",
      " |          character (including \\n \\r \\t \\f and spaces) and will discard\n",
      " |          empty strings from the result.\n",
      " |        maxsplit\n",
      " |          Maximum number of splits.\n",
      " |          -1 (the default value) means no limit.\n",
      " |\n",
      " |      Splitting starts at the end of the string and works to the front.\n",
      " |\n",
      " |  rstrip(self, chars=None, /)\n",
      " |      Return a copy of the string with trailing whitespace removed.\n",
      " |\n",
      " |      If chars is given and not None, remove characters in chars instead.\n",
      " |\n",
      " |  split(self, /, sep=None, maxsplit=-1)\n",
      " |      Return a list of the substrings in the string, using sep as the separator string.\n",
      " |\n",
      " |        sep\n",
      " |          The separator used to split the string.\n",
      " |\n",
      " |          When set to None (the default value), will split on any whitespace\n",
      " |          character (including \\n \\r \\t \\f and spaces) and will discard\n",
      " |          empty strings from the result.\n",
      " |        maxsplit\n",
      " |          Maximum number of splits.\n",
      " |          -1 (the default value) means no limit.\n",
      " |\n",
      " |      Splitting starts at the front of the string and works to the end.\n",
      " |\n",
      " |      Note, str.split() is mainly useful for data that has been intentionally\n",
      " |      delimited.  With natural text that includes punctuation, consider using\n",
      " |      the regular expression module.\n",
      " |\n",
      " |  splitlines(self, /, keepends=False)\n",
      " |      Return a list of the lines in the string, breaking at line boundaries.\n",
      " |\n",
      " |      Line breaks are not included in the resulting list unless keepends is given and\n",
      " |      true.\n",
      " |\n",
      " |  startswith(self, prefix[, start[, end]], /)\n",
      " |      Return True if the string starts with the specified prefix, False otherwise.\n",
      " |\n",
      " |      prefix\n",
      " |        A string or a tuple of strings to try.\n",
      " |      start\n",
      " |        Optional start position. Default: start of the string.\n",
      " |      end\n",
      " |        Optional stop position. Default: end of the string.\n",
      " |\n",
      " |  strip(self, chars=None, /)\n",
      " |      Return a copy of the string with leading and trailing whitespace removed.\n",
      " |\n",
      " |      If chars is given and not None, remove characters in chars instead.\n",
      " |\n",
      " |  swapcase(self, /)\n",
      " |      Convert uppercase characters to lowercase and lowercase characters to uppercase.\n",
      " |\n",
      " |  title(self, /)\n",
      " |      Return a version of the string where each word is titlecased.\n",
      " |\n",
      " |      More specifically, words start with uppercased characters and all remaining\n",
      " |      cased characters have lower case.\n",
      " |\n",
      " |  translate(self, table, /)\n",
      " |      Replace each character in the string using the given translation table.\n",
      " |\n",
      " |        table\n",
      " |          Translation table, which must be a mapping of Unicode ordinals to\n",
      " |          Unicode ordinals, strings, or None.\n",
      " |\n",
      " |      The table must implement lookup/indexing via __getitem__, for instance a\n",
      " |      dictionary or list.  If this operation raises LookupError, the character is\n",
      " |      left untouched.  Characters mapped to None are deleted.\n",
      " |\n",
      " |  upper(self, /)\n",
      " |      Return a copy of the string converted to uppercase.\n",
      " |\n",
      " |  zfill(self, width, /)\n",
      " |      Pad a numeric string with zeros on the left, to fill a field of the given width.\n",
      " |\n",
      " |      The string is never truncated.\n",
      " |\n",
      " |  ----------------------------------------------------------------------\n",
      " |  Static methods defined here:\n",
      " |\n",
      " |  __new__(*args, **kwargs)\n",
      " |      Create and return a new object.  See help(type) for accurate signature.\n",
      " |\n",
      " |  maketrans(x, y=<unrepresentable>, z=<unrepresentable>, /)\n",
      " |      Return a translation table usable for str.translate().\n",
      " |\n",
      " |      If there is only one argument, it must be a dictionary mapping Unicode\n",
      " |      ordinals (integers) or characters to Unicode ordinals, strings or None.\n",
      " |      Character keys will be then converted to ordinals.\n",
      " |      If there are two arguments, they must be strings of equal length, and\n",
      " |      in the resulting dictionary, each character in x will be mapped to the\n",
      " |      character at the same position in y. If there is a third argument, it\n",
      " |      must be a string, whose characters will be mapped to None in the result.\n",
      "\n"
     ]
    }
   ],
   "source": [
    "help(str)"
   ]
  },
  {
   "cell_type": "code",
   "execution_count": 17,
   "id": "da34d51d-a2d4-4dce-b3f1-24385128877b",
   "metadata": {},
   "outputs": [
    {
     "name": "stdout",
     "output_type": "stream",
     "text": [
      "0\n",
      "1\n",
      "2\n",
      "3\n",
      "4\n",
      "5\n",
      "6\n",
      "7\n",
      "8\n",
      "9\n"
     ]
    }
   ],
   "source": [
    "for i in range(10): # --> 0-9\n",
    "    print(i)"
   ]
  },
  {
   "cell_type": "code",
   "execution_count": 19,
   "id": "2c04dea5-65a9-4bb1-9da5-702dbc3e7645",
   "metadata": {},
   "outputs": [
    {
     "name": "stdout",
     "output_type": "stream",
     "text": [
      "1\n",
      "2\n",
      "3\n",
      "4\n",
      "5\n",
      "6\n",
      "7\n",
      "8\n",
      "9\n"
     ]
    }
   ],
   "source": [
    "for i in range(1, 10): # --> 1-9\n",
    "    print(i)"
   ]
  },
  {
   "cell_type": "code",
   "execution_count": 20,
   "id": "5686a71c-8cc6-4f93-b502-0e5e20b735ef",
   "metadata": {},
   "outputs": [
    {
     "name": "stdout",
     "output_type": "stream",
     "text": [
      "1\n",
      "3\n",
      "5\n",
      "7\n",
      "9\n"
     ]
    }
   ],
   "source": [
    "for i in range(1, 10, 2): # --> 1, 3, 5, 7, 9\n",
    "    print(i)"
   ]
  },
  {
   "cell_type": "code",
   "execution_count": 22,
   "id": "7a91f65a-eb91-4bb0-b2df-a21ef9e6b42b",
   "metadata": {},
   "outputs": [
    {
     "name": "stdout",
     "output_type": "stream",
     "text": [
      "1\n",
      "4\n",
      "7\n"
     ]
    }
   ],
   "source": [
    "for i in range(1, 10, 3): # --> 1, 4, 7\n",
    "    print(i)"
   ]
  },
  {
   "cell_type": "code",
   "execution_count": 24,
   "id": "df175a8b-02ff-4cff-88e8-5198b764bfa8",
   "metadata": {},
   "outputs": [
    {
     "name": "stdout",
     "output_type": "stream",
     "text": [
      "0\n",
      "2\n",
      "4\n",
      "6\n",
      "8\n"
     ]
    }
   ],
   "source": [
    "for i in range(0, 10, 2): # --> 0, 2, 4, 6, 8\n",
    "    print(i)"
   ]
  },
  {
   "cell_type": "code",
   "execution_count": 25,
   "id": "63cd8167-49cb-4606-ac7e-339d824a787a",
   "metadata": {},
   "outputs": [
    {
     "name": "stdout",
     "output_type": "stream",
     "text": [
      "0\n",
      "3\n",
      "6\n",
      "9\n"
     ]
    }
   ],
   "source": [
    "for i in range(0, 10, 3): # --> 0, 3, 6, 9\n",
    "    print(i)"
   ]
  },
  {
   "cell_type": "code",
   "execution_count": 27,
   "id": "a19fa688-1664-49a6-8d5a-79f67f304e93",
   "metadata": {},
   "outputs": [
    {
     "name": "stdout",
     "output_type": "stream",
     "text": [
      "10\n",
      "9\n",
      "8\n",
      "7\n",
      "6\n",
      "5\n",
      "4\n",
      "3\n",
      "2\n",
      "1\n"
     ]
    }
   ],
   "source": [
    "for i in range(10, 0, -1): # --> 10, 9, 8, ..., 2, 1\n",
    "    print(i)"
   ]
  },
  {
   "cell_type": "code",
   "execution_count": 28,
   "id": "e6bed6c7-04e4-46bf-bc45-740ae6b53b50",
   "metadata": {},
   "outputs": [
    {
     "name": "stdout",
     "output_type": "stream",
     "text": [
      "10\n",
      "8\n",
      "6\n",
      "4\n",
      "2\n"
     ]
    }
   ],
   "source": [
    "for i in range(10, 0, -2): # --> 10, 8, 6, 4, 2\n",
    "    print(i)"
   ]
  },
  {
   "cell_type": "code",
   "execution_count": 30,
   "id": "7abbaaed-c0da-448f-9b8b-ab59587c725e",
   "metadata": {},
   "outputs": [
    {
     "name": "stdout",
     "output_type": "stream",
     "text": [
      "9\n",
      "7\n",
      "5\n",
      "3\n",
      "1\n"
     ]
    }
   ],
   "source": [
    "for i in range(9, 0, -2): # --> 9, 7, 5, 3, 1\n",
    "    print(i)"
   ]
  },
  {
   "cell_type": "code",
   "execution_count": 31,
   "id": "00457e52-1ca2-49bc-b0a4-fd81c9df3788",
   "metadata": {},
   "outputs": [
    {
     "data": {
      "text/plain": [
       "65"
      ]
     },
     "execution_count": 31,
     "metadata": {},
     "output_type": "execute_result"
    }
   ],
   "source": [
    "# A -> 65\n",
    "ord(\"A\")"
   ]
  },
  {
   "cell_type": "code",
   "execution_count": 32,
   "id": "308cb520-103a-4671-8b85-713c6e14659a",
   "metadata": {},
   "outputs": [
    {
     "data": {
      "text/plain": [
       "90"
      ]
     },
     "execution_count": 32,
     "metadata": {},
     "output_type": "execute_result"
    }
   ],
   "source": [
    "ord(\"Z\")"
   ]
  },
  {
   "cell_type": "code",
   "execution_count": 33,
   "id": "19f0d043-7777-44cc-8600-a10812f9cc94",
   "metadata": {},
   "outputs": [
    {
     "name": "stdout",
     "output_type": "stream",
     "text": [
      "65\n",
      "66\n",
      "67\n",
      "68\n",
      "69\n",
      "70\n",
      "71\n",
      "72\n",
      "73\n",
      "74\n",
      "75\n",
      "76\n",
      "77\n",
      "78\n",
      "79\n",
      "80\n",
      "81\n",
      "82\n",
      "83\n",
      "84\n",
      "85\n",
      "86\n",
      "87\n",
      "88\n",
      "89\n",
      "90\n"
     ]
    }
   ],
   "source": [
    "for char in range(ord(\"A\"), ord(\"Z\")+1):\n",
    "    print(char)"
   ]
  },
  {
   "cell_type": "code",
   "execution_count": 34,
   "id": "3f76aa6c-178a-452c-86ee-d4270533410f",
   "metadata": {},
   "outputs": [
    {
     "name": "stdout",
     "output_type": "stream",
     "text": [
      "A\n",
      "B\n",
      "C\n",
      "D\n",
      "E\n",
      "F\n",
      "G\n",
      "H\n",
      "I\n",
      "J\n",
      "K\n",
      "L\n",
      "M\n",
      "N\n",
      "O\n",
      "P\n",
      "Q\n",
      "R\n",
      "S\n",
      "T\n",
      "U\n",
      "V\n",
      "W\n",
      "X\n",
      "Y\n",
      "Z\n"
     ]
    }
   ],
   "source": [
    "for char in range(ord(\"A\"), ord(\"Z\")+1):\n",
    "    print(chr(char))"
   ]
  },
  {
   "cell_type": "code",
   "execution_count": 35,
   "id": "9815024a-497a-41d6-8700-f18d069225aa",
   "metadata": {},
   "outputs": [
    {
     "data": {
      "text/plain": [
       "'\\x01'"
      ]
     },
     "execution_count": 35,
     "metadata": {},
     "output_type": "execute_result"
    }
   ],
   "source": [
    "chr(1)"
   ]
  },
  {
   "cell_type": "code",
   "execution_count": 36,
   "id": "02803d6d-4cc3-4544-a7f8-e19b528a5cdf",
   "metadata": {},
   "outputs": [
    {
     "data": {
      "text/plain": [
       "'\\n'"
      ]
     },
     "execution_count": 36,
     "metadata": {},
     "output_type": "execute_result"
    }
   ],
   "source": [
    "chr(10)"
   ]
  },
  {
   "cell_type": "code",
   "execution_count": 38,
   "id": "9770b6f8-4e24-41ad-b047-e50c71c4db50",
   "metadata": {},
   "outputs": [
    {
     "data": {
      "text/plain": [
       "'\\t'"
      ]
     },
     "execution_count": 38,
     "metadata": {},
     "output_type": "execute_result"
    }
   ],
   "source": [
    "chr(9)"
   ]
  },
  {
   "cell_type": "code",
   "execution_count": 39,
   "id": "5df3a238-fbe5-40be-8f9f-10cd39ffe6f7",
   "metadata": {},
   "outputs": [
    {
     "data": {
      "text/plain": [
       "'a'"
      ]
     },
     "execution_count": 39,
     "metadata": {},
     "output_type": "execute_result"
    }
   ],
   "source": [
    "chr(97)"
   ]
  },
  {
   "cell_type": "code",
   "execution_count": 43,
   "id": "001acfda-8420-4e06-b271-f7c36412bbce",
   "metadata": {},
   "outputs": [],
   "source": [
    "# Python Functions"
   ]
  },
  {
   "cell_type": "code",
   "execution_count": null,
   "id": "950eed09-48b7-4ef5-89a8-8cc99eccc54e",
   "metadata": {},
   "outputs": [],
   "source": [
    "y = F(x)\n",
    "f(x) = 3x + 1\n",
    "# solve for x\n",
    "f(5) -> 3*5 + 1 = 16\n",
    "f(5) = 16"
   ]
  },
  {
   "cell_type": "code",
   "execution_count": null,
   "id": "b2ef6dfe-c788-4131-bd9b-5562e64b19e7",
   "metadata": {},
   "outputs": [],
   "source": [
    "f(x) --> 1, if x > 0\n",
    "         0, if x == 0\n",
    "         -1, if x < 0"
   ]
  },
  {
   "cell_type": "code",
   "execution_count": 45,
   "id": "65ede017-fb7d-442a-b60f-01aba9b389b3",
   "metadata": {},
   "outputs": [],
   "source": [
    "def quadratic(x):\n",
    "    y = 3*x + 1\n",
    "    return y"
   ]
  },
  {
   "cell_type": "code",
   "execution_count": 46,
   "id": "3c46dbc0-8dd0-4b06-821b-cd4333e104cf",
   "metadata": {},
   "outputs": [
    {
     "data": {
      "text/plain": [
       "16"
      ]
     },
     "execution_count": 46,
     "metadata": {},
     "output_type": "execute_result"
    }
   ],
   "source": [
    "quadratic(5)"
   ]
  },
  {
   "cell_type": "code",
   "execution_count": null,
   "id": "c972ba79-7d86-4649-b4db-797bdaa9db7d",
   "metadata": {},
   "outputs": [],
   "source": [
    "# Remembering\n",
    "# Comprehension\n",
    "# Application\n",
    "# Analysis\n",
    "# Evaluate\n",
    "# Create"
   ]
  },
  {
   "cell_type": "code",
   "execution_count": 47,
   "id": "d310d3df-35f7-48af-90da-0613d635fd2a",
   "metadata": {},
   "outputs": [
    {
     "data": {
      "text/plain": [
       "1"
      ]
     },
     "execution_count": 47,
     "metadata": {},
     "output_type": "execute_result"
    }
   ],
   "source": [
    "def signm(x):\n",
    "    if x > 0:\n",
    "        return 1\n",
    "    elif x == 0:\n",
    "        return 0\n",
    "    else:\n",
    "        return -1\n",
    "\n",
    "signm(55)"
   ]
  },
  {
   "cell_type": "code",
   "execution_count": 48,
   "id": "7d97759e-6994-469c-9c12-6d75b3f2e030",
   "metadata": {},
   "outputs": [
    {
     "data": {
      "text/plain": [
       "-1"
      ]
     },
     "execution_count": 48,
     "metadata": {},
     "output_type": "execute_result"
    }
   ],
   "source": [
    "signm(-56)"
   ]
  },
  {
   "cell_type": "code",
   "execution_count": 49,
   "id": "4c17fa04-c79c-4b26-aabc-d3ab6e7a9c6f",
   "metadata": {},
   "outputs": [
    {
     "data": {
      "text/plain": [
       "0"
      ]
     },
     "execution_count": 49,
     "metadata": {},
     "output_type": "execute_result"
    }
   ],
   "source": [
    "signm(0)"
   ]
  },
  {
   "cell_type": "code",
   "execution_count": 50,
   "id": "b30cca86-8646-482c-9b1e-b6e040c755ca",
   "metadata": {},
   "outputs": [],
   "source": [
    "def adds(x, y):\n",
    "    print(x + y)"
   ]
  },
  {
   "cell_type": "code",
   "execution_count": 51,
   "id": "f616838f-60ff-4bb9-a7d6-c6fc279ecffc",
   "metadata": {},
   "outputs": [
    {
     "name": "stdout",
     "output_type": "stream",
     "text": [
      "11\n"
     ]
    }
   ],
   "source": [
    "adds(5, 6)"
   ]
  },
  {
   "cell_type": "code",
   "execution_count": 52,
   "id": "e6303979-16fe-4a6c-a99e-0f8ed0b623de",
   "metadata": {},
   "outputs": [
    {
     "name": "stdout",
     "output_type": "stream",
     "text": [
      "11\n"
     ]
    }
   ],
   "source": [
    "val = adds(5,6)"
   ]
  },
  {
   "cell_type": "code",
   "execution_count": 53,
   "id": "4b223d90-ae57-45bb-b08d-7308e66bf077",
   "metadata": {},
   "outputs": [
    {
     "name": "stdout",
     "output_type": "stream",
     "text": [
      "None\n"
     ]
    }
   ],
   "source": [
    "print(val)"
   ]
  },
  {
   "cell_type": "code",
   "execution_count": 54,
   "id": "f3eacc04-1340-4260-ba0d-c0fca33380c7",
   "metadata": {},
   "outputs": [
    {
     "name": "stdout",
     "output_type": "stream",
     "text": [
      "-1\n"
     ]
    }
   ],
   "source": [
    "val2 = signm(-56)\n",
    "print(val2)"
   ]
  },
  {
   "cell_type": "code",
   "execution_count": 55,
   "id": "88bdf4d8-d18a-4b78-8a7b-c57446597769",
   "metadata": {},
   "outputs": [],
   "source": [
    "def adds(x, y):\n",
    "    return(x + y)"
   ]
  },
  {
   "cell_type": "code",
   "execution_count": 57,
   "id": "df00e7b2-503b-4eeb-9b95-ac06b2593026",
   "metadata": {},
   "outputs": [],
   "source": [
    "val = adds(5, 2)"
   ]
  },
  {
   "cell_type": "code",
   "execution_count": 58,
   "id": "7f0d2601-c293-414e-a1d1-1c8ed45af1ac",
   "metadata": {},
   "outputs": [
    {
     "name": "stdout",
     "output_type": "stream",
     "text": [
      "7\n"
     ]
    }
   ],
   "source": [
    "print(val)"
   ]
  },
  {
   "cell_type": "code",
   "execution_count": 59,
   "id": "ee6f93d5-2f1d-4567-b395-87d0a30bd8ef",
   "metadata": {},
   "outputs": [],
   "source": [
    "# Default return value of any python function is NoneType"
   ]
  },
  {
   "cell_type": "code",
   "execution_count": null,
   "id": "66d0014c-66d4-47eb-b9c5-eccb84b7e5b5",
   "metadata": {},
   "outputs": [],
   "source": [
    "# parameters and arguments\n",
    "1) A parameter is the variable listed inside the parenthesis in the function definition\n",
    "2) An argument is the value that is sent to the funtion when it is called"
   ]
  },
  {
   "cell_type": "code",
   "execution_count": 61,
   "id": "17dbfee1-5dd8-4229-9f7a-c44daea262b7",
   "metadata": {},
   "outputs": [],
   "source": [
    "def print_value(val, val1, val2, val3):\n",
    "    print(f\"val1: {val1}, val2: {val2}, val3: {val3}, val: {val}\")"
   ]
  },
  {
   "cell_type": "code",
   "execution_count": 62,
   "id": "3792d1c2-443c-4d2b-a74e-a79bc5c79196",
   "metadata": {},
   "outputs": [
    {
     "name": "stdout",
     "output_type": "stream",
     "text": [
      "val1: Shakar, val2: Deepti, val3: Pratibha, val: Siva\n"
     ]
    }
   ],
   "source": [
    "print_value(\"Siva\", \"Shakar\", \"Deepti\", \"Pratibha\")"
   ]
  },
  {
   "cell_type": "code",
   "execution_count": 63,
   "id": "332ba8e3-e701-4acf-bc94-098e26054865",
   "metadata": {},
   "outputs": [
    {
     "name": "stdout",
     "output_type": "stream",
     "text": [
      "val1: Deepti, val2: Shakar, val3: Siva, val: Pratibha\n"
     ]
    }
   ],
   "source": [
    "print_value(val3=\"Siva\", val=\"Pratibha\", val1=\"Deepti\", val2=\"Shakar\")"
   ]
  },
  {
   "cell_type": "code",
   "execution_count": 64,
   "id": "a9c56965-e708-4775-bfe7-2fa967be2bd7",
   "metadata": {},
   "outputs": [
    {
     "ename": "TypeError",
     "evalue": "print_value() missing 1 required positional argument: 'val3'",
     "output_type": "error",
     "traceback": [
      "\u001b[31m---------------------------------------------------------------------------\u001b[39m",
      "\u001b[31mTypeError\u001b[39m                                 Traceback (most recent call last)",
      "\u001b[36mCell\u001b[39m\u001b[36m \u001b[39m\u001b[32mIn[64]\u001b[39m\u001b[32m, line 1\u001b[39m\n\u001b[32m----> \u001b[39m\u001b[32m1\u001b[39m \u001b[43mprint_value\u001b[49m\u001b[43m(\u001b[49m\u001b[33;43m\"\u001b[39;49m\u001b[33;43mSiva\u001b[39;49m\u001b[33;43m\"\u001b[39;49m\u001b[43m,\u001b[49m\u001b[43m \u001b[49m\u001b[33;43m\"\u001b[39;49m\u001b[33;43mShakar\u001b[39;49m\u001b[33;43m\"\u001b[39;49m\u001b[43m,\u001b[49m\u001b[43m \u001b[49m\u001b[33;43m\"\u001b[39;49m\u001b[33;43mDeepti\u001b[39;49m\u001b[33;43m\"\u001b[39;49m\u001b[43m)\u001b[49m\n",
      "\u001b[31mTypeError\u001b[39m: print_value() missing 1 required positional argument: 'val3'"
     ]
    }
   ],
   "source": [
    "print_value(\"Siva\", \"Shakar\", \"Deepti\")"
   ]
  },
  {
   "cell_type": "code",
   "execution_count": 65,
   "id": "763dfb80-6602-4a83-b0db-eb997f1c3cde",
   "metadata": {},
   "outputs": [],
   "source": [
    "def print_value(val=\"dummy_name\", val1=\"dummy_name1\", val2=\"\", val3=\"\"):\n",
    "    print(f\"val1: {val1}, val2: {val2}, val3: {val3}, val: {val}\")"
   ]
  },
  {
   "cell_type": "code",
   "execution_count": 66,
   "id": "2f357494-2d74-4f68-8be5-d2db878cb98e",
   "metadata": {},
   "outputs": [
    {
     "name": "stdout",
     "output_type": "stream",
     "text": [
      "val1: Shakar, val2: Deepti, val3: , val: Siva\n"
     ]
    }
   ],
   "source": [
    "print_value(\"Siva\", \"Shakar\", \"Deepti\")"
   ]
  },
  {
   "cell_type": "code",
   "execution_count": 67,
   "id": "aea6bd76-557b-43dd-85f2-dba7074c9b95",
   "metadata": {},
   "outputs": [
    {
     "name": "stdout",
     "output_type": "stream",
     "text": [
      "val1: dummy_name1, val2: Shakar, val3: Siva, val: dummy_name\n"
     ]
    }
   ],
   "source": [
    "print_value(val3=\"Siva\", val2=\"Shakar\")"
   ]
  },
  {
   "cell_type": "code",
   "execution_count": 68,
   "id": "88200abc-4b4c-43bf-9d78-f54d9906c37a",
   "metadata": {},
   "outputs": [
    {
     "name": "stdout",
     "output_type": "stream",
     "text": [
      "1 2 5 8 9 9 10\n"
     ]
    }
   ],
   "source": [
    "print(1, 2, 5, 8, 9, 9, 10)"
   ]
  },
  {
   "cell_type": "code",
   "execution_count": 69,
   "id": "9ff03c56-565f-4bae-b2e7-afc06305bdd1",
   "metadata": {},
   "outputs": [
    {
     "name": "stdout",
     "output_type": "stream",
     "text": [
      "val1: 2, val2: 5, val3: 9, val: 1\n"
     ]
    }
   ],
   "source": [
    "print_value(1, 2, 5, 9)"
   ]
  },
  {
   "cell_type": "code",
   "execution_count": 70,
   "id": "330fac6b-8b1a-405e-93b3-6a6c5fdf417a",
   "metadata": {},
   "outputs": [
    {
     "ename": "TypeError",
     "evalue": "print_value() takes from 0 to 4 positional arguments but 5 were given",
     "output_type": "error",
     "traceback": [
      "\u001b[31m---------------------------------------------------------------------------\u001b[39m",
      "\u001b[31mTypeError\u001b[39m                                 Traceback (most recent call last)",
      "\u001b[36mCell\u001b[39m\u001b[36m \u001b[39m\u001b[32mIn[70]\u001b[39m\u001b[32m, line 1\u001b[39m\n\u001b[32m----> \u001b[39m\u001b[32m1\u001b[39m \u001b[43mprint_value\u001b[49m\u001b[43m(\u001b[49m\u001b[32;43m1\u001b[39;49m\u001b[43m,\u001b[49m\u001b[43m \u001b[49m\u001b[32;43m2\u001b[39;49m\u001b[43m,\u001b[49m\u001b[43m \u001b[49m\u001b[32;43m5\u001b[39;49m\u001b[43m,\u001b[49m\u001b[43m \u001b[49m\u001b[32;43m9\u001b[39;49m\u001b[43m,\u001b[49m\u001b[43m \u001b[49m\u001b[32;43m10\u001b[39;49m\u001b[43m)\u001b[49m\n",
      "\u001b[31mTypeError\u001b[39m: print_value() takes from 0 to 4 positional arguments but 5 were given"
     ]
    }
   ],
   "source": [
    "print_value(1, 2, 5, 9, 10)"
   ]
  },
  {
   "cell_type": "code",
   "execution_count": 73,
   "id": "08e2539e-5fe5-4752-8d14-f30d50d8de0e",
   "metadata": {},
   "outputs": [],
   "source": [
    "def print_value(*args):\n",
    "    print(type(args))"
   ]
  },
  {
   "cell_type": "code",
   "execution_count": 74,
   "id": "a55770f7-4edd-4be3-bf4b-5825ce0d6fed",
   "metadata": {},
   "outputs": [
    {
     "name": "stdout",
     "output_type": "stream",
     "text": [
      "<class 'tuple'>\n"
     ]
    }
   ],
   "source": [
    "print_value(5, 6, 7, 98, 10)"
   ]
  },
  {
   "cell_type": "code",
   "execution_count": 75,
   "id": "f9887821-0a1d-4a1a-ad7b-726ca4efd18e",
   "metadata": {},
   "outputs": [],
   "source": [
    "def print_value(*args):\n",
    "    print(args)"
   ]
  },
  {
   "cell_type": "code",
   "execution_count": 76,
   "id": "f2659461-3410-4f3c-95ac-00b0a6e97bf4",
   "metadata": {},
   "outputs": [
    {
     "name": "stdout",
     "output_type": "stream",
     "text": [
      "(5, 6, 7, 98, 10)\n"
     ]
    }
   ],
   "source": [
    "print_value(5, 6, 7, 98, 10)"
   ]
  },
  {
   "cell_type": "code",
   "execution_count": 77,
   "id": "5d4c5471-c95e-4acf-aca3-b6940bea58d2",
   "metadata": {},
   "outputs": [],
   "source": [
    "def print_value(*args):\n",
    "    for i in args:\n",
    "        print(i)"
   ]
  },
  {
   "cell_type": "code",
   "execution_count": 78,
   "id": "dc985ff1-25e8-41a4-9fc4-f3f3f839b6c9",
   "metadata": {},
   "outputs": [
    {
     "name": "stdout",
     "output_type": "stream",
     "text": [
      "5\n",
      "6\n",
      "7\n",
      "98\n",
      "10\n"
     ]
    }
   ],
   "source": [
    "print_value(5, 6, 7, 98, 10)"
   ]
  },
  {
   "cell_type": "code",
   "execution_count": 81,
   "id": "3a5b7c40-9bf0-4f12-a928-931f0004c466",
   "metadata": {},
   "outputs": [
    {
     "name": "stdout",
     "output_type": "stream",
     "text": [
      "5 6 7 98 10 "
     ]
    }
   ],
   "source": [
    "def print_value(*args):\n",
    "    for i in args:\n",
    "        print(i, end=\" \")\n",
    "print_value(5, 6, 7, 98, 10)"
   ]
  },
  {
   "cell_type": "code",
   "execution_count": 83,
   "id": "394e32c6-570e-4c0d-9d49-00eee47bc8a8",
   "metadata": {},
   "outputs": [
    {
     "name": "stdout",
     "output_type": "stream",
     "text": [
      "5 6 7 98 10 "
     ]
    }
   ],
   "source": [
    "def print_value(*args):\n",
    "    for i in args:\n",
    "        print(i, end=\" \")\n",
    "print_value(5, 6, 7, 98, 10)"
   ]
  },
  {
   "cell_type": "code",
   "execution_count": 84,
   "id": "390e56fc-013f-4122-b032-15c18cbaa0fd",
   "metadata": {},
   "outputs": [
    {
     "name": "stdout",
     "output_type": "stream",
     "text": [
      "1-2-5-8-9-9-10\n"
     ]
    }
   ],
   "source": [
    "print(1, 2, 5, 8, 9, 9, 10, sep=\"-\")"
   ]
  },
  {
   "cell_type": "code",
   "execution_count": 85,
   "id": "a2f3edc4-04cf-4570-abf4-51615084f3f9",
   "metadata": {},
   "outputs": [
    {
     "ename": "SyntaxError",
     "evalue": "positional argument follows keyword argument (635029092.py, line 1)",
     "output_type": "error",
     "traceback": [
      "  \u001b[36mCell\u001b[39m\u001b[36m \u001b[39m\u001b[32mIn[85]\u001b[39m\u001b[32m, line 1\u001b[39m\n\u001b[31m    \u001b[39m\u001b[31mprint(sep=\"-\", 1, 2, 5, 8, 9, 9, 10)\u001b[39m\n                                       ^\n\u001b[31mSyntaxError\u001b[39m\u001b[31m:\u001b[39m positional argument follows keyword argument\n"
     ]
    }
   ],
   "source": [
    "print(sep=\"-\", 1, 2, 5, 8, 9, 9, 10)"
   ]
  },
  {
   "cell_type": "code",
   "execution_count": 86,
   "id": "9449291b-7019-4f59-bd6c-e11f9cd6f0d1",
   "metadata": {},
   "outputs": [],
   "source": [
    "def print_value(*args, **kwargs):\n",
    "    print(kwargs)"
   ]
  },
  {
   "cell_type": "code",
   "execution_count": 87,
   "id": "587be48e-4c47-43bb-88fb-33a191890969",
   "metadata": {},
   "outputs": [
    {
     "name": "stdout",
     "output_type": "stream",
     "text": [
      "{'val': 56, 'val1': 59}\n"
     ]
    }
   ],
   "source": [
    "print_value(1,2,val=56, val1=59)"
   ]
  },
  {
   "cell_type": "code",
   "execution_count": 88,
   "id": "6bf97161-eefd-4148-9389-bde1fd7c813a",
   "metadata": {},
   "outputs": [],
   "source": [
    "# dig deeper into **kwargs and *args\n",
    "def print_value(*args, **kwargs):\n",
    "    print(args, kwargs)"
   ]
  },
  {
   "cell_type": "code",
   "execution_count": 89,
   "id": "fef3800a-9935-4143-967b-b128aaa6d4a4",
   "metadata": {},
   "outputs": [
    {
     "name": "stdout",
     "output_type": "stream",
     "text": [
      "(1, 2, 5, 8) {'val': 56, 'val1': 59}\n"
     ]
    }
   ],
   "source": [
    "print_value(1, 2, 5, 8,val=56, val1=59)"
   ]
  },
  {
   "cell_type": "code",
   "execution_count": 90,
   "id": "46fca11d-0538-4a56-ba14-222d1094ef49",
   "metadata": {},
   "outputs": [],
   "source": [
    "# Lamda Function or Anonymous functions"
   ]
  },
  {
   "cell_type": "code",
   "execution_count": 91,
   "id": "4b747377-105d-414b-a9bd-4087151f8974",
   "metadata": {},
   "outputs": [
    {
     "data": {
      "text/plain": [
       "16"
      ]
     },
     "execution_count": 91,
     "metadata": {},
     "output_type": "execute_result"
    }
   ],
   "source": [
    "(lambda x: 3*x + 1)(5)"
   ]
  },
  {
   "cell_type": "code",
   "execution_count": 92,
   "id": "7c0ed627-86ba-4dcd-bd60-17b308172dc9",
   "metadata": {},
   "outputs": [],
   "source": [
    "val = (lambda x: 3*x + 1)(5)"
   ]
  },
  {
   "cell_type": "code",
   "execution_count": 93,
   "id": "2405ce7c-2358-4dd8-9fba-dee06e97b96b",
   "metadata": {},
   "outputs": [
    {
     "name": "stdout",
     "output_type": "stream",
     "text": [
      "16\n"
     ]
    }
   ],
   "source": [
    "print(val)"
   ]
  },
  {
   "cell_type": "code",
   "execution_count": 94,
   "id": "16d76863-c8d0-46a8-971d-7591079eef45",
   "metadata": {},
   "outputs": [],
   "source": [
    "F_x_ = lambda x: 3*x + 1"
   ]
  },
  {
   "cell_type": "code",
   "execution_count": 95,
   "id": "d090add6-0018-46d3-a91c-f9c085d28b24",
   "metadata": {},
   "outputs": [
    {
     "data": {
      "text/plain": [
       "16"
      ]
     },
     "execution_count": 95,
     "metadata": {},
     "output_type": "execute_result"
    }
   ],
   "source": [
    "F_x_(5)"
   ]
  },
  {
   "cell_type": "code",
   "execution_count": 96,
   "id": "694715cd-91e2-4c28-8f92-786a2c27e9a3",
   "metadata": {},
   "outputs": [
    {
     "data": {
      "text/plain": [
       "<function __main__.print_value(*args, **kwargs)>"
      ]
     },
     "execution_count": 96,
     "metadata": {},
     "output_type": "execute_result"
    }
   ],
   "source": [
    "print_value"
   ]
  },
  {
   "cell_type": "code",
   "execution_count": 97,
   "id": "4dae4cd3-c302-4e6d-ad6e-9ecdd44ee733",
   "metadata": {},
   "outputs": [
    {
     "name": "stdout",
     "output_type": "stream",
     "text": [
      "<function print_value at 0x000001EB398ABEC0>\n"
     ]
    }
   ],
   "source": [
    "print(print_value)"
   ]
  },
  {
   "cell_type": "code",
   "execution_count": 98,
   "id": "551d8778-760b-4d1c-b325-29ad6ff1d8d8",
   "metadata": {},
   "outputs": [
    {
     "data": {
      "text/plain": [
       "<function __main__.<lambda>(x)>"
      ]
     },
     "execution_count": 98,
     "metadata": {},
     "output_type": "execute_result"
    }
   ],
   "source": [
    "lambda x: 3*x + 1"
   ]
  },
  {
   "cell_type": "code",
   "execution_count": 99,
   "id": "469c1327-e8b7-447d-9117-5e5c7a6507ca",
   "metadata": {},
   "outputs": [
    {
     "data": {
      "text/plain": [
       "'print_value'"
      ]
     },
     "execution_count": 99,
     "metadata": {},
     "output_type": "execute_result"
    }
   ],
   "source": [
    "print_value.__name__"
   ]
  },
  {
   "cell_type": "code",
   "execution_count": 100,
   "id": "1cb3a4bc-d67a-42e1-8c12-27e7d401d93d",
   "metadata": {},
   "outputs": [
    {
     "data": {
      "text/plain": [
       "'<lambda>'"
      ]
     },
     "execution_count": 100,
     "metadata": {},
     "output_type": "execute_result"
    }
   ],
   "source": [
    "(lambda x: 3*x + 1).__name__"
   ]
  },
  {
   "cell_type": "code",
   "execution_count": 102,
   "id": "5a7ed8f6-ec80-4c70-b901-329e15c7c0b6",
   "metadata": {},
   "outputs": [
    {
     "ename": "SyntaxError",
     "evalue": "invalid syntax (642619250.py, line 1)",
     "output_type": "error",
     "traceback": [
      "  \u001b[36mCell\u001b[39m\u001b[36m \u001b[39m\u001b[32mIn[102]\u001b[39m\u001b[32m, line 1\u001b[39m\n\u001b[31m    \u001b[39m\u001b[31mlambda(5)\u001b[39m\n          ^\n\u001b[31mSyntaxError\u001b[39m\u001b[31m:\u001b[39m invalid syntax\n"
     ]
    }
   ],
   "source": [
    "lambda(5)"
   ]
  },
  {
   "cell_type": "code",
   "execution_count": 103,
   "id": "b573e39f-db50-4f88-8481-4df00e47c769",
   "metadata": {},
   "outputs": [
    {
     "name": "stdout",
     "output_type": "stream",
     "text": [
      "(5,) {}\n"
     ]
    }
   ],
   "source": [
    "print_value(5)"
   ]
  },
  {
   "cell_type": "code",
   "execution_count": 1,
   "id": "1f5e0ffc-7ddd-443a-ba9e-89c706c2a62a",
   "metadata": {},
   "outputs": [],
   "source": [
    "# maps\n",
    "l1 = [1, 2, 3, 5, 6]\n",
    "# list of sqaures of numbers in l1"
   ]
  },
  {
   "cell_type": "code",
   "execution_count": 105,
   "id": "6cc62785-cee6-40ef-9654-3269f5cfc312",
   "metadata": {},
   "outputs": [],
   "source": [
    "l2 = []\n",
    "for i in l1:\n",
    "    l2.append(i**2)"
   ]
  },
  {
   "cell_type": "code",
   "execution_count": 106,
   "id": "f683a9f4-d4a1-4557-98f6-689e97dc3b5a",
   "metadata": {},
   "outputs": [
    {
     "name": "stdout",
     "output_type": "stream",
     "text": [
      "[1, 4, 9, 25, 36]\n"
     ]
    }
   ],
   "source": [
    "print(l2)"
   ]
  },
  {
   "cell_type": "code",
   "execution_count": 3,
   "id": "415cf75b-b92d-4497-aa22-ebf9cbecba39",
   "metadata": {},
   "outputs": [],
   "source": [
    "def make_square(x):\n",
    "    return x ** 2"
   ]
  },
  {
   "cell_type": "code",
   "execution_count": 112,
   "id": "ea9e5758-8388-4e7e-8fa6-7787a20c65b1",
   "metadata": {},
   "outputs": [],
   "source": [
    "for i in l1:\n",
    "    l2.append(make_square(i))"
   ]
  },
  {
   "cell_type": "code",
   "execution_count": 113,
   "id": "919b420c-6bb5-4a99-81ee-33d2c8a655af",
   "metadata": {},
   "outputs": [
    {
     "data": {
      "text/plain": [
       "[1, 4, 9, 25, 36]"
      ]
     },
     "execution_count": 113,
     "metadata": {},
     "output_type": "execute_result"
    }
   ],
   "source": [
    "l2"
   ]
  },
  {
   "cell_type": "code",
   "execution_count": 2,
   "id": "6050ccaf-d6cc-4620-befb-b41078430d91",
   "metadata": {},
   "outputs": [
    {
     "ename": "NameError",
     "evalue": "name 'make_square' is not defined",
     "output_type": "error",
     "traceback": [
      "\u001b[31m---------------------------------------------------------------------------\u001b[39m",
      "\u001b[31mNameError\u001b[39m                                 Traceback (most recent call last)",
      "\u001b[36mCell\u001b[39m\u001b[36m \u001b[39m\u001b[32mIn[2]\u001b[39m\u001b[32m, line 1\u001b[39m\n\u001b[32m----> \u001b[39m\u001b[32m1\u001b[39m l = \u001b[38;5;28mmap\u001b[39m(\u001b[43mmake_square\u001b[49m, l1)\n",
      "\u001b[31mNameError\u001b[39m: name 'make_square' is not defined"
     ]
    }
   ],
   "source": [
    "l = map(make_square, l1)"
   ]
  },
  {
   "cell_type": "code",
   "execution_count": 120,
   "id": "6e0047fa-4841-4e0f-b1f4-d1c69f89c452",
   "metadata": {},
   "outputs": [
    {
     "name": "stdout",
     "output_type": "stream",
     "text": [
      "1\n",
      "4\n",
      "9\n",
      "25\n",
      "36\n"
     ]
    }
   ],
   "source": [
    "for i in l:\n",
    "    print(i)"
   ]
  },
  {
   "cell_type": "code",
   "execution_count": 6,
   "id": "e84f0245-9221-4e6b-946b-599ea54c23e3",
   "metadata": {},
   "outputs": [
    {
     "data": {
      "text/plain": [
       "[1, 4, 9, 25, 36]"
      ]
     },
     "execution_count": 6,
     "metadata": {},
     "output_type": "execute_result"
    }
   ],
   "source": [
    "l1 = [1, 2, 3, 5, 6]\n",
    "list(map(make_square, l1))"
   ]
  },
  {
   "cell_type": "code",
   "execution_count": 7,
   "id": "0ecf2de6-b94f-4ea6-a80b-bc632ccc6b7b",
   "metadata": {},
   "outputs": [
    {
     "data": {
      "text/plain": [
       "[1, 4, 9, 25, 36]"
      ]
     },
     "execution_count": 7,
     "metadata": {},
     "output_type": "execute_result"
    }
   ],
   "source": [
    "list(map(lambda x: x**2, l1))"
   ]
  },
  {
   "cell_type": "code",
   "execution_count": 8,
   "id": "55665018-2108-4311-8adc-a63f84aa7bfd",
   "metadata": {},
   "outputs": [
    {
     "name": "stdin",
     "output_type": "stream",
     "text": [
      "Enter numbers spereated by spaces:  1 2 25 38 9\n"
     ]
    }
   ],
   "source": [
    "num = input(\"Enter numbers spereated by spaces: \")"
   ]
  },
  {
   "cell_type": "code",
   "execution_count": 10,
   "id": "27cf0613-1323-4681-b987-a0ed0ec60b8d",
   "metadata": {},
   "outputs": [
    {
     "data": {
      "text/plain": [
       "['1', '2', '25', '38', '9']"
      ]
     },
     "execution_count": 10,
     "metadata": {},
     "output_type": "execute_result"
    }
   ],
   "source": [
    "num.split(\" \")"
   ]
  },
  {
   "cell_type": "code",
   "execution_count": 11,
   "id": "66f85a66-2817-42a0-9da1-651b3ba89d11",
   "metadata": {},
   "outputs": [
    {
     "data": {
      "text/plain": [
       "1"
      ]
     },
     "execution_count": 11,
     "metadata": {},
     "output_type": "execute_result"
    }
   ],
   "source": [
    "int('1')"
   ]
  },
  {
   "cell_type": "code",
   "execution_count": 12,
   "id": "c4c3368b-0992-41b0-9d9a-51afc1dc759e",
   "metadata": {},
   "outputs": [
    {
     "ename": "ValueError",
     "evalue": "invalid literal for int() with base 10: '1 2'",
     "output_type": "error",
     "traceback": [
      "\u001b[31m---------------------------------------------------------------------------\u001b[39m",
      "\u001b[31mValueError\u001b[39m                                Traceback (most recent call last)",
      "\u001b[36mCell\u001b[39m\u001b[36m \u001b[39m\u001b[32mIn[12]\u001b[39m\u001b[32m, line 1\u001b[39m\n\u001b[32m----> \u001b[39m\u001b[32m1\u001b[39m \u001b[38;5;28;43mint\u001b[39;49m\u001b[43m(\u001b[49m\u001b[33;43m'\u001b[39;49m\u001b[33;43m1 2\u001b[39;49m\u001b[33;43m'\u001b[39;49m\u001b[43m)\u001b[49m\n",
      "\u001b[31mValueError\u001b[39m: invalid literal for int() with base 10: '1 2'"
     ]
    }
   ],
   "source": [
    "int('1 2')"
   ]
  },
  {
   "cell_type": "code",
   "execution_count": 13,
   "id": "3a7754f3-dc4f-442a-97ce-f8fad7e1fbbc",
   "metadata": {},
   "outputs": [
    {
     "name": "stdin",
     "output_type": "stream",
     "text": [
      "Enter numbers spereated by spaces:  1 2 5 48 97 100\n"
     ]
    }
   ],
   "source": [
    "num = list(map(int, input(\"Enter numbers spereated by spaces: \").split(\" \")))"
   ]
  },
  {
   "cell_type": "code",
   "execution_count": 14,
   "id": "5e823d3d-77ec-4ca3-adb7-0919a37ba800",
   "metadata": {},
   "outputs": [
    {
     "data": {
      "text/plain": [
       "[1, 2, 5, 48, 97, 100]"
      ]
     },
     "execution_count": 14,
     "metadata": {},
     "output_type": "execute_result"
    }
   ],
   "source": [
    "num"
   ]
  },
  {
   "cell_type": "code",
   "execution_count": 15,
   "id": "cb993fa8-e5fe-409d-8219-0323d82430ce",
   "metadata": {},
   "outputs": [
    {
     "data": {
      "text/plain": [
       "[8, 10]"
      ]
     },
     "execution_count": 15,
     "metadata": {},
     "output_type": "execute_result"
    }
   ],
   "source": [
    "# filter\n",
    "l = [1, 5, 8, 10, 11, 25]\n",
    "list(filter(lambda x: x%2==0, l))"
   ]
  },
  {
   "cell_type": "code",
   "execution_count": null,
   "id": "089c0b77-3e0c-4fd5-81ad-f3eb853e81b3",
   "metadata": {},
   "outputs": [],
   "source": [
    "[1, 2, 3, 4, 5, 6]\n",
    "\n",
    "func(x) --> it returns true if x is even             filter\n",
    "\n",
    "[2, 4, 6]"
   ]
  },
  {
   "attachments": {
    "de5cf790-207b-4f2e-b0de-14d4bcaf17c2.png": {
     "image/png": "[encoded data removed]"
    }
   },
   "cell_type": "markdown",
   "id": "d9a304c2-e03c-460c-8a14-5a75bc1ac199",
   "metadata": {},
   "source": [
    "![image.png](attachment:de5cf790-207b-4f2e-b0de-14d4bcaf17c2.png)"
   ]
  },
  {
   "cell_type": "code",
   "execution_count": null,
   "id": "2d748638-ccd6-4349-be36-50e6e4c0063d",
   "metadata": {},
   "outputs": [],
   "source": [
    "#HW: read on reduce Modules and packages"
   ]
  }
 ],
 "metadata": {
  "kernelspec": {
   "display_name": "Python 3 (ipykernel)",
   "language": "python",
   "name": "python3"
  },
  "language_info": {
   "codemirror_mode": {
    "name": "ipython",
    "version": 3
   },
   "file_extension": ".py",
   "mimetype": "text/x-python",
   "name": "python",
   "nbconvert_exporter": "python",
   "pygments_lexer": "ipython3",
   "version": "3.13.2"
  }
 },
 "nbformat": 4,
 "nbformat_minor": 5
}
