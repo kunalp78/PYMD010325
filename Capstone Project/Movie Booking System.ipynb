{
 "cells": [
  {
   "cell_type": "code",
   "execution_count": 12,
   "id": "312d4715-1052-4763-80db-163760d2c23e",
   "metadata": {},
   "outputs": [],
   "source": [
    "import json\n",
    "import datetime\n",
    "\n",
    "class User:\n",
    "    def __init__(self, username, name, password, phoneno):\n",
    "        self.__username = username\n",
    "        self.__name = name\n",
    "        self.__password = password\n",
    "        self.__phone = phoneno\n",
    "        self.__login_log = []\n",
    "        self.__booking = []\n",
    "    \n",
    "    @staticmethod\n",
    "    def save_user_to_json(username, name, password, phoneno, login_log=[], booking=[]):\n",
    "        user = {\n",
    "            username: {\n",
    "                \"name\": name,\n",
    "                \"password\": password,\n",
    "                \"phone_number\": phoneno,\n",
    "                \"login_log\": login_log,\n",
    "                \"booking\": booking\n",
    "            }\n",
    "        }\n",
    "        try:\n",
    "            fp = open(\"users.json\", \"r+\")\n",
    "            content = json.load(fp)\n",
    "        except FileNotFoundError:\n",
    "            fp = open(\"users.json\", \"w+\")\n",
    "            content = {}\n",
    "\n",
    "        if username not in content:\n",
    "            user[username][\"login_log\"].append(str(datetime.datetime.now()))\n",
    "            content.update(user)\n",
    "            fp.seek(0)\n",
    "            fp.truncate()\n",
    "            json.dump(content, fp, indent=2)\n",
    "            fp.close()\n",
    "        else:\n",
    "            fp.close()\n",
    "            raise Exception(\"User already registerd\")\n",
    "        \n"
   ]
  },
  {
   "cell_type": "code",
   "execution_count": 13,
   "id": "637117e2-7ba8-4741-b800-74e0a277f4aa",
   "metadata": {},
   "outputs": [],
   "source": [
    "user1 = User.save_user_to_json(\"jatin\", \"Jatin\", \"123456789\", \"799865412\")"
   ]
  },
  {
   "cell_type": "code",
   "execution_count": null,
   "id": "6633c681-21ca-42fd-aeca-1f25b874b5f0",
   "metadata": {},
   "outputs": [],
   "source": []
  },
  {
   "cell_type": "code",
   "execution_count": null,
   "id": "596ba1e9-3656-4705-ba9b-3ab0d8fa968b",
   "metadata": {},
   "outputs": [],
   "source": []
  },
  {
   "cell_type": "code",
   "execution_count": 14,
   "id": "dcf2ecd4-3279-414a-97f1-555ea8578540",
   "metadata": {},
   "outputs": [],
   "source": [
    "class A:\n",
    "    @classmethod\n",
    "    def funct_1(cls):\n",
    "        print(cls.__name__)"
   ]
  },
  {
   "cell_type": "code",
   "execution_count": 16,
   "id": "85e2eb1c-bbca-49dd-8266-dc12c6a108c9",
   "metadata": {},
   "outputs": [
    {
     "name": "stdout",
     "output_type": "stream",
     "text": [
      "A\n"
     ]
    }
   ],
   "source": [
    "A.funct_1()"
   ]
  },
  {
   "cell_type": "code",
   "execution_count": 17,
   "id": "8be96137-ebd7-4b3e-b4fd-100f1fe9db08",
   "metadata": {},
   "outputs": [],
   "source": [
    "class B(A):\n",
    "    ..."
   ]
  },
  {
   "cell_type": "code",
   "execution_count": 18,
   "id": "1d003c22-6268-40d3-b742-fa90040a1473",
   "metadata": {},
   "outputs": [
    {
     "name": "stdout",
     "output_type": "stream",
     "text": [
      "B\n"
     ]
    }
   ],
   "source": [
    "B.funct_1()"
   ]
  },
  {
   "cell_type": "code",
   "execution_count": 22,
   "id": "8b19535f-5247-42c4-8162-69738893b94e",
   "metadata": {},
   "outputs": [
    {
     "data": {
      "text/plain": [
       "1033923070941875036"
      ]
     },
     "execution_count": 22,
     "metadata": {},
     "output_type": "execute_result"
    }
   ],
   "source": [
    "hash(\"kunal\")"
   ]
  },
  {
   "cell_type": "code",
   "execution_count": 47,
   "id": "aa9cfba9-f43c-40d7-9c58-daa4358ad7eb",
   "metadata": {},
   "outputs": [],
   "source": [
    "class Admin:\n",
    "    \"\"\"\n",
    "    Admin:\n",
    "        Manages movie and showtime additions.\n",
    "    \"\"\"\n",
    "    key = 1033923070941875036\n",
    "    def __init__(self, admin, password):\n",
    "        self.admin_user = admin\n",
    "        self.admin_password = hash(password)\n",
    "        try:\n",
    "            fp = open(\"admin.json\", \"r+\")\n",
    "            content = json.load(fp)\n",
    "        except FileNotFoundError:\n",
    "            fp = open(\"admin.json\", \"w+\")\n",
    "            content = []\n",
    "        except json.JSONDecodeError:\n",
    "            content = []\n",
    "        if self.__dict__ not in content:\n",
    "            content.append(self.__dict__)\n",
    "        fp.seek(0)\n",
    "        fp.truncate()\n",
    "        json.dump(content, fp, indent=2)\n",
    "\n",
    "    # def __new__(cls, *args, **kwargs):\n",
    "    #     try:\n",
    "    #         fp = open(\"admin.json\", \"r+\")\n",
    "    #         content = json.load(fp)\n",
    "    #         fp.close()\n",
    "    #     except json.JSONDecodeError:\n",
    "    #         content = []\n",
    "    #     except FileNotFoundError:\n",
    "    #         print(\"No admins available!!\")\n",
    "    #         fp = open(\"admin.json\", \"w+\")\n",
    "    #         fp.close()\n",
    "    #         content = []\n",
    "    #     if input(\"Do you want to create a new admin[Y/n]: \").lower() == \"y\":\n",
    "    #         if int(input(\"Enter the key\")) != cls.key:\n",
    "    #             raise Exception(\"Not Authorised to create Admins\")\n",
    "    #         else:\n",
    "    #             return super().__new__(cls, *args, **kwargs)"
   ]
  },
  {
   "cell_type": "code",
   "execution_count": 48,
   "id": "3532af9c-e4ad-4804-97d5-2cd377956d1b",
   "metadata": {},
   "outputs": [],
   "source": [
    "admin = Admin(\"Ananth\", \"123456789\") "
   ]
  },
  {
   "cell_type": "code",
   "execution_count": 38,
   "id": "bb107020-646a-4947-9e0f-4fc2b4bdeaac",
   "metadata": {},
   "outputs": [],
   "source": [
    "class A:\n",
    "    def __init__(self):\n",
    "        ...\n",
    "    def __new__(cls, *args, **kwargs):\n",
    "        b = int(input(\"Enter the value\"))\n",
    "        if b%2:\n",
    "            raise Exception(\"Cannot Instantiate with that mindset\")\n",
    "        return super().__new__(cls, *args, **kwargs)"
   ]
  },
  {
   "cell_type": "code",
   "execution_count": 39,
   "id": "0f2ffecc-2dcb-4d02-81eb-51b439996923",
   "metadata": {},
   "outputs": [
    {
     "name": "stdin",
     "output_type": "stream",
     "text": [
      "Enter the value 5\n"
     ]
    },
    {
     "ename": "Exception",
     "evalue": "Cannot Instantiate with that mindset",
     "output_type": "error",
     "traceback": [
      "\u001b[31m---------------------------------------------------------------------------\u001b[39m",
      "\u001b[31mException\u001b[39m                                 Traceback (most recent call last)",
      "\u001b[36mCell\u001b[39m\u001b[36m \u001b[39m\u001b[32mIn[39]\u001b[39m\u001b[32m, line 1\u001b[39m\n\u001b[32m----> \u001b[39m\u001b[32m1\u001b[39m a = \u001b[43mA\u001b[49m\u001b[43m(\u001b[49m\u001b[43m)\u001b[49m\n",
      "\u001b[36mCell\u001b[39m\u001b[36m \u001b[39m\u001b[32mIn[38]\u001b[39m\u001b[32m, line 7\u001b[39m, in \u001b[36mA.__new__\u001b[39m\u001b[34m(cls, *args, **kwargs)\u001b[39m\n\u001b[32m      5\u001b[39m b = \u001b[38;5;28mint\u001b[39m(\u001b[38;5;28minput\u001b[39m(\u001b[33m\"\u001b[39m\u001b[33mEnter the value\u001b[39m\u001b[33m\"\u001b[39m))\n\u001b[32m      6\u001b[39m \u001b[38;5;28;01mif\u001b[39;00m b%\u001b[32m2\u001b[39m:\n\u001b[32m----> \u001b[39m\u001b[32m7\u001b[39m     \u001b[38;5;28;01mraise\u001b[39;00m \u001b[38;5;167;01mException\u001b[39;00m(\u001b[33m\"\u001b[39m\u001b[33mCannot Instantiate with that mindset\u001b[39m\u001b[33m\"\u001b[39m)\n\u001b[32m      8\u001b[39m \u001b[38;5;28;01mreturn\u001b[39;00m \u001b[38;5;28msuper\u001b[39m().\u001b[34m__new__\u001b[39m(\u001b[38;5;28mcls\u001b[39m, *args, **kwargs)\n",
      "\u001b[31mException\u001b[39m: Cannot Instantiate with that mindset"
     ]
    }
   ],
   "source": [
    "a = A()"
   ]
  },
  {
   "cell_type": "code",
   "execution_count": 40,
   "id": "d7cbafb6-6011-421f-b308-096ad20a4019",
   "metadata": {},
   "outputs": [
    {
     "name": "stdin",
     "output_type": "stream",
     "text": [
      "Enter the value 2\n"
     ]
    }
   ],
   "source": [
    "a = A()"
   ]
  },
  {
   "cell_type": "code",
   "execution_count": null,
   "id": "25afdf3a-6882-461d-b3fe-2067ab2f938c",
   "metadata": {},
   "outputs": [],
   "source": []
  }
 ],
 "metadata": {
  "kernelspec": {
   "display_name": "Python 3 (ipykernel)",
   "language": "python",
   "name": "python3"
  },
  "language_info": {
   "codemirror_mode": {
    "name": "ipython",
    "version": 3
   },
   "file_extension": ".py",
   "mimetype": "text/x-python",
   "name": "python",
   "nbconvert_exporter": "python",
   "pygments_lexer": "ipython3",
   "version": "3.13.2"
  }
 },
 "nbformat": 4,
 "nbformat_minor": 5
}
