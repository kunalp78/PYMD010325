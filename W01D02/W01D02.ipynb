{
 "cells": [
  {
   "cell_type": "code",
   "execution_count": 1,
   "id": "0bd0355e-cac5-442a-91bf-4db2045523a8",
   "metadata": {},
   "outputs": [],
   "source": [
    "# List\n",
    "l = [1, True, \"Sneha\", 3.2]"
   ]
  },
  {
   "cell_type": "code",
   "execution_count": 2,
   "id": "993b024b-4330-4e58-8c25-ab1f51a95903",
   "metadata": {},
   "outputs": [
    {
     "name": "stdout",
     "output_type": "stream",
     "text": [
      "[1, True, 'Sneha', 3.2]\n"
     ]
    }
   ],
   "source": [
    "print(l)"
   ]
  },
  {
   "cell_type": "code",
   "execution_count": 3,
   "id": "b1b1c4d8-c0ac-446c-bed1-138a6e0ae0dc",
   "metadata": {},
   "outputs": [
    {
     "data": {
      "text/plain": [
       "1"
      ]
     },
     "execution_count": 3,
     "metadata": {},
     "output_type": "execute_result"
    }
   ],
   "source": [
    "l[0]"
   ]
  },
  {
   "cell_type": "code",
   "execution_count": 4,
   "id": "79a53d28-be60-42c9-9bb8-2a4258139f05",
   "metadata": {},
   "outputs": [
    {
     "data": {
      "text/plain": [
       "True"
      ]
     },
     "execution_count": 4,
     "metadata": {},
     "output_type": "execute_result"
    }
   ],
   "source": [
    "l[1]"
   ]
  },
  {
   "cell_type": "code",
   "execution_count": 5,
   "id": "ecff963e-3e16-4bc0-b461-66a66a460e47",
   "metadata": {},
   "outputs": [
    {
     "data": {
      "text/plain": [
       "'Sneha'"
      ]
     },
     "execution_count": 5,
     "metadata": {},
     "output_type": "execute_result"
    }
   ],
   "source": [
    "l[2]"
   ]
  },
  {
   "cell_type": "code",
   "execution_count": 6,
   "id": "5277abc0-9843-4521-a109-dc7032dd761c",
   "metadata": {},
   "outputs": [
    {
     "data": {
      "text/plain": [
       "3.2"
      ]
     },
     "execution_count": 6,
     "metadata": {},
     "output_type": "execute_result"
    }
   ],
   "source": [
    "l[3]"
   ]
  },
  {
   "cell_type": "code",
   "execution_count": null,
   "id": "a0c6bde0-3fc0-406c-ac91-ff0364210374",
   "metadata": {},
   "outputs": [],
   "source": [
    "# python is zeroth indexed\n",
    "# numberof items in a list is = n\n",
    "# index value of the last element = n-1"
   ]
  },
  {
   "cell_type": "code",
   "execution_count": 7,
   "id": "203a6384-75fd-49d0-a975-6ab937af3d75",
   "metadata": {},
   "outputs": [],
   "source": [
    "# the python list allows duplicate items\n",
    "l = [1, 1, 2, 3, 4]"
   ]
  },
  {
   "cell_type": "code",
   "execution_count": 8,
   "id": "169371c1-05e3-482f-931a-8cce63d0bd17",
   "metadata": {},
   "outputs": [
    {
     "name": "stdout",
     "output_type": "stream",
     "text": [
      "1\n"
     ]
    }
   ],
   "source": [
    "print(l[0])"
   ]
  },
  {
   "cell_type": "code",
   "execution_count": 9,
   "id": "eb44ad0c-0440-45b0-a866-7dca2feb7fb6",
   "metadata": {},
   "outputs": [
    {
     "name": "stdout",
     "output_type": "stream",
     "text": [
      "1\n"
     ]
    }
   ],
   "source": [
    "print(l[1])"
   ]
  },
  {
   "cell_type": "code",
   "execution_count": null,
   "id": "56addcc8-6c4d-4a54-aac3-bd9c4ac23044",
   "metadata": {},
   "outputs": [],
   "source": [
    "# list is changable\n",
    "# - addition of element\n",
    "# - updation of existing element\n",
    "# - deletion of the elements"
   ]
  },
  {
   "cell_type": "code",
   "execution_count": null,
   "id": "414f27d2-d0f1-4949-8a52-fad0d45f9fe8",
   "metadata": {},
   "outputs": [],
   "source": [
    "# addition of element in list"
   ]
  },
  {
   "cell_type": "code",
   "execution_count": 10,
   "id": "306b39d4-dc42-43ab-b5a7-c77f856ea286",
   "metadata": {},
   "outputs": [],
   "source": [
    "# append method"
   ]
  },
  {
   "cell_type": "code",
   "execution_count": 12,
   "id": "ece7eae8-a26f-4f7b-bee6-6e25c9882a57",
   "metadata": {},
   "outputs": [],
   "source": [
    "list_1 = []"
   ]
  },
  {
   "cell_type": "code",
   "execution_count": 13,
   "id": "a44177ce-6ae5-436c-90d5-90f156b76550",
   "metadata": {},
   "outputs": [
    {
     "name": "stdout",
     "output_type": "stream",
     "text": [
      "[]\n"
     ]
    }
   ],
   "source": [
    "print(list_1)"
   ]
  },
  {
   "cell_type": "code",
   "execution_count": 14,
   "id": "2342fb37-c9a9-413b-99f7-12c399d49e05",
   "metadata": {},
   "outputs": [
    {
     "data": {
      "text/plain": [
       "0"
      ]
     },
     "execution_count": 14,
     "metadata": {},
     "output_type": "execute_result"
    }
   ],
   "source": [
    "len(list_1)"
   ]
  },
  {
   "cell_type": "code",
   "execution_count": 15,
   "id": "b00cb30a-c2ca-41cb-beef-4a6fc08e5560",
   "metadata": {},
   "outputs": [],
   "source": [
    "list_1.append(\"ice cream\")"
   ]
  },
  {
   "cell_type": "code",
   "execution_count": 16,
   "id": "b1e07c9b-3604-41fc-ba7d-76a10284d3a1",
   "metadata": {},
   "outputs": [
    {
     "name": "stdout",
     "output_type": "stream",
     "text": [
      "['ice cream']\n"
     ]
    }
   ],
   "source": [
    "print(list_1)"
   ]
  },
  {
   "cell_type": "code",
   "execution_count": 17,
   "id": "a5ef31e6-8333-46a6-b4d7-25458cf04826",
   "metadata": {},
   "outputs": [],
   "source": [
    "list_1.append(\"corn\")"
   ]
  },
  {
   "cell_type": "code",
   "execution_count": 18,
   "id": "7ecb2a33-d1c1-4cfe-9953-38f374c016d2",
   "metadata": {},
   "outputs": [],
   "source": [
    "list_1.append(\"fruits\")"
   ]
  },
  {
   "cell_type": "code",
   "execution_count": 19,
   "id": "ad2f3e24-49ce-4988-840b-bdd7e28484ef",
   "metadata": {},
   "outputs": [
    {
     "name": "stdout",
     "output_type": "stream",
     "text": [
      "['ice cream', 'corn', 'fruits']\n"
     ]
    }
   ],
   "source": [
    "print(list_1)"
   ]
  },
  {
   "cell_type": "code",
   "execution_count": 20,
   "id": "1b649d6e-9d5d-4c8f-bdda-3587b338f9a0",
   "metadata": {},
   "outputs": [
    {
     "data": {
      "text/plain": [
       "3"
      ]
     },
     "execution_count": 20,
     "metadata": {},
     "output_type": "execute_result"
    }
   ],
   "source": [
    "len(list_1)"
   ]
  },
  {
   "cell_type": "code",
   "execution_count": 21,
   "id": "8a296764-cb75-4da1-9870-74681c27c220",
   "metadata": {},
   "outputs": [
    {
     "data": {
      "text/plain": [
       "'ice cream'"
      ]
     },
     "execution_count": 21,
     "metadata": {},
     "output_type": "execute_result"
    }
   ],
   "source": [
    "list_1[0]"
   ]
  },
  {
   "cell_type": "code",
   "execution_count": 22,
   "id": "f87a0fa9-db7a-4910-a5a0-df1139b5dada",
   "metadata": {},
   "outputs": [
    {
     "data": {
      "text/plain": [
       "'fruits'"
      ]
     },
     "execution_count": 22,
     "metadata": {},
     "output_type": "execute_result"
    }
   ],
   "source": [
    "list_1[len(list_1)-1]"
   ]
  },
  {
   "cell_type": "code",
   "execution_count": 23,
   "id": "357bb6c2-ef74-4466-a193-fb8df24c5d29",
   "metadata": {},
   "outputs": [
    {
     "ename": "IndexError",
     "evalue": "list index out of range",
     "output_type": "error",
     "traceback": [
      "\u001b[31m---------------------------------------------------------------------------\u001b[39m",
      "\u001b[31mIndexError\u001b[39m                                Traceback (most recent call last)",
      "\u001b[36mCell\u001b[39m\u001b[36m \u001b[39m\u001b[32mIn[23]\u001b[39m\u001b[32m, line 1\u001b[39m\n\u001b[32m----> \u001b[39m\u001b[32m1\u001b[39m \u001b[43mlist_1\u001b[49m\u001b[43m[\u001b[49m\u001b[38;5;28;43mlen\u001b[39;49m\u001b[43m(\u001b[49m\u001b[43mlist_1\u001b[49m\u001b[43m)\u001b[49m\u001b[43m]\u001b[49m\n",
      "\u001b[31mIndexError\u001b[39m: list index out of range"
     ]
    }
   ],
   "source": [
    "list_1[len(list_1)]"
   ]
  },
  {
   "cell_type": "code",
   "execution_count": 24,
   "id": "6b1204b2-c4e8-4ddf-a082-48038780ff10",
   "metadata": {},
   "outputs": [],
   "source": [
    "# negative indexing\n",
    "# it starts with -1"
   ]
  },
  {
   "cell_type": "code",
   "execution_count": 25,
   "id": "244023bb-37c7-4e11-a322-c5da436bde32",
   "metadata": {},
   "outputs": [
    {
     "data": {
      "text/plain": [
       "'fruits'"
      ]
     },
     "execution_count": 25,
     "metadata": {},
     "output_type": "execute_result"
    }
   ],
   "source": [
    "list_1[-1]"
   ]
  },
  {
   "cell_type": "code",
   "execution_count": 26,
   "id": "563923f4-f8f7-4694-ac1d-fc2d8dacd5cf",
   "metadata": {},
   "outputs": [
    {
     "data": {
      "text/plain": [
       "'corn'"
      ]
     },
     "execution_count": 26,
     "metadata": {},
     "output_type": "execute_result"
    }
   ],
   "source": [
    "list_1[-2]"
   ]
  },
  {
   "cell_type": "code",
   "execution_count": null,
   "id": "4e24d285-45b5-4d1a-ba13-e237922cc057",
   "metadata": {},
   "outputs": [],
   "source": [
    "# insert"
   ]
  },
  {
   "cell_type": "code",
   "execution_count": 27,
   "id": "8fc4c52b-e8b3-4c4f-b278-412585c4c83a",
   "metadata": {},
   "outputs": [
    {
     "data": {
      "text/plain": [
       "['ice cream', 'corn', 'fruits']"
      ]
     },
     "execution_count": 27,
     "metadata": {},
     "output_type": "execute_result"
    }
   ],
   "source": [
    "list_1"
   ]
  },
  {
   "cell_type": "code",
   "execution_count": 28,
   "id": "7a4dd992-ed5b-42eb-997d-f40dffad4695",
   "metadata": {},
   "outputs": [],
   "source": [
    "list_1.insert(0, \"mango\")"
   ]
  },
  {
   "cell_type": "code",
   "execution_count": 29,
   "id": "42e0b51d-75f8-4ca1-bc31-0ac3810415c6",
   "metadata": {},
   "outputs": [
    {
     "data": {
      "text/plain": [
       "['mango', 'ice cream', 'corn', 'fruits']"
      ]
     },
     "execution_count": 29,
     "metadata": {},
     "output_type": "execute_result"
    }
   ],
   "source": [
    "list_1"
   ]
  },
  {
   "cell_type": "code",
   "execution_count": 30,
   "id": "6bf3bfeb-ff14-4587-9e99-641c9e14c6c2",
   "metadata": {},
   "outputs": [],
   "source": [
    "# insert \"avacardo\" after ice cream.\n",
    "list_1.insert(2, \"Avacardo\")"
   ]
  },
  {
   "cell_type": "code",
   "execution_count": 31,
   "id": "18ec3b84-d31f-4a5c-8865-afa32678437c",
   "metadata": {},
   "outputs": [
    {
     "data": {
      "text/plain": [
       "['mango', 'ice cream', 'Avacardo', 'corn', 'fruits']"
      ]
     },
     "execution_count": 31,
     "metadata": {},
     "output_type": "execute_result"
    }
   ],
   "source": [
    "list_1"
   ]
  },
  {
   "cell_type": "code",
   "execution_count": 32,
   "id": "3c3f437c-72ab-471d-ad34-9aa5fcf18ac2",
   "metadata": {},
   "outputs": [],
   "source": [
    "list_2 = [\"Africa\", \"America\", \"Sri lanka\"]\n",
    "list_2.insert(0, \"India\")"
   ]
  },
  {
   "cell_type": "code",
   "execution_count": 33,
   "id": "d80f9687-b1d1-447a-a076-abdfac34baa3",
   "metadata": {},
   "outputs": [
    {
     "name": "stdout",
     "output_type": "stream",
     "text": [
      "['India', 'Africa', 'America', 'Sri lanka']\n"
     ]
    }
   ],
   "source": [
    "print(list_2)"
   ]
  },
  {
   "cell_type": "code",
   "execution_count": 34,
   "id": "c9d89ebb-04c7-4845-b0c0-46d46ffe248b",
   "metadata": {},
   "outputs": [],
   "source": [
    "# Extend list"
   ]
  },
  {
   "cell_type": "code",
   "execution_count": 35,
   "id": "86a0f5f9-2b18-47f8-ac9b-3535406704ae",
   "metadata": {},
   "outputs": [],
   "source": [
    "list_2.extend(list_1)"
   ]
  },
  {
   "cell_type": "code",
   "execution_count": 36,
   "id": "40842b4a-cf2c-4e73-973e-efb4f41c3486",
   "metadata": {},
   "outputs": [
    {
     "name": "stdout",
     "output_type": "stream",
     "text": [
      "['India', 'Africa', 'America', 'Sri lanka', 'mango', 'ice cream', 'Avacardo', 'corn', 'fruits']\n"
     ]
    }
   ],
   "source": [
    "print(list_2)"
   ]
  },
  {
   "cell_type": "code",
   "execution_count": 37,
   "id": "85481222-e0f7-43af-a43c-6e87237650bc",
   "metadata": {},
   "outputs": [
    {
     "name": "stdout",
     "output_type": "stream",
     "text": [
      "['mango', 'ice cream', 'Avacardo', 'corn', 'fruits']\n"
     ]
    }
   ],
   "source": [
    "print(list_1)"
   ]
  },
  {
   "cell_type": "code",
   "execution_count": 38,
   "id": "bd9a092f-a35a-4f73-9ae2-3f3fc153f57a",
   "metadata": {},
   "outputs": [
    {
     "data": {
      "text/plain": [
       "2"
      ]
     },
     "execution_count": 38,
     "metadata": {},
     "output_type": "execute_result"
    }
   ],
   "source": [
    "list_1.index('Avacardo')"
   ]
  },
  {
   "cell_type": "code",
   "execution_count": 39,
   "id": "d96eca18-60db-409c-8800-b688bafa37c9",
   "metadata": {},
   "outputs": [],
   "source": [
    "index = list_1.index('Avacardo')"
   ]
  },
  {
   "cell_type": "code",
   "execution_count": 40,
   "id": "a607de26-d7d9-4b98-933a-fcf7ff7d8ef5",
   "metadata": {},
   "outputs": [
    {
     "name": "stdout",
     "output_type": "stream",
     "text": [
      "2\n"
     ]
    }
   ],
   "source": [
    "print(index)"
   ]
  },
  {
   "cell_type": "code",
   "execution_count": 41,
   "id": "62cd3e05-24ad-42bb-976d-741464456272",
   "metadata": {},
   "outputs": [
    {
     "ename": "ValueError",
     "evalue": "'Cauliflower' is not in list",
     "output_type": "error",
     "traceback": [
      "\u001b[31m---------------------------------------------------------------------------\u001b[39m",
      "\u001b[31mValueError\u001b[39m                                Traceback (most recent call last)",
      "\u001b[36mCell\u001b[39m\u001b[36m \u001b[39m\u001b[32mIn[41]\u001b[39m\u001b[32m, line 1\u001b[39m\n\u001b[32m----> \u001b[39m\u001b[32m1\u001b[39m \u001b[43mlist_1\u001b[49m\u001b[43m.\u001b[49m\u001b[43mindex\u001b[49m\u001b[43m(\u001b[49m\u001b[33;43m\"\u001b[39;49m\u001b[33;43mCauliflower\u001b[39;49m\u001b[33;43m\"\u001b[39;49m\u001b[43m)\u001b[49m\n",
      "\u001b[31mValueError\u001b[39m: 'Cauliflower' is not in list"
     ]
    }
   ],
   "source": [
    "list_1.index(\"Cauliflower\")"
   ]
  },
  {
   "cell_type": "code",
   "execution_count": 42,
   "id": "f301d5df-8d19-4dbc-8881-76e96da30237",
   "metadata": {},
   "outputs": [
    {
     "data": {
      "text/plain": [
       "False"
      ]
     },
     "execution_count": 42,
     "metadata": {},
     "output_type": "execute_result"
    }
   ],
   "source": [
    "\"Cauliflower\" in list_1"
   ]
  },
  {
   "cell_type": "code",
   "execution_count": 43,
   "id": "b6d50f44-c503-4bec-82c7-48e586f020bd",
   "metadata": {},
   "outputs": [
    {
     "data": {
      "text/plain": [
       "True"
      ]
     },
     "execution_count": 43,
     "metadata": {},
     "output_type": "execute_result"
    }
   ],
   "source": [
    "'Avacardo' in list_1"
   ]
  },
  {
   "cell_type": "code",
   "execution_count": 44,
   "id": "563de9ef-683e-4be0-bcbf-9043448dbf2c",
   "metadata": {},
   "outputs": [],
   "source": [
    "index = list_1.index('Avacardo')\n",
    "list_1[index] = \"Cauliflower\""
   ]
  },
  {
   "cell_type": "code",
   "execution_count": 45,
   "id": "416a58b8-f76f-4bc0-b4c5-dd59fd3b9563",
   "metadata": {},
   "outputs": [
    {
     "name": "stdout",
     "output_type": "stream",
     "text": [
      "['mango', 'ice cream', 'Cauliflower', 'corn', 'fruits']\n"
     ]
    }
   ],
   "source": [
    "print(list_1)"
   ]
  },
  {
   "cell_type": "code",
   "execution_count": 46,
   "id": "7444c162-11f5-42dc-8dfa-06d7e62f576d",
   "metadata": {},
   "outputs": [],
   "source": [
    "list_1[0] = \"Mango\""
   ]
  },
  {
   "cell_type": "code",
   "execution_count": 47,
   "id": "1600a73b-f36b-41c9-9c5f-779791ab0438",
   "metadata": {},
   "outputs": [
    {
     "name": "stdout",
     "output_type": "stream",
     "text": [
      "['Mango', 'ice cream', 'Cauliflower', 'corn', 'fruits']\n"
     ]
    }
   ],
   "source": [
    "print(list_1)"
   ]
  },
  {
   "cell_type": "code",
   "execution_count": 48,
   "id": "47f7faff-6a69-436d-8eb7-a8a0237dc4be",
   "metadata": {},
   "outputs": [],
   "source": [
    "list_1[list_1.index(\"Cauliflower\")] = \"Avacardo\""
   ]
  },
  {
   "cell_type": "code",
   "execution_count": 49,
   "id": "7d98d924-6b49-4bbc-a730-eba4618c34a2",
   "metadata": {},
   "outputs": [
    {
     "name": "stdout",
     "output_type": "stream",
     "text": [
      "['Mango', 'ice cream', 'Avacardo', 'corn', 'fruits']\n"
     ]
    }
   ],
   "source": [
    "print(list_1)"
   ]
  },
  {
   "cell_type": "code",
   "execution_count": 50,
   "id": "8a98ad40-f9ba-49b6-ac5a-438d88bf7f67",
   "metadata": {},
   "outputs": [
    {
     "data": {
      "text/plain": [
       "2"
      ]
     },
     "execution_count": 50,
     "metadata": {},
     "output_type": "execute_result"
    }
   ],
   "source": [
    "list_3 = [\"a\", \"b\", \"d\", \"d\", \"z\"]\n",
    "list_3.index(\"d\")"
   ]
  },
  {
   "cell_type": "code",
   "execution_count": 51,
   "id": "9df443d1-d9fa-484d-840d-c806c51f1e46",
   "metadata": {},
   "outputs": [],
   "source": [
    "# H/W 1 : figure out how to find the index value of other occurences of redundant elements"
   ]
  },
  {
   "cell_type": "code",
   "execution_count": 52,
   "id": "2bef99e6-afcd-4e76-a3f0-2ed89e8471af",
   "metadata": {
    "collapsed": true,
    "jupyter": {
     "outputs_hidden": true
    }
   },
   "outputs": [
    {
     "name": "stdout",
     "output_type": "stream",
     "text": [
      "Help on class list in module builtins:\n",
      "\n",
      "class list(object)\n",
      " |  list(iterable=(), /)\n",
      " |\n",
      " |  Built-in mutable sequence.\n",
      " |\n",
      " |  If no argument is given, the constructor creates a new empty list.\n",
      " |  The argument must be an iterable if specified.\n",
      " |\n",
      " |  Methods defined here:\n",
      " |\n",
      " |  __add__(self, value, /)\n",
      " |      Return self+value.\n",
      " |\n",
      " |  __contains__(self, key, /)\n",
      " |      Return bool(key in self).\n",
      " |\n",
      " |  __delitem__(self, key, /)\n",
      " |      Delete self[key].\n",
      " |\n",
      " |  __eq__(self, value, /)\n",
      " |      Return self==value.\n",
      " |\n",
      " |  __ge__(self, value, /)\n",
      " |      Return self>=value.\n",
      " |\n",
      " |  __getattribute__(self, name, /)\n",
      " |      Return getattr(self, name).\n",
      " |\n",
      " |  __getitem__(self, index, /)\n",
      " |      Return self[index].\n",
      " |\n",
      " |  __gt__(self, value, /)\n",
      " |      Return self>value.\n",
      " |\n",
      " |  __iadd__(self, value, /)\n",
      " |      Implement self+=value.\n",
      " |\n",
      " |  __imul__(self, value, /)\n",
      " |      Implement self*=value.\n",
      " |\n",
      " |  __init__(self, /, *args, **kwargs)\n",
      " |      Initialize self.  See help(type(self)) for accurate signature.\n",
      " |\n",
      " |  __iter__(self, /)\n",
      " |      Implement iter(self).\n",
      " |\n",
      " |  __le__(self, value, /)\n",
      " |      Return self<=value.\n",
      " |\n",
      " |  __len__(self, /)\n",
      " |      Return len(self).\n",
      " |\n",
      " |  __lt__(self, value, /)\n",
      " |      Return self<value.\n",
      " |\n",
      " |  __mul__(self, value, /)\n",
      " |      Return self*value.\n",
      " |\n",
      " |  __ne__(self, value, /)\n",
      " |      Return self!=value.\n",
      " |\n",
      " |  __repr__(self, /)\n",
      " |      Return repr(self).\n",
      " |\n",
      " |  __reversed__(self, /)\n",
      " |      Return a reverse iterator over the list.\n",
      " |\n",
      " |  __rmul__(self, value, /)\n",
      " |      Return value*self.\n",
      " |\n",
      " |  __setitem__(self, key, value, /)\n",
      " |      Set self[key] to value.\n",
      " |\n",
      " |  __sizeof__(self, /)\n",
      " |      Return the size of the list in memory, in bytes.\n",
      " |\n",
      " |  append(self, object, /)\n",
      " |      Append object to the end of the list.\n",
      " |\n",
      " |  clear(self, /)\n",
      " |      Remove all items from list.\n",
      " |\n",
      " |  copy(self, /)\n",
      " |      Return a shallow copy of the list.\n",
      " |\n",
      " |  count(self, value, /)\n",
      " |      Return number of occurrences of value.\n",
      " |\n",
      " |  extend(self, iterable, /)\n",
      " |      Extend list by appending elements from the iterable.\n",
      " |\n",
      " |  index(self, value, start=0, stop=9223372036854775807, /)\n",
      " |      Return first index of value.\n",
      " |\n",
      " |      Raises ValueError if the value is not present.\n",
      " |\n",
      " |  insert(self, index, object, /)\n",
      " |      Insert object before index.\n",
      " |\n",
      " |  pop(self, index=-1, /)\n",
      " |      Remove and return item at index (default last).\n",
      " |\n",
      " |      Raises IndexError if list is empty or index is out of range.\n",
      " |\n",
      " |  remove(self, value, /)\n",
      " |      Remove first occurrence of value.\n",
      " |\n",
      " |      Raises ValueError if the value is not present.\n",
      " |\n",
      " |  reverse(self, /)\n",
      " |      Reverse *IN PLACE*.\n",
      " |\n",
      " |  sort(self, /, *, key=None, reverse=False)\n",
      " |      Sort the list in ascending order and return None.\n",
      " |\n",
      " |      The sort is in-place (i.e. the list itself is modified) and stable (i.e. the\n",
      " |      order of two equal elements is maintained).\n",
      " |\n",
      " |      If a key function is given, apply it once to each list item and sort them,\n",
      " |      ascending or descending, according to their function values.\n",
      " |\n",
      " |      The reverse flag can be set to sort in descending order.\n",
      " |\n",
      " |  ----------------------------------------------------------------------\n",
      " |  Class methods defined here:\n",
      " |\n",
      " |  __class_getitem__(object, /)\n",
      " |      See PEP 585\n",
      " |\n",
      " |  ----------------------------------------------------------------------\n",
      " |  Static methods defined here:\n",
      " |\n",
      " |  __new__(*args, **kwargs)\n",
      " |      Create and return a new object.  See help(type) for accurate signature.\n",
      " |\n",
      " |  ----------------------------------------------------------------------\n",
      " |  Data and other attributes defined here:\n",
      " |\n",
      " |  __hash__ = None\n",
      "\n"
     ]
    }
   ],
   "source": [
    "help(list)"
   ]
  },
  {
   "cell_type": "code",
   "execution_count": 53,
   "id": "cb8d706c-a597-43ef-be7c-7442333809cf",
   "metadata": {},
   "outputs": [
    {
     "data": {
      "text/plain": [
       "2"
      ]
     },
     "execution_count": 53,
     "metadata": {},
     "output_type": "execute_result"
    }
   ],
   "source": [
    "list_3.count(\"d\")"
   ]
  },
  {
   "cell_type": "code",
   "execution_count": null,
   "id": "0b7351ce-c47f-4733-bbf2-9966cf2ebb11",
   "metadata": {},
   "outputs": [],
   "source": [
    "# delete an element from the list\n",
    "   - remove()\n",
    "   - pop()\n",
    "   - clear()\n",
    "   - del"
   ]
  },
  {
   "cell_type": "code",
   "execution_count": 54,
   "id": "29947071-bde0-4136-8d5a-7d04215f7582",
   "metadata": {},
   "outputs": [
    {
     "name": "stdout",
     "output_type": "stream",
     "text": [
      "['India', 'Africa', 'America', 'Sri lanka', 'mango', 'ice cream', 'Avacardo', 'corn', 'fruits']\n"
     ]
    }
   ],
   "source": [
    "print(list_2)"
   ]
  },
  {
   "cell_type": "code",
   "execution_count": 55,
   "id": "2f8d3353-da08-41c2-af98-e159ce9bbfda",
   "metadata": {},
   "outputs": [],
   "source": [
    "list_2.remove(\"Avacardo\")"
   ]
  },
  {
   "cell_type": "code",
   "execution_count": 56,
   "id": "d77092cc-137d-431a-a799-f75f19f48e48",
   "metadata": {},
   "outputs": [
    {
     "name": "stdout",
     "output_type": "stream",
     "text": [
      "['India', 'Africa', 'America', 'Sri lanka', 'mango', 'ice cream', 'corn', 'fruits']\n"
     ]
    }
   ],
   "source": [
    "print(list_2)"
   ]
  },
  {
   "cell_type": "code",
   "execution_count": 57,
   "id": "ed22c27b-5099-488b-8f00-970cd7f43959",
   "metadata": {},
   "outputs": [
    {
     "data": {
      "text/plain": [
       "'fruits'"
      ]
     },
     "execution_count": 57,
     "metadata": {},
     "output_type": "execute_result"
    }
   ],
   "source": [
    "list_2.pop()"
   ]
  },
  {
   "cell_type": "code",
   "execution_count": 58,
   "id": "360457ca-2728-4419-a168-93528daf9646",
   "metadata": {},
   "outputs": [],
   "source": [
    "poped_elemnt = list_2.pop()"
   ]
  },
  {
   "cell_type": "code",
   "execution_count": 59,
   "id": "a3bd2175-6fbf-4a15-95a8-5be8be77262e",
   "metadata": {},
   "outputs": [
    {
     "data": {
      "text/plain": [
       "'corn'"
      ]
     },
     "execution_count": 59,
     "metadata": {},
     "output_type": "execute_result"
    }
   ],
   "source": [
    "poped_elemnt"
   ]
  },
  {
   "cell_type": "code",
   "execution_count": 61,
   "id": "7a378ec2-5990-4768-a003-4a84d14c9fec",
   "metadata": {},
   "outputs": [
    {
     "name": "stdout",
     "output_type": "stream",
     "text": [
      "['India', 'Africa', 'America', 'Sri lanka', 'mango', 'ice cream']\n"
     ]
    }
   ],
   "source": [
    "print(list_2)"
   ]
  },
  {
   "cell_type": "code",
   "execution_count": 62,
   "id": "ed52b9d1-1779-44a7-98c5-2b4366842908",
   "metadata": {},
   "outputs": [],
   "source": [
    "poped_elemnt = list_2.pop(4)"
   ]
  },
  {
   "cell_type": "code",
   "execution_count": 63,
   "id": "3c6f6197-1bd3-44ce-be0e-0e8778140e05",
   "metadata": {},
   "outputs": [
    {
     "name": "stdout",
     "output_type": "stream",
     "text": [
      "mango\n"
     ]
    }
   ],
   "source": [
    "print(poped_elemnt)"
   ]
  },
  {
   "cell_type": "code",
   "execution_count": 64,
   "id": "c7564551-2675-42dc-b8f9-248b697dd94f",
   "metadata": {},
   "outputs": [
    {
     "name": "stdout",
     "output_type": "stream",
     "text": [
      "['India', 'Africa', 'America', 'Sri lanka', 'ice cream']\n"
     ]
    }
   ],
   "source": [
    "print(list_2)"
   ]
  },
  {
   "cell_type": "code",
   "execution_count": 65,
   "id": "1754ce07-fff1-4ef9-a2ea-6bf591e2152b",
   "metadata": {},
   "outputs": [
    {
     "data": {
      "text/plain": [
       "['a', 'b', 'd', 'd', 'z']"
      ]
     },
     "execution_count": 65,
     "metadata": {},
     "output_type": "execute_result"
    }
   ],
   "source": [
    "list_3"
   ]
  },
  {
   "cell_type": "code",
   "execution_count": 66,
   "id": "656201f6-965c-4022-a769-efebe1c0b1dd",
   "metadata": {},
   "outputs": [],
   "source": [
    "list_3.clear()"
   ]
  },
  {
   "cell_type": "code",
   "execution_count": 67,
   "id": "d14a1159-a768-496a-9aae-1fd8e3fff2be",
   "metadata": {},
   "outputs": [
    {
     "name": "stdout",
     "output_type": "stream",
     "text": [
      "[]\n"
     ]
    }
   ],
   "source": [
    "print(list_3)"
   ]
  },
  {
   "cell_type": "code",
   "execution_count": 68,
   "id": "69935159-fd66-45bc-a2ec-137486daef37",
   "metadata": {},
   "outputs": [
    {
     "data": {
      "text/plain": [
       "['Mango', 'ice cream', 'Avacardo', 'corn', 'fruits']"
      ]
     },
     "execution_count": 68,
     "metadata": {},
     "output_type": "execute_result"
    }
   ],
   "source": [
    "list_1"
   ]
  },
  {
   "cell_type": "code",
   "execution_count": 69,
   "id": "c12a07f2-29b0-4d1b-aee9-b2257ccbde6f",
   "metadata": {},
   "outputs": [
    {
     "data": {
      "text/plain": [
       "'fruits'"
      ]
     },
     "execution_count": 69,
     "metadata": {},
     "output_type": "execute_result"
    }
   ],
   "source": [
    "list_1[-1]"
   ]
  },
  {
   "cell_type": "code",
   "execution_count": 70,
   "id": "ed1e2b5d-829d-4c5a-8da2-31b70dcf197a",
   "metadata": {},
   "outputs": [],
   "source": [
    "del list_1[-1]"
   ]
  },
  {
   "cell_type": "code",
   "execution_count": 71,
   "id": "24887086-e48a-4315-8eb6-f6dae31e25a7",
   "metadata": {},
   "outputs": [
    {
     "data": {
      "text/plain": [
       "['Mango', 'ice cream', 'Avacardo', 'corn']"
      ]
     },
     "execution_count": 71,
     "metadata": {},
     "output_type": "execute_result"
    }
   ],
   "source": [
    "list_1"
   ]
  },
  {
   "cell_type": "code",
   "execution_count": 72,
   "id": "47b9c63d-986a-47d1-93d6-d287696876d8",
   "metadata": {},
   "outputs": [],
   "source": [
    "del list_1"
   ]
  },
  {
   "cell_type": "code",
   "execution_count": 73,
   "id": "07e07568-d2c3-4f76-a7e5-220adb20a276",
   "metadata": {},
   "outputs": [
    {
     "ename": "NameError",
     "evalue": "name 'list_1' is not defined",
     "output_type": "error",
     "traceback": [
      "\u001b[31m---------------------------------------------------------------------------\u001b[39m",
      "\u001b[31mNameError\u001b[39m                                 Traceback (most recent call last)",
      "\u001b[36mCell\u001b[39m\u001b[36m \u001b[39m\u001b[32mIn[73]\u001b[39m\u001b[32m, line 1\u001b[39m\n\u001b[32m----> \u001b[39m\u001b[32m1\u001b[39m \u001b[38;5;28mprint\u001b[39m(\u001b[43mlist_1\u001b[49m)\n",
      "\u001b[31mNameError\u001b[39m: name 'list_1' is not defined"
     ]
    }
   ],
   "source": [
    "print(list_1)"
   ]
  },
  {
   "cell_type": "code",
   "execution_count": null,
   "id": "7664e37b-eabf-49f4-b63d-08d326167392",
   "metadata": {},
   "outputs": [],
   "source": [
    "# Tuple"
   ]
  },
  {
   "cell_type": "code",
   "execution_count": 75,
   "id": "442aa4b1-24a0-46be-8756-8ab24971dddf",
   "metadata": {},
   "outputs": [],
   "source": [
    "tuple_1 = ()"
   ]
  },
  {
   "cell_type": "code",
   "execution_count": 76,
   "id": "f03ee506-5ff0-42ca-a68e-28fd305b7041",
   "metadata": {},
   "outputs": [
    {
     "name": "stdout",
     "output_type": "stream",
     "text": [
      "()\n"
     ]
    }
   ],
   "source": [
    "print(tuple_1)"
   ]
  },
  {
   "cell_type": "code",
   "execution_count": 77,
   "id": "f9fbe510-45ee-43d5-9bf9-967ae8a8a9ad",
   "metadata": {},
   "outputs": [
    {
     "data": {
      "text/plain": [
       "tuple"
      ]
     },
     "execution_count": 77,
     "metadata": {},
     "output_type": "execute_result"
    }
   ],
   "source": [
    "type(tuple_1)"
   ]
  },
  {
   "cell_type": "code",
   "execution_count": 78,
   "id": "e5d4bb38-f81c-4743-bb63-08721da2a6ae",
   "metadata": {},
   "outputs": [
    {
     "ename": "AttributeError",
     "evalue": "'tuple' object has no attribute 'append'",
     "output_type": "error",
     "traceback": [
      "\u001b[31m---------------------------------------------------------------------------\u001b[39m",
      "\u001b[31mAttributeError\u001b[39m                            Traceback (most recent call last)",
      "\u001b[36mCell\u001b[39m\u001b[36m \u001b[39m\u001b[32mIn[78]\u001b[39m\u001b[32m, line 1\u001b[39m\n\u001b[32m----> \u001b[39m\u001b[32m1\u001b[39m \u001b[43mtuple_1\u001b[49m\u001b[43m.\u001b[49m\u001b[43mappend\u001b[49m(\u001b[33m\"\u001b[39m\u001b[33mHey\u001b[39m\u001b[33m\"\u001b[39m)\n",
      "\u001b[31mAttributeError\u001b[39m: 'tuple' object has no attribute 'append'"
     ]
    }
   ],
   "source": [
    "tuple_1.append(\"Hey\")"
   ]
  },
  {
   "cell_type": "code",
   "execution_count": 79,
   "id": "258ff764-fd37-4c80-add3-da5e0225ee8e",
   "metadata": {
    "collapsed": true,
    "jupyter": {
     "outputs_hidden": true
    }
   },
   "outputs": [
    {
     "name": "stdout",
     "output_type": "stream",
     "text": [
      "Help on class tuple in module builtins:\n",
      "\n",
      "class tuple(object)\n",
      " |  tuple(iterable=(), /)\n",
      " |\n",
      " |  Built-in immutable sequence.\n",
      " |\n",
      " |  If no argument is given, the constructor returns an empty tuple.\n",
      " |  If iterable is specified the tuple is initialized from iterable's items.\n",
      " |\n",
      " |  If the argument is a tuple, the return value is the same object.\n",
      " |\n",
      " |  Built-in subclasses:\n",
      " |      asyncgen_hooks\n",
      " |      UnraisableHookArgs\n",
      " |\n",
      " |  Methods defined here:\n",
      " |\n",
      " |  __add__(self, value, /)\n",
      " |      Return self+value.\n",
      " |\n",
      " |  __contains__(self, key, /)\n",
      " |      Return bool(key in self).\n",
      " |\n",
      " |  __eq__(self, value, /)\n",
      " |      Return self==value.\n",
      " |\n",
      " |  __ge__(self, value, /)\n",
      " |      Return self>=value.\n",
      " |\n",
      " |  __getattribute__(self, name, /)\n",
      " |      Return getattr(self, name).\n",
      " |\n",
      " |  __getitem__(self, key, /)\n",
      " |      Return self[key].\n",
      " |\n",
      " |  __getnewargs__(self, /)\n",
      " |\n",
      " |  __gt__(self, value, /)\n",
      " |      Return self>value.\n",
      " |\n",
      " |  __hash__(self, /)\n",
      " |      Return hash(self).\n",
      " |\n",
      " |  __iter__(self, /)\n",
      " |      Implement iter(self).\n",
      " |\n",
      " |  __le__(self, value, /)\n",
      " |      Return self<=value.\n",
      " |\n",
      " |  __len__(self, /)\n",
      " |      Return len(self).\n",
      " |\n",
      " |  __lt__(self, value, /)\n",
      " |      Return self<value.\n",
      " |\n",
      " |  __mul__(self, value, /)\n",
      " |      Return self*value.\n",
      " |\n",
      " |  __ne__(self, value, /)\n",
      " |      Return self!=value.\n",
      " |\n",
      " |  __repr__(self, /)\n",
      " |      Return repr(self).\n",
      " |\n",
      " |  __rmul__(self, value, /)\n",
      " |      Return value*self.\n",
      " |\n",
      " |  count(self, value, /)\n",
      " |      Return number of occurrences of value.\n",
      " |\n",
      " |  index(self, value, start=0, stop=9223372036854775807, /)\n",
      " |      Return first index of value.\n",
      " |\n",
      " |      Raises ValueError if the value is not present.\n",
      " |\n",
      " |  ----------------------------------------------------------------------\n",
      " |  Class methods defined here:\n",
      " |\n",
      " |  __class_getitem__(object, /)\n",
      " |      See PEP 585\n",
      " |\n",
      " |  ----------------------------------------------------------------------\n",
      " |  Static methods defined here:\n",
      " |\n",
      " |  __new__(*args, **kwargs)\n",
      " |      Create and return a new object.  See help(type) for accurate signature.\n",
      "\n"
     ]
    }
   ],
   "source": [
    "help(tuple)"
   ]
  },
  {
   "cell_type": "code",
   "execution_count": 80,
   "id": "cef08b96-3d83-48fb-bfba-1b19b77ca467",
   "metadata": {},
   "outputs": [],
   "source": [
    "# tuple is non-changeble\n",
    "tuple_2 = (1, \"hero\") "
   ]
  },
  {
   "cell_type": "code",
   "execution_count": 81,
   "id": "98c42cae-2461-47b4-8554-e69b39975dc3",
   "metadata": {},
   "outputs": [
    {
     "data": {
      "text/plain": [
       "1"
      ]
     },
     "execution_count": 81,
     "metadata": {},
     "output_type": "execute_result"
    }
   ],
   "source": [
    "tuple_2[0]"
   ]
  },
  {
   "cell_type": "code",
   "execution_count": 82,
   "id": "f8cf934d-7de1-4dc5-9c83-0424f45f1e80",
   "metadata": {},
   "outputs": [
    {
     "data": {
      "text/plain": [
       "'hero'"
      ]
     },
     "execution_count": 82,
     "metadata": {},
     "output_type": "execute_result"
    }
   ],
   "source": [
    "tuple_2[1]"
   ]
  },
  {
   "cell_type": "code",
   "execution_count": 83,
   "id": "253f9063-620e-4d4f-a1a3-ea98a41ef9a9",
   "metadata": {},
   "outputs": [
    {
     "data": {
      "text/plain": [
       "'hero'"
      ]
     },
     "execution_count": 83,
     "metadata": {},
     "output_type": "execute_result"
    }
   ],
   "source": [
    "tuple_2[-1]"
   ]
  },
  {
   "cell_type": "code",
   "execution_count": 84,
   "id": "74baf9f3-9eee-4482-9063-7398de397d04",
   "metadata": {},
   "outputs": [
    {
     "data": {
      "text/plain": [
       "1"
      ]
     },
     "execution_count": 84,
     "metadata": {},
     "output_type": "execute_result"
    }
   ],
   "source": [
    "tuple_2.index(\"hero\")"
   ]
  },
  {
   "cell_type": "code",
   "execution_count": 85,
   "id": "d0ec91b8-7351-42d8-b28c-f2dddab40611",
   "metadata": {},
   "outputs": [
    {
     "data": {
      "text/plain": [
       "3"
      ]
     },
     "execution_count": 85,
     "metadata": {},
     "output_type": "execute_result"
    }
   ],
   "source": [
    "tuple_3 = (1, 1, 1, 2, 2, 5)\n",
    "tuple_3.count(1)"
   ]
  },
  {
   "cell_type": "code",
   "execution_count": null,
   "id": "e5752102-15e6-4b7b-b6e3-711f21c90291",
   "metadata": {},
   "outputs": [],
   "source": []
  },
  {
   "cell_type": "code",
   "execution_count": 87,
   "id": "e0686b74-e27f-464e-91ac-cd97e281bf31",
   "metadata": {},
   "outputs": [
    {
     "data": {
      "text/plain": [
       "2"
      ]
     },
     "execution_count": 87,
     "metadata": {},
     "output_type": "execute_result"
    }
   ],
   "source": [
    "tuple_3.count(2)"
   ]
  },
  {
   "cell_type": "code",
   "execution_count": 88,
   "id": "7807d11d-ce72-4f1c-9055-6f8c0ef3347f",
   "metadata": {},
   "outputs": [
    {
     "data": {
      "text/plain": [
       "1"
      ]
     },
     "execution_count": 88,
     "metadata": {},
     "output_type": "execute_result"
    }
   ],
   "source": [
    "tuple_3.count(5)"
   ]
  },
  {
   "cell_type": "code",
   "execution_count": null,
   "id": "28821e6e-1a7d-4d2d-b56a-b0c42bd901c8",
   "metadata": {},
   "outputs": [],
   "source": [
    "# all the primetive data types are immutable\n",
    "# tuple is immutable"
   ]
  },
  {
   "cell_type": "code",
   "execution_count": 89,
   "id": "a3866ea9-690d-4675-a4e1-d2177e21ce65",
   "metadata": {},
   "outputs": [
    {
     "name": "stdout",
     "output_type": "stream",
     "text": [
      "<class 'int'>\n",
      "140732810987112\n",
      "140732810987112\n"
     ]
    }
   ],
   "source": [
    "# integer\n",
    "a = 23\n",
    "print(type(a))\n",
    "print(id(a))\n",
    "b = 23\n",
    "print(id(b))"
   ]
  },
  {
   "cell_type": "code",
   "execution_count": 90,
   "id": "8346dc3a-0df0-4501-a2fb-e2ee4dc23856",
   "metadata": {
    "jupyter": {
     "source_hidden": true
    }
   },
   "outputs": [
    {
     "name": "stdout",
     "output_type": "stream",
     "text": [
      "True\n",
      "False\n"
     ]
    }
   ],
   "source": [
    "t1 = (1, 2)\n",
    "t2 = (1, 2)\n",
    "\n",
    "print(t1 == t2)\n",
    "# print(id(t1))\n",
    "# print(id(t2))\n",
    "print(t1 is t2)"
   ]
  },
  {
   "cell_type": "code",
   "execution_count": 92,
   "id": "007d7e4f-4093-4633-bc36-33ec80fabde0",
   "metadata": {},
   "outputs": [],
   "source": [
    "# dictionary\n",
    "dict_1 = {}"
   ]
  },
  {
   "cell_type": "code",
   "execution_count": 93,
   "id": "9739f6c2-7eaa-42d5-a6d7-58f74574c6bc",
   "metadata": {},
   "outputs": [
    {
     "data": {
      "text/plain": [
       "dict"
      ]
     },
     "execution_count": 93,
     "metadata": {},
     "output_type": "execute_result"
    }
   ],
   "source": [
    "type(dict_1)"
   ]
  },
  {
   "cell_type": "code",
   "execution_count": null,
   "id": "3c3c7045-0389-4d32-910d-a1571a300d08",
   "metadata": {},
   "outputs": [],
   "source": [
    "# dictionary is changeble\n",
    "# it is mutable\n",
    "# it is a collection of key value pair\n",
    "# the keys of dictionry has to be immutable\n",
    "# the values of dictionary can be mutable or immutable\n",
    "# It doesnot allow duplicate keys"
   ]
  },
  {
   "cell_type": "code",
   "execution_count": 94,
   "id": "5fb73c37-4c59-46bc-95f8-dad7e77665bc",
   "metadata": {},
   "outputs": [],
   "source": [
    "dict_1[tuple_2] = [1, 2, 3]"
   ]
  },
  {
   "cell_type": "code",
   "execution_count": 95,
   "id": "5b4a256a-7f4a-4a1e-8832-6e1fb3c7252d",
   "metadata": {},
   "outputs": [
    {
     "name": "stdout",
     "output_type": "stream",
     "text": [
      "{(1, 'hero'): [1, 2, 3]}\n"
     ]
    }
   ],
   "source": [
    "print(dict_1)"
   ]
  },
  {
   "cell_type": "code",
   "execution_count": 96,
   "id": "f625e411-8118-491f-9792-c47c0afc6805",
   "metadata": {},
   "outputs": [],
   "source": [
    "dict_1[\"sneha\"] = \"student\""
   ]
  },
  {
   "cell_type": "code",
   "execution_count": 97,
   "id": "13dd782f-1f19-48b6-b5b7-4d83c99fc838",
   "metadata": {},
   "outputs": [
    {
     "name": "stdout",
     "output_type": "stream",
     "text": [
      "{(1, 'hero'): [1, 2, 3], 'sneha': 'student'}\n"
     ]
    }
   ],
   "source": [
    "print(dict_1)"
   ]
  },
  {
   "cell_type": "code",
   "execution_count": 98,
   "id": "e10832a7-8115-439f-b316-5a4077929c9b",
   "metadata": {},
   "outputs": [
    {
     "data": {
      "text/plain": [
       "2"
      ]
     },
     "execution_count": 98,
     "metadata": {},
     "output_type": "execute_result"
    }
   ],
   "source": [
    "len(dict_1)"
   ]
  },
  {
   "cell_type": "code",
   "execution_count": 99,
   "id": "fe8e77b7-ec7a-45c6-bd50-cf28787de5db",
   "metadata": {},
   "outputs": [
    {
     "data": {
      "text/plain": [
       "'student'"
      ]
     },
     "execution_count": 99,
     "metadata": {},
     "output_type": "execute_result"
    }
   ],
   "source": [
    "dict_1['sneha']"
   ]
  },
  {
   "cell_type": "code",
   "execution_count": 100,
   "id": "19fda264-3914-4f4c-9631-fa8dcaaae189",
   "metadata": {},
   "outputs": [
    {
     "ename": "KeyError",
     "evalue": "'sakhar'",
     "output_type": "error",
     "traceback": [
      "\u001b[31m---------------------------------------------------------------------------\u001b[39m",
      "\u001b[31mKeyError\u001b[39m                                  Traceback (most recent call last)",
      "\u001b[36mCell\u001b[39m\u001b[36m \u001b[39m\u001b[32mIn[100]\u001b[39m\u001b[32m, line 1\u001b[39m\n\u001b[32m----> \u001b[39m\u001b[32m1\u001b[39m \u001b[43mdict_1\u001b[49m\u001b[43m[\u001b[49m\u001b[33;43m'\u001b[39;49m\u001b[33;43msakhar\u001b[39;49m\u001b[33;43m'\u001b[39;49m\u001b[43m]\u001b[49m\n",
      "\u001b[31mKeyError\u001b[39m: 'sakhar'"
     ]
    }
   ],
   "source": [
    "dict_1['sakhar']"
   ]
  },
  {
   "cell_type": "code",
   "execution_count": 101,
   "id": "aa20f134-12d1-4a35-a614-c654c6e1037e",
   "metadata": {},
   "outputs": [
    {
     "data": {
      "text/plain": [
       "'student'"
      ]
     },
     "execution_count": 101,
     "metadata": {},
     "output_type": "execute_result"
    }
   ],
   "source": [
    "dict_1.get('sneha')"
   ]
  },
  {
   "cell_type": "code",
   "execution_count": 102,
   "id": "ad1ebafe-6fa9-482c-b047-f9ed224067b0",
   "metadata": {},
   "outputs": [],
   "source": [
    "dict_1.get('sakhar')"
   ]
  },
  {
   "cell_type": "code",
   "execution_count": 103,
   "id": "55d6d69b-2ac2-43ea-9868-36e9c0e4a475",
   "metadata": {},
   "outputs": [
    {
     "data": {
      "text/plain": [
       "'no-value'"
      ]
     },
     "execution_count": 103,
     "metadata": {},
     "output_type": "execute_result"
    }
   ],
   "source": [
    "dict_1.get('sakhar', \"no-value\")"
   ]
  },
  {
   "cell_type": "code",
   "execution_count": 104,
   "id": "72641c47-b92d-4972-8059-7ba1d798efad",
   "metadata": {},
   "outputs": [],
   "source": [
    "d = {}"
   ]
  },
  {
   "cell_type": "code",
   "execution_count": 105,
   "id": "00a36e70-9eb2-4ade-9f1f-06ccb59599e2",
   "metadata": {},
   "outputs": [],
   "source": [
    "d.update({\"ABCD\": 1234})"
   ]
  },
  {
   "cell_type": "code",
   "execution_count": 106,
   "id": "0151e2fa-d52f-45f3-aa05-ce408a069584",
   "metadata": {},
   "outputs": [
    {
     "name": "stdout",
     "output_type": "stream",
     "text": [
      "{'ABCD': 1234}\n"
     ]
    }
   ],
   "source": [
    "print(d)"
   ]
  },
  {
   "cell_type": "code",
   "execution_count": 107,
   "id": "f4cb6fa1-ad5d-4b20-9849-b2ea76e1e7ae",
   "metadata": {},
   "outputs": [
    {
     "ename": "TypeError",
     "evalue": "unhashable type: 'list'",
     "output_type": "error",
     "traceback": [
      "\u001b[31m---------------------------------------------------------------------------\u001b[39m",
      "\u001b[31mTypeError\u001b[39m                                 Traceback (most recent call last)",
      "\u001b[36mCell\u001b[39m\u001b[36m \u001b[39m\u001b[32mIn[107]\u001b[39m\u001b[32m, line 1\u001b[39m\n\u001b[32m----> \u001b[39m\u001b[32m1\u001b[39m d.update({[\u001b[32m1\u001b[39m,\u001b[32m3\u001b[39m]:\u001b[33m\"\u001b[39m\u001b[33mhello\u001b[39m\u001b[33m\"\u001b[39m})\n",
      "\u001b[31mTypeError\u001b[39m: unhashable type: 'list'"
     ]
    }
   ],
   "source": [
    "d.update({[1,3]:\"hello\"})"
   ]
  },
  {
   "cell_type": "code",
   "execution_count": 109,
   "id": "8afe7c5c-dbb9-445e-a277-a249cb097f50",
   "metadata": {},
   "outputs": [],
   "source": [
    "d.update({1234: \"xyz\"})"
   ]
  },
  {
   "cell_type": "code",
   "execution_count": 110,
   "id": "7630d00e-b92a-4fb5-b8e1-5fcdb2ffcb23",
   "metadata": {},
   "outputs": [
    {
     "data": {
      "text/plain": [
       "{'ABCD': 1234, 1234: 'xyz'}"
      ]
     },
     "execution_count": 110,
     "metadata": {},
     "output_type": "execute_result"
    }
   ],
   "source": [
    "d"
   ]
  },
  {
   "cell_type": "code",
   "execution_count": 111,
   "id": "1a7edbdd-d764-4823-9a7e-7c233fd1ca93",
   "metadata": {},
   "outputs": [],
   "source": [
    "d[1234] = \"Sakhar\""
   ]
  },
  {
   "cell_type": "code",
   "execution_count": 112,
   "id": "6b567813-94ab-4ab6-b8e9-188b386bdfae",
   "metadata": {},
   "outputs": [
    {
     "name": "stdout",
     "output_type": "stream",
     "text": [
      "{'ABCD': 1234, 1234: 'Sakhar'}\n"
     ]
    }
   ],
   "source": [
    "print(d)"
   ]
  },
  {
   "cell_type": "code",
   "execution_count": 113,
   "id": "27b6e27a-b4d6-4480-9218-74146eb390c0",
   "metadata": {},
   "outputs": [
    {
     "data": {
      "text/plain": [
       "'Sakhar'"
      ]
     },
     "execution_count": 113,
     "metadata": {},
     "output_type": "execute_result"
    }
   ],
   "source": [
    "# delete value\n",
    "d.pop(1234)"
   ]
  },
  {
   "cell_type": "code",
   "execution_count": 114,
   "id": "5980033b-68c4-4d5e-afd1-ad2fd7f7af9e",
   "metadata": {},
   "outputs": [
    {
     "data": {
      "text/plain": [
       "{'ABCD': 1234}"
      ]
     },
     "execution_count": 114,
     "metadata": {},
     "output_type": "execute_result"
    }
   ],
   "source": [
    "d"
   ]
  },
  {
   "cell_type": "code",
   "execution_count": 115,
   "id": "8eb0919c-eec8-441c-bd9c-777723c5b946",
   "metadata": {},
   "outputs": [],
   "source": [
    "del d[\"ABCD\"]"
   ]
  },
  {
   "cell_type": "code",
   "execution_count": 116,
   "id": "e1d12413-251f-46b1-83f3-2c8ca3179b8e",
   "metadata": {},
   "outputs": [
    {
     "data": {
      "text/plain": [
       "{}"
      ]
     },
     "execution_count": 116,
     "metadata": {},
     "output_type": "execute_result"
    }
   ],
   "source": [
    "d"
   ]
  },
  {
   "cell_type": "code",
   "execution_count": 117,
   "id": "8c8112c7-16dd-4077-b302-89f590ecdf3a",
   "metadata": {},
   "outputs": [],
   "source": [
    "d[\"a\"] = 56"
   ]
  },
  {
   "cell_type": "code",
   "execution_count": 118,
   "id": "28b20e25-a72b-4c95-9fc3-87ddf57900be",
   "metadata": {},
   "outputs": [
    {
     "data": {
      "text/plain": [
       "{'a': 56}"
      ]
     },
     "execution_count": 118,
     "metadata": {},
     "output_type": "execute_result"
    }
   ],
   "source": [
    "d"
   ]
  },
  {
   "cell_type": "code",
   "execution_count": 119,
   "id": "12e9cb4d-b91e-4920-9730-829f8b3870ac",
   "metadata": {},
   "outputs": [],
   "source": [
    "d.clear()"
   ]
  },
  {
   "cell_type": "code",
   "execution_count": 120,
   "id": "04b8cef4-fdb9-4451-b8d8-555b5a7275b7",
   "metadata": {},
   "outputs": [
    {
     "data": {
      "text/plain": [
       "{}"
      ]
     },
     "execution_count": 120,
     "metadata": {},
     "output_type": "execute_result"
    }
   ],
   "source": [
    "d"
   ]
  },
  {
   "cell_type": "code",
   "execution_count": 121,
   "id": "329f184c-c7a9-47db-8f27-a07bbeb95f46",
   "metadata": {},
   "outputs": [],
   "source": [
    "# set"
   ]
  },
  {
   "cell_type": "code",
   "execution_count": 122,
   "id": "899a41c1-914c-4d9e-98f5-6a4478165c8c",
   "metadata": {},
   "outputs": [],
   "source": [
    "s = {1, 2, 3}"
   ]
  },
  {
   "cell_type": "code",
   "execution_count": null,
   "id": "b5c9676c-66f5-4214-856e-9c082b3ea6f7",
   "metadata": {},
   "outputs": [],
   "source": [
    "# set is mutable\n",
    "# it contains unique elements\n",
    "    # collection of keys\n",
    "# It is an unordered collection"
   ]
  },
  {
   "cell_type": "code",
   "execution_count": 123,
   "id": "d58b7caa-fea5-4281-8961-26fe211fcb90",
   "metadata": {},
   "outputs": [],
   "source": [
    "s = set()"
   ]
  },
  {
   "cell_type": "code",
   "execution_count": 124,
   "id": "b00e2dc9-78c6-4541-9853-af545e7217e1",
   "metadata": {},
   "outputs": [
    {
     "name": "stdout",
     "output_type": "stream",
     "text": [
      "<class 'dict'>\n"
     ]
    }
   ],
   "source": [
    "s = {}\n",
    "print(type(s))"
   ]
  },
  {
   "cell_type": "code",
   "execution_count": 126,
   "id": "0a216308-3d0c-43c5-8a5d-02c84062705b",
   "metadata": {},
   "outputs": [
    {
     "name": "stdout",
     "output_type": "stream",
     "text": [
      "<class 'set'>\n"
     ]
    }
   ],
   "source": [
    "s = set()\n",
    "print(type(s))"
   ]
  },
  {
   "cell_type": "code",
   "execution_count": 127,
   "id": "120bcc9f-089d-4fee-870a-67f61ab1ec26",
   "metadata": {},
   "outputs": [],
   "source": [
    "s.add(\"val1\")"
   ]
  },
  {
   "cell_type": "code",
   "execution_count": 129,
   "id": "49a3eb6b-37b8-4845-9538-f15996d1755d",
   "metadata": {},
   "outputs": [],
   "source": [
    "s.add(\"val2\")"
   ]
  },
  {
   "cell_type": "code",
   "execution_count": 130,
   "id": "202d73c5-0dd3-43ab-8b1a-558e598c5def",
   "metadata": {},
   "outputs": [],
   "source": [
    "s.add(1)"
   ]
  },
  {
   "cell_type": "code",
   "execution_count": 131,
   "id": "bf66945f-43e6-4aa3-b91c-745836ce7a87",
   "metadata": {},
   "outputs": [],
   "source": [
    "s.add(2)"
   ]
  },
  {
   "cell_type": "code",
   "execution_count": 132,
   "id": "2039075c-ecbf-4f62-9228-a47a78a395b8",
   "metadata": {},
   "outputs": [
    {
     "name": "stdout",
     "output_type": "stream",
     "text": [
      "{'val2', 2, 'val1', 1}\n"
     ]
    }
   ],
   "source": [
    "print(s)"
   ]
  },
  {
   "cell_type": "code",
   "execution_count": null,
   "id": "f861f4a8-8aec-4fd4-8f83-1bd4658c6ea4",
   "metadata": {},
   "outputs": [],
   "source": [
    "# set does not support indexing"
   ]
  },
  {
   "cell_type": "code",
   "execution_count": null,
   "id": "61b1201a-7f20-4d98-b330-f02fd59c55c8",
   "metadata": {},
   "outputs": [],
   "source": [
    "# Read more about sets\n",
    "# w3 school, programiz, chatgpt"
   ]
  },
  {
   "cell_type": "code",
   "execution_count": null,
   "id": "497bd39e-94fa-4f4d-a831-40d82e9c86bd",
   "metadata": {},
   "outputs": [],
   "source": [
    "# conditional statements"
   ]
  },
  {
   "cell_type": "code",
   "execution_count": null,
   "id": "7865f52e-c352-43db-b3f8-ba151d835930",
   "metadata": {},
   "outputs": [],
   "source": [
    "# logical conditions\n",
    "Equals: a == b\n",
    "Not Equals: a != b\n",
    "Less than: a < b\n",
    "More than: a > b\n",
    "Less than equal to: a <= b\n",
    "More than equal to: a >= b"
   ]
  },
  {
   "cell_type": "code",
   "execution_count": 135,
   "id": "7705a95f-161d-455f-ab36-ad0aa523a7be",
   "metadata": {},
   "outputs": [],
   "source": [
    "a = -1\n",
    "if a > 0:\n",
    "    print(f\"{a}  is positive\")"
   ]
  },
  {
   "cell_type": "code",
   "execution_count": null,
   "id": "ef958be3-ff01-4bd0-abb6-8798d7528b4a",
   "metadata": {},
   "outputs": [],
   "source": [
    "if <condtion>:\n",
    "----statement"
   ]
  },
  {
   "cell_type": "code",
   "execution_count": null,
   "id": "a03f11a5-8d4d-417c-b6e8-b8d194eb673d",
   "metadata": {},
   "outputs": [],
   "source": [
    "if <condition>:\n",
    "    statement 1\n",
    "else:\n",
    "    statement 2"
   ]
  },
  {
   "cell_type": "code",
   "execution_count": 136,
   "id": "2e599f5b-44e7-44e5-a35c-06aa1c56d9ab",
   "metadata": {},
   "outputs": [
    {
     "name": "stdin",
     "output_type": "stream",
     "text": [
      "Enter the number 5\n"
     ]
    },
    {
     "name": "stdout",
     "output_type": "stream",
     "text": [
      "5 is gt than zer\n"
     ]
    }
   ],
   "source": [
    "a = int(input(\"Enter the number\"))\n",
    "if a > 0:\n",
    "    print(f\"{a} is gt than zero\")\n",
    "else:\n",
    "    print(f\"{a} is less than or equal to zero\")"
   ]
  },
  {
   "cell_type": "code",
   "execution_count": 137,
   "id": "226599b0-0c99-4c47-9798-911802ac87f9",
   "metadata": {},
   "outputs": [
    {
     "name": "stdin",
     "output_type": "stream",
     "text": [
      "Enter the number -90\n"
     ]
    },
    {
     "name": "stdout",
     "output_type": "stream",
     "text": [
      "-90 is less than or equal to zero\n"
     ]
    }
   ],
   "source": [
    "a = int(input(\"Enter the number\"))\n",
    "if a > 0:\n",
    "    print(f\"{a} is gt than zero\")\n",
    "else:\n",
    "    print(f\"{a} is less than or equal to zero\")"
   ]
  },
  {
   "cell_type": "code",
   "execution_count": 138,
   "id": "e5385d9c-b220-4a77-b297-ed41dfcb4ed8",
   "metadata": {},
   "outputs": [
    {
     "name": "stdin",
     "output_type": "stream",
     "text": [
      "Enter the number 0\n"
     ]
    },
    {
     "name": "stdout",
     "output_type": "stream",
     "text": [
      "0 is less than or equal to zero\n"
     ]
    }
   ],
   "source": [
    "a = int(input(\"Enter the number\"))\n",
    "if a > 0:\n",
    "    print(f\"{a} is gt than zero\")\n",
    "else:\n",
    "    print(f\"{a} is less than or equal to zero\")"
   ]
  },
  {
   "cell_type": "code",
   "execution_count": 139,
   "id": "710a9162-322c-4595-9d5f-aa8215a366cb",
   "metadata": {},
   "outputs": [
    {
     "name": "stdin",
     "output_type": "stream",
     "text": [
      "Enter the number 0\n"
     ]
    },
    {
     "name": "stdout",
     "output_type": "stream",
     "text": [
      "a is zero\n"
     ]
    }
   ],
   "source": [
    "# if else ladder\n",
    "a = int(input(\"Enter the number\"))\n",
    "if a > 0:\n",
    "    print(f\"{a} is gt than zero\")\n",
    "elif a == 0:\n",
    "    print(\"a is zero\")\n",
    "else:\n",
    "    print(f\"{a} is less than or equal to zero\")"
   ]
  },
  {
   "cell_type": "code",
   "execution_count": 140,
   "id": "9562329d-ca18-4f6f-bfd8-e1f7a075a3ef",
   "metadata": {},
   "outputs": [
    {
     "name": "stdin",
     "output_type": "stream",
     "text": [
      "Enter the value a 2\n"
     ]
    },
    {
     "name": "stdout",
     "output_type": "stream",
     "text": [
      "2 is postive\n"
     ]
    }
   ],
   "source": [
    "# short hand if else\n",
    "a = int(input(\"Enter the value a\"))\n",
    "print(f\"{a} is postive\" if a > 0 else f\"{a} is less than or equal to zero\")"
   ]
  },
  {
   "cell_type": "code",
   "execution_count": 141,
   "id": "c286f65c-950d-493c-b3d5-e0f7f6e234ca",
   "metadata": {},
   "outputs": [
    {
     "name": "stdin",
     "output_type": "stream",
     "text": [
      "Enter the value a -1\n"
     ]
    },
    {
     "name": "stdout",
     "output_type": "stream",
     "text": [
      "-1 is less than or equal to zero\n"
     ]
    }
   ],
   "source": [
    "a = int(input(\"Enter the value a\"))\n",
    "print(f\"{a} is postive\" if a > 0 else f\"{a} is less than or equal to zero\")"
   ]
  },
  {
   "cell_type": "code",
   "execution_count": null,
   "id": "77b5bc6c-847f-46d2-b2a1-e67075dc1795",
   "metadata": {},
   "outputs": [],
   "source": [
    "statemnt1 if <condition> else statement2"
   ]
  },
  {
   "cell_type": "code",
   "execution_count": null,
   "id": "29487fc6-7665-4b83-a6ce-184a25983401",
   "metadata": {},
   "outputs": [],
   "source": [
    "# H/W 1 : figure out how to find the index value of other occurences of redundant elements\n",
    "# H/w 2 : Read on sets\n",
    "# H/W 3 : Read on if else\n",
    "# H/W 4: Read on operators"
   ]
  }
 ],
 "metadata": {
  "kernelspec": {
   "display_name": "Python 3 (ipykernel)",
   "language": "python",
   "name": "python3"
  },
  "language_info": {
   "codemirror_mode": {
    "name": "ipython",
    "version": 3
   },
   "file_extension": ".py",
   "mimetype": "text/x-python",
   "name": "python",
   "nbconvert_exporter": "python",
   "pygments_lexer": "ipython3",
   "version": "3.13.2"
  }
 },
 "nbformat": 4,
 "nbformat_minor": 5
}
